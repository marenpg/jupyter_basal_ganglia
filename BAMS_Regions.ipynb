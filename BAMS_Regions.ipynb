{
 "cells": [
  {
   "cell_type": "code",
   "execution_count": 48,
   "metadata": {},
   "outputs": [
    {
     "name": "stdout",
     "output_type": "stream",
     "text": [
      "Converted all regions from xlsx to csv\n"
     ]
    }
   ],
   "source": [
    "## Convert mapping from xlsx to CSV\n",
    "import pandas as pd\n",
    "\n",
    "files = [\n",
    "    (\"Data/BAMS_database/bams2_connectivity.xlsx\", \"All regions connected\", \"Data/csvs/bams2_connectivity/bams2_mapping.csv\", {}),\n",
    "]\n",
    "\n",
    "for xlsx, sheet, csv, converters in files:\n",
    "    data_xls = pd.read_excel(xlsx, sheet, index_col=None, converters = converters)\n",
    "    data_xls.to_csv(csv, encoding='utf-8')\n",
    "    \n",
    "print(\"Converted all regions from xlsx to csv\")"
   ]
  },
  {
   "cell_type": "code",
   "execution_count": 1,
   "metadata": {},
   "outputs": [],
   "source": [
    "from neo4j import GraphDatabase, basic_auth\n",
    "from dotenv import load_dotenv\n",
    "import os\n",
    "\n",
    "load_dotenv()\n",
    "\n",
    "neo4jUser = os.getenv(\"NEO4J_USER\")\n",
    "neo4jPwd = os.getenv(\"NEO4J_PASSWORD\")\n",
    "\n",
    "driver = GraphDatabase.driver(\"bolt://localhost:7687\",auth=basic_auth(neo4jUser, neo4jPwd))"
   ]
  },
  {
   "cell_type": "code",
   "execution_count": null,
   "metadata": {},
   "outputs": [],
   "source": []
  },
  {
   "cell_type": "code",
   "execution_count": 11,
   "metadata": {},
   "outputs": [],
   "source": [
    "def get_count_of_type(label, session):\n",
    "    q = \"MATCH (n:%s) RETURN count(n)\" % label\n",
    "    res = session.run(q)\n",
    "    print(\"Added\", res.value()[0], \"nodes of type\", label)\n",
    "    \n",
    "def get_count_of_relationship(label, session):\n",
    "    q = \"MATCH ()-[r:%s]-() RETURN count(*)\" %label\n",
    "    res = session.run(q)\n",
    "    print(\"Added\", res.value()[0], \"relationships of type\", label)\n",
    "\n",
    "def get_csv_path(csv_file):\n",
    "    path_all_csv = os.path.realpath(\"Data/csvs/bams2_connectivity\")\n",
    "    return os.path.join(path_all_csv, csv_file).replace(\"\\\\\",\"/\")"
   ]
  },
  {
   "cell_type": "code",
   "execution_count": 50,
   "metadata": {},
   "outputs": [],
   "source": [
    "import pandas as pd\n",
    "\n",
    "## Load csv\n",
    "csv_file_path = \"file:///%s\" % get_csv_path(\"bams2_mapping.csv\")\n",
    "df = pd.read_csv(csv_file_path)\n",
    "\n",
    "class Region:\n",
    "    \n",
    "    def __init__(self, reg_id, name, abbr):\n",
    "        self.id = reg_id\n",
    "        self.name = name\n",
    "        self.abbreviation = abbr\n",
    "        self.relates_to = []\n",
    "        \n",
    "    def setRelatesTo(self, region_ids):\n",
    "        self.relates_to = region_ids\n",
    "        \n",
    "    \n",
    "    \n",
    "bams_regions = {}\n",
    "relation_types = {\"part of\": 1, \"overlapping\": 2, \"identical\": 3, \"includes\": 4}\n",
    "\n",
    "for index, row in df.iterrows():\n",
    "    if(pd.isnull(row[\"All sorted\"])):\n",
    "        continue\n",
    "    name_split =  row[\"All sorted\"].split(\"(\")\n",
    "    name = name_split[0].strip()\n",
    "    abbreviation = name_split[1][:-1]\n",
    "    reg_id = index+1\n",
    "    reg = Region(reg_id, name, abbreviation)\n",
    "    \n",
    "    # extract BG region ids\n",
    "    rel_str = row[\"Relates to\"]\n",
    "    \n",
    "    bg_ids = []\n",
    "    rel_str_splitted = rel_str.split()\n",
    "    for j in range(len(rel_str_splitted)):\n",
    "        digit = rel_str_splitted[j]\n",
    "        if (digit.isdigit() and j < len(rel_str_splitted)-1 and rel_str_splitted[j+1].startswith(\"WHS\")):\n",
    "            bg_ids.append(digit)\n",
    "    \n",
    "    rel_types = row[\"Relation type\"].split(\", \")\n",
    "    \n",
    "    ## Add bg reltation to Bams region class\n",
    "    reg_relations = []\n",
    "    for i in range(len(bg_ids)):\n",
    "        reg_relations.append((bg_ids[i], rel_types[i]))\n",
    "    \n",
    "    reg.setRelatesTo(reg_relations)\n",
    "    \n",
    "    bams_regions[reg_id] = reg\n",
    "\n",
    "\n"
   ]
  },
  {
   "cell_type": "code",
   "execution_count": null,
   "metadata": {},
   "outputs": [],
   "source": [
    "## TODO NEXT: Add the new regions to BG region\n",
    "\n",
    "## THEN add the relationships"
   ]
  }
 ],
 "metadata": {
  "kernelspec": {
   "display_name": "Python 3",
   "language": "python",
   "name": "python3"
  },
  "language_info": {
   "codemirror_mode": {
    "name": "ipython",
    "version": 3
   },
   "file_extension": ".py",
   "mimetype": "text/x-python",
   "name": "python",
   "nbconvert_exporter": "python",
   "pygments_lexer": "ipython3",
   "version": "3.7.4"
  }
 },
 "nbformat": 4,
 "nbformat_minor": 4
}
