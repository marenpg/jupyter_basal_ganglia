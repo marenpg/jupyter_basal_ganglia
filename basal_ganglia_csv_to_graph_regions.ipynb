{
 "cells": [
  {
   "cell_type": "code",
   "execution_count": 2,
   "metadata": {},
   "outputs": [],
   "source": [
    "from neo4j import GraphDatabase, basic_auth\n",
    "import os\n",
    "\n",
    "driver = GraphDatabase.driver(\"bolt://localhost:7687\",auth=basic_auth(\"neo4j\", \"Kaffe1234\"))"
   ]
  },
  {
   "cell_type": "code",
   "execution_count": 3,
   "metadata": {},
   "outputs": [],
   "source": [
    "def get_count_of_type(label, session):\n",
    "    q = \"MATCH (n:%s) RETURN count(n)\" % label\n",
    "    res = session.run(q)\n",
    "    print(\"Added\", res.value()[0], \"nodes of type\", label)\n",
    "    \n",
    "def get_count_of_relationship(label, session):\n",
    "    q = \"MATCH ()-[r:%s]-() RETURN count(*)\" %label\n",
    "    res = session.run(q)\n",
    "    print(\"Added\", res.value()[0], \"relationships of type\", label)\n",
    "\n",
    "def get_csv_path(csv_file):\n",
    "    path_all_csv = os.path.realpath(\"Data/csvs/basal_ganglia/regions\")\n",
    "    return os.path.join(path_all_csv, csv_file).replace(\"\\\\\",\"/\")"
   ]
  },
  {
   "cell_type": "code",
   "execution_count": 4,
   "metadata": {},
   "outputs": [
    {
     "name": "stdout",
     "output_type": "stream",
     "text": [
      "wipeddatabase\n"
     ]
    }
   ],
   "source": [
    "# Deleting all region data in database\n",
    "with driver.session() as session:\n",
    "        session.run('''\n",
    "            MATCH (n)\n",
    "            WHERE  n:BrainRegion \n",
    "                OR n:RegionZone \n",
    "                OR n:RegionRecord \n",
    "                OR n:Nomenclature\n",
    "            DETACH DELETE n\n",
    "        ''')\n",
    "        print(\"wipeddatabase\")"
   ]
  },
  {
   "cell_type": "code",
   "execution_count": 5,
   "metadata": {},
   "outputs": [
    {
     "name": "stdout",
     "output_type": "stream",
     "text": [
      "Added 30 nodes of type BrainRegion\n"
     ]
    }
   ],
   "source": [
    "# Adding region to graph with BrainRegion label\n",
    "csv_file_path = \"file:///%s\" % get_csv_path(\"regions.csv\")\n",
    "query=\"\"\"\n",
    "        LOAD CSV WITH HEADERS FROM \"%s\" AS row\n",
    "        CREATE (:BrainRegion {id: row.ID, name: row.Region_name, preferred: 1})\n",
    "    \"\"\" % csv_file_path\n",
    "\n",
    "with driver.session() as session:    \n",
    "    session.run(query)\n",
    "    get_count_of_type(\"BrainRegion\", session)"
   ]
  },
  {
   "cell_type": "code",
   "execution_count": 6,
   "metadata": {},
   "outputs": [
    {
     "name": "stdout",
     "output_type": "stream",
     "text": [
      "Added 302 nodes of type BrainRegion\n"
     ]
    }
   ],
   "source": [
    "# Adding regions_other to graph with BrainRegion label\n",
    "csv_file_path = \"file:///%s\" % get_csv_path(\"regions_other.csv\")\n",
    "query=\"\"\"\n",
    "        LOAD CSV WITH HEADERS FROM \"%s\" AS row\n",
    "        CREATE (:BrainRegion {id: row.ID, name: row.Region_name, abbreviation: row.Abbreviation, comments: row.Comments, preferred: 0})\n",
    "    \"\"\" % csv_file_path\n",
    "\n",
    "with driver.session() as session:    \n",
    "    session.run(query)\n",
    "    get_count_of_type(\"BrainRegion\", session)"
   ]
  },
  {
   "cell_type": "code",
   "execution_count": 7,
   "metadata": {},
   "outputs": [
    {
     "name": "stdout",
     "output_type": "stream",
     "text": [
      "Added 313 nodes of type RegionRecord\n"
     ]
    }
   ],
   "source": [
    "# Adding region_records to graph with RegionRecord label\n",
    "csv_file_path = \"file:///%s\" % get_csv_path(\"region_records.csv\")\n",
    "query=\"\"\"\n",
    "        LOAD CSV WITH HEADERS FROM \"%s\" AS row\n",
    "        CREATE (:RegionRecord {id: row.ID, name: row.Region_record_name, coverage: row.Coverage, specificity: row.Specificity, no_original_regions: row.No_original_regions, original_region_retained: row.Original_region_retained, parcellation_scheme: row.Parcellation_scheme, atlas_coordinates: row.Atlas_coordinates, illustration: row.Illustration,semantic_description: row.Semantic_description, annotated_images: row.Annotated_images,regional_characteristics: row.Regional_characteristics,atlas_reg: row.Atlas_reg,serial_sections: row.Serial_sections,collectors_comment: row.Collectors_comment,original_framework: row.Original_framework,documentation_score: row.Documentation_score})\n",
    "    \"\"\" % csv_file_path\n",
    "\n",
    "with driver.session() as session:    \n",
    "    session.run(query)\n",
    "    get_count_of_type(\"RegionRecord\", session)"
   ]
  },
  {
   "cell_type": "code",
   "execution_count": 8,
   "metadata": {},
   "outputs": [
    {
     "name": "stdout",
     "output_type": "stream",
     "text": [
      "Added 3 nodes of type Nomenclature\n"
     ]
    }
   ],
   "source": [
    "# Adding nomebclatures to graph with Nomenclature label\n",
    "csv_file_path = \"file:///%s\" % get_csv_path(\"nomenclatures.csv\")\n",
    "query=\"\"\"\n",
    "        LOAD CSV WITH HEADERS FROM \"%s\" AS row\n",
    "        CREATE (:Nomenclature {id: row.ID, name: row.Nomenclature_name, version: row.Version, authors: row.Authors, published: row.Published, publication_type: row.Publication_type, doi: row.DOI})\n",
    "    \"\"\" % csv_file_path\n",
    "\n",
    "## TODO remember to add relationship to strain and species\n",
    "\n",
    "with driver.session() as session:    \n",
    "    session.run(query)\n",
    "    get_count_of_type(\"Nomenclature\", session)"
   ]
  },
  {
   "cell_type": "code",
   "execution_count": 9,
   "metadata": {},
   "outputs": [
    {
     "name": "stdout",
     "output_type": "stream",
     "text": [
      "Added 19 nodes of type Nomenclature\n"
     ]
    }
   ],
   "source": [
    "# Adding nomebclatures_other to graph with Nomenclature label\n",
    "csv_file_path = \"file:///%s\" % get_csv_path(\"nomenclatures_other.csv\")\n",
    "query=\"\"\"\n",
    "        LOAD CSV WITH HEADERS FROM \"%s\" AS row\n",
    "        CREATE (:Nomenclature {id: row.ID, name: row.Nomenclature_name, version: row.Version, authors: row.Authors, published: row.Published, publication_type: row.Publication_type })\n",
    "    \"\"\" % csv_file_path\n",
    "\n",
    "## TODO remember to add relationship to strain and species\n",
    "\n",
    "with driver.session() as session:    \n",
    "    session.run(query)\n",
    "    get_count_of_type(\"Nomenclature\", session)"
   ]
  },
  {
   "cell_type": "code",
   "execution_count": 10,
   "metadata": {},
   "outputs": [
    {
     "name": "stdout",
     "output_type": "stream",
     "text": [
      "Added 624 relationships of type PRIMARY_REGION\n"
     ]
    }
   ],
   "source": [
    "# Relationship PRIMARY_REGION between BrainRegion and RegionRecord\n",
    "csv_file_path = \"file:///%s\" % get_csv_path(\"region_records.csv\")\n",
    "query=\"\"\"\n",
    "        LOAD CSV WITH HEADERS FROM \"%s\" AS row\n",
    "        MATCH (a:RegionRecord {id: row.ID})\n",
    "        MATCH (c:BrainRegion {id: row.Region, preferred: 1 })\n",
    "        MERGE (a)-[:PRIMARY_REGION]->(c)\n",
    "    \"\"\" % csv_file_path\n",
    "\n",
    "with driver.session() as session:\n",
    "    session.run(query)\n",
    "    get_count_of_relationship(\"PRIMARY_REGION\", session)"
   ]
  },
  {
   "cell_type": "code",
   "execution_count": 11,
   "metadata": {},
   "outputs": [
    {
     "name": "stdout",
     "output_type": "stream",
     "text": [
      "Added 36 relationships of type SECONDARY_REGION\n"
     ]
    }
   ],
   "source": [
    "# Relationship SECONDARY_REGION between BrainRegion and RegionRecord\n",
    "csv_file_path = \"file:///%s\" % get_csv_path(\"region_records.csv\")\n",
    "query=\"\"\"\n",
    "        LOAD CSV WITH HEADERS FROM \"%s\" AS row\n",
    "        MATCH (a:RegionRecord {id: row.ID})\n",
    "        MATCH (c:BrainRegion {id: row.Secondary_region, preferred: 0 })\n",
    "        MERGE (a)-[:SECONDARY_REGION]->(c)\n",
    "    \"\"\" % csv_file_path\n",
    "\n",
    "with driver.session() as session:\n",
    "    session.run(query)\n",
    "    get_count_of_relationship(\"SECONDARY_REGION\", session)"
   ]
  },
  {
   "cell_type": "code",
   "execution_count": 13,
   "metadata": {},
   "outputs": [
    {
     "name": "stdout",
     "output_type": "stream",
     "text": [
      "Added 100 relationships of type NAMING\n"
     ]
    }
   ],
   "source": [
    "# Relationship NAMING between Regions and Nomenclature\n",
    "csv_file_path = \"file:///%s\" % get_csv_path(\"regions.csv\")\n",
    "query=\"\"\"\n",
    "        LOAD CSV WITH HEADERS FROM \"%s\" AS row\n",
    "        MATCH (a:BrainRegion {id: row.ID})\n",
    "        MATCH (c:Nomenclature {id: row.Nomenclature })\n",
    "        MERGE (a)-[:NAMING]->(c)\n",
    "    \"\"\" % csv_file_path\n",
    "\n",
    "with driver.session() as session:\n",
    "    session.run(query)\n",
    "    get_count_of_relationship(\"NAMING\", session)"
   ]
  },
  {
   "cell_type": "code",
   "execution_count": 14,
   "metadata": {},
   "outputs": [
    {
     "name": "stdout",
     "output_type": "stream",
     "text": [
      "Added 690 relationships of type NAMING\n"
     ]
    }
   ],
   "source": [
    "# Relationship NAMING between Regions_other and Nomenclatures_other\n",
    "csv_file_path = \"file:///%s\" % get_csv_path(\"regions_other.csv\")\n",
    "query=\"\"\"\n",
    "        LOAD CSV WITH HEADERS FROM \"%s\" AS row\n",
    "        MATCH (a:BrainRegion {id: row.ID})\n",
    "        MATCH (c:Nomenclature {id: row.Nomenclature })\n",
    "        MERGE (a)-[:NAMING]->(c)\n",
    "    \"\"\" % csv_file_path\n",
    "\n",
    "with driver.session() as session:\n",
    "    session.run(query)\n",
    "    get_count_of_relationship(\"NAMING\", session)"
   ]
  },
  {
   "cell_type": "code",
   "execution_count": 15,
   "metadata": {},
   "outputs": [
    {
     "name": "stdout",
     "output_type": "stream",
     "text": [
      "Added 574 relationships of type ORIGINAL_FRAMEWORK\n"
     ]
    }
   ],
   "source": [
    "# Relationship ORIGINAL_FRAMEWORK between Regions_records and Nomenclatures_other\n",
    "csv_file_path = \"file:///%s\" % get_csv_path(\"region_records.csv\")\n",
    "query=\"\"\"\n",
    "        LOAD CSV WITH HEADERS FROM \"%s\" AS row\n",
    "        MATCH (a:RegionRecord {id: row.ID})\n",
    "        MATCH (c:Nomenclature {id: row.Original_framework })\n",
    "        MERGE (a)-[:ORIGINAL_FRAMEWORK]->(c)\n",
    "    \"\"\" % csv_file_path\n",
    "\n",
    "with driver.session() as session:\n",
    "    session.run(query)\n",
    "    get_count_of_relationship(\"ORIGINAL_FRAMEWORK\", session)"
   ]
  },
  {
   "cell_type": "code",
   "execution_count": null,
   "metadata": {},
   "outputs": [],
   "source": [
    "# queries to view\n",
    "\n",
    "q = \"\"\"\n",
    "MATCH (n)\n",
    "WHERE n:BrainRegion OR n:Nomenclature OR n:RegionRecord\n",
    "RETURN n\n",
    "\"\"\""
   ]
  }
 ],
 "metadata": {
  "kernelspec": {
   "display_name": "Python 3",
   "language": "python",
   "name": "python3"
  },
  "language_info": {
   "codemirror_mode": {
    "name": "ipython",
    "version": 3
   },
   "file_extension": ".py",
   "mimetype": "text/x-python",
   "name": "python",
   "nbconvert_exporter": "python",
   "pygments_lexer": "ipython3",
   "version": "3.7.4"
  }
 },
 "nbformat": 4,
 "nbformat_minor": 4
}
