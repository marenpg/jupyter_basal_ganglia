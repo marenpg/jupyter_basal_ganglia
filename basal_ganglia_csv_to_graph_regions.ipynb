{
 "cells": [
  {
   "cell_type": "code",
   "execution_count": 51,
   "metadata": {},
   "outputs": [],
   "source": [
    "from neo4j import GraphDatabase, basic_auth\n",
    "import os\n",
    "\n",
    "driver = GraphDatabase.driver(\"bolt://localhost:7687\",auth=basic_auth(\"neo4j\", \"Kaffe1234\"))"
   ]
  },
  {
   "cell_type": "code",
   "execution_count": 52,
   "metadata": {},
   "outputs": [],
   "source": [
    "def get_count_of_type(label, session):\n",
    "    q = \"MATCH (n:%s) RETURN count(n)\" % label\n",
    "    res = session.run(q)\n",
    "    print(\"Added\", res.value()[0], \"nodes of type\", label)\n",
    "    \n",
    "def get_count_of_relationship(label, session):\n",
    "    q = \"MATCH ()-[r:%s]-() RETURN count(*)\" %label\n",
    "    res = session.run(q)\n",
    "    print(\"Added\", res.value()[0], \"relationships of type\", label)\n",
    "\n",
    "def get_csv_path(csv_file):\n",
    "    path_all_csv = os.path.realpath(\"Data/csvs/basal_ganglia/regions\")\n",
    "    return os.path.join(path_all_csv, csv_file).replace(\"\\\\\",\"/\")"
   ]
  },
  {
   "cell_type": "code",
   "execution_count": 53,
   "metadata": {},
   "outputs": [
    {
     "name": "stdout",
     "output_type": "stream",
     "text": [
      "wipeddatabase\n"
     ]
    }
   ],
   "source": [
    "# Deleting all region data in database\n",
    "with driver.session() as session:\n",
    "        session.run('''\n",
    "            MATCH (n)\n",
    "            WHERE  n:BrainRegion \n",
    "                OR n:RegionZone \n",
    "                OR n:RegionRecord \n",
    "                OR n:Nomenclature\n",
    "                OR n:RegionOther\n",
    "            DETACH DELETE n\n",
    "            \n",
    "        ''')\n",
    "        session.run('''\n",
    "            DROP CONSTRAINT ON (n:BrainRegion) ASSERT n.id IS UNIQUE\n",
    "            DROP INDEX ON :BrainRegion(name)\n",
    "            DROP CONSTRAINT ON (n:Nomenclature) ASSERT n.id IS UNIQUE\n",
    "            DROP INDEX ON :Nomenclature(name)\n",
    "            DROP CONSTRAINT ON (n:RegionOther) ASSERT n.id IS UNIQUE\n",
    "            DROP INDEX ON :RegionOther(name)\n",
    "        ''')\n",
    "        print(\"wipeddatabase\")"
   ]
  },
  {
   "cell_type": "code",
   "execution_count": 54,
   "metadata": {},
   "outputs": [
    {
     "name": "stdout",
     "output_type": "stream",
     "text": [
      "Added 30 nodes of type BrainRegion\n"
     ]
    }
   ],
   "source": [
    "# Adding regions to graph with BrainRegion label\n",
    "csv_file_path = \"file:///%s\" % get_csv_path(\"regions.csv\")\n",
    "query=\"\"\"\n",
    "        LOAD CSV WITH HEADERS FROM \"%s\" AS row\n",
    "        CREATE (d:BrainRegion {id: row.ID, name: row.Region_name, abbreviation: row.Abbreviation, comments: row.Comments})\n",
    "    \"\"\" % csv_file_path\n",
    "\n",
    "with driver.session() as session:    \n",
    "    session.run(\"CREATE CONSTRAINT ON (n:BrainRegion) ASSERT n.id IS UNIQUE\")\n",
    "    session.run(\"CREATE INDEX ON :BrainRegion(name)\")\n",
    "    session.run(query)\n",
    "    get_count_of_type(\"BrainRegion\", session)"
   ]
  },
  {
   "cell_type": "code",
   "execution_count": 55,
   "metadata": {},
   "outputs": [
    {
     "name": "stdout",
     "output_type": "stream",
     "text": [
      "Added 313 nodes of type RegionRecord\n"
     ]
    }
   ],
   "source": [
    "# Adding region_records to graph with RegionRecord label\n",
    "csv_file_path = \"file:///%s\" % get_csv_path(\"region_records.csv\")\n",
    "query=\"\"\"\n",
    "        LOAD CSV WITH HEADERS FROM \"%s\" AS row\n",
    "        CREATE (:RegionRecord { id: row.ID, name: row.Region_record_name, coverage: row.Coverage, specificity: row.Specificity, numberOfOriginalRegions: toInt(row.No_original_regions), originalRegionRetained: toInt(row.Original_region_retained), parcellationScheme: row.Parcellation_scheme, atlasCoordinates: row.Atlas_coordinates, illustration: row.Illustration, semanticDescription: row.Semantic_description, annotatedImages: row.Annotated_images, regionalCharacteristics: row.Regional_characteristics, isAtlasRegion: row.Atlas_reg, serialSections: row.Serial_sections, collectorsComment: row.Collectors_comment, documentationScore: toInt(row.Documentation_score)})\n",
    "    \"\"\" % csv_file_path\n",
    "\n",
    "with driver.session() as session:    \n",
    "    session.run(query)\n",
    "    get_count_of_type(\"RegionRecord\", session)"
   ]
  },
  {
   "cell_type": "code",
   "execution_count": 56,
   "metadata": {},
   "outputs": [
    {
     "name": "stdout",
     "output_type": "stream",
     "text": [
      "Added 79 nodes of type RegionZone\n"
     ]
    }
   ],
   "source": [
    "# Adding region_zones to graph with RegionZone label\n",
    "csv_file_path = \"file:///%s\" % get_csv_path(\"region_zones.csv\")\n",
    "query=\"\"\"\n",
    "        LOAD CSV WITH HEADERS FROM \"%s\" AS row\n",
    "        CREATE (:RegionZone { id: row.ID, name: row.Region_zone, ontology: row.Ontological_identifier})\n",
    "    \"\"\" % csv_file_path\n",
    "\n",
    "with driver.session() as session:    \n",
    "    session.run(query)\n",
    "    get_count_of_type(\"RegionZone\", session)"
   ]
  },
  {
   "cell_type": "code",
   "execution_count": 57,
   "metadata": {},
   "outputs": [
    {
     "name": "stdout",
     "output_type": "stream",
     "text": [
      "Added 3 nodes of type Nomenclature\n"
     ]
    }
   ],
   "source": [
    "# Adding nomenclatures to graph with Nomenclature label\n",
    "csv_file_path = \"file:///%s\" % get_csv_path(\"nomenclatures.csv\")\n",
    "query=\"\"\"\n",
    "        LOAD CSV WITH HEADERS FROM \"%s\" AS row\n",
    "        CREATE (:Nomenclature { id: row.ID, name: row.Nomenclature_name, version: row.Version, authors: row.Authors, published: toInt(row.Published), publication_type: row.Publication_type, doi: row.DOI, preferred: 1})\n",
    "    \"\"\" % csv_file_path\n",
    "\n",
    "with driver.session() as session:\n",
    "    session.run(\"CREATE CONSTRAINT ON (n:Nomenclature) ASSERT n.id IS UNIQUE\")\n",
    "    session.run(\"CREATE INDEX ON :Nomenclature(name)\")\n",
    "    session.run(query)\n",
    "    get_count_of_type(\"Nomenclature\", session)"
   ]
  },
  {
   "cell_type": "code",
   "execution_count": 58,
   "metadata": {},
   "outputs": [
    {
     "name": "stdout",
     "output_type": "stream",
     "text": [
      "Added 19 nodes of type Nomenclature\n"
     ]
    }
   ],
   "source": [
    "# Adding nomebclatures_other to graph with Nomenclature label\n",
    "csv_file_path = \"file:///%s\" % get_csv_path(\"nomenclatures_other.csv\")\n",
    "query=\"\"\"\n",
    "        LOAD CSV WITH HEADERS FROM \"%s\" AS row\n",
    "        CREATE (:Nomenclature { id: row.ID, name: row.Nomenclature_name, version: row.Version, authors: row.Authors, published: toInt(row.Published), publicationType: row.Publication_type, preferred: 0 })\n",
    "    \"\"\" % csv_file_path\n",
    "\n",
    "with driver.session() as session:    \n",
    "    session.run(query)\n",
    "    get_count_of_type(\"Nomenclature\", session)"
   ]
  },
  {
   "cell_type": "code",
   "execution_count": 59,
   "metadata": {},
   "outputs": [
    {
     "name": "stdout",
     "output_type": "stream",
     "text": [
      "Added 272 nodes of type RegionOther\n"
     ]
    }
   ],
   "source": [
    "# Adding regions_other to graph with RegionOther label\n",
    "csv_file_path = \"file:///%s\" % get_csv_path(\"regions_other.csv\")\n",
    "query=\"\"\"\n",
    "        LOAD CSV WITH HEADERS FROM \"%s\" AS row\n",
    "        CREATE (d:RegionOther {id: row.ID, name: row.Region_name, abbreviation: row.Abbreviation, comments: row.Comments})\n",
    "    \"\"\" % csv_file_path\n",
    "\n",
    "with driver.session() as session:    \n",
    "    session.run(\"CREATE CONSTRAINT ON (n:RegionOther) ASSERT n.id IS UNIQUE\")\n",
    "    session.run(\"CREATE INDEX ON :RegionOther(name)\")\n",
    "    session.run(query)\n",
    "    get_count_of_type(\"RegionOther\", session)"
   ]
  },
  {
   "cell_type": "code",
   "execution_count": null,
   "metadata": {},
   "outputs": [],
   "source": []
  },
  {
   "cell_type": "code",
   "execution_count": 69,
   "metadata": {},
   "outputs": [
    {
     "name": "stdout",
     "output_type": "stream",
     "text": [
      "Added 624 relationships of type PRIMARY_REGION\n"
     ]
    }
   ],
   "source": [
    "# Relationship PRIMARY_REGION between BrainRegion and RegionRecord\n",
    "csv_file_path = \"file:///%s\" % get_csv_path(\"region_records.csv\")\n",
    "query=\"\"\"\n",
    "        LOAD CSV WITH HEADERS FROM \"%s\" AS row\n",
    "        MATCH (a:RegionRecord { id: row.ID})\n",
    "        MATCH (c:BrainRegion { id: row.Region})\n",
    "        MERGE (a)-[:PRIMARY_REGION]->(c)\n",
    "    \"\"\" % csv_file_path\n",
    "\n",
    "with driver.session() as session:\n",
    "    session.run(query)\n",
    "    get_count_of_relationship(\"PRIMARY_REGION\", session)"
   ]
  },
  {
   "cell_type": "code",
   "execution_count": 70,
   "metadata": {},
   "outputs": [
    {
     "name": "stdout",
     "output_type": "stream",
     "text": [
      "Added 58 relationships of type SECONDARY_REGION\n"
     ]
    }
   ],
   "source": [
    "# Relationship SECONDARY_REGION between BrainRegion and RegionRecord\n",
    "csv_file_path = \"file:///%s\" % get_csv_path(\"region_records.csv\")\n",
    "query=\"\"\"\n",
    "        LOAD CSV WITH HEADERS FROM \"%s\" AS row\n",
    "        MATCH (a:RegionRecord { id: row.ID})\n",
    "        MATCH (c:BrainRegion { id: row.Secondary_region })\n",
    "        MERGE (a)-[:SECONDARY_REGION]->(c)\n",
    "    \"\"\" % csv_file_path\n",
    "\n",
    "with driver.session() as session:\n",
    "    session.run(query)\n",
    "    get_count_of_relationship(\"SECONDARY_REGION\", session)"
   ]
  },
  {
   "cell_type": "code",
   "execution_count": 71,
   "metadata": {},
   "outputs": [
    {
     "name": "stdout",
     "output_type": "stream",
     "text": [
      "Added 38 relationships of type NOMENCLATURE_SPECIE\n"
     ]
    }
   ],
   "source": [
    "# Relationship NOMENCLATURE_SPECIE between Nomenclature and Specie\n",
    "csv_file_path = \"file:///%s\" % get_csv_path(\"nomenclatures.csv\")\n",
    "query=\"\"\"\n",
    "        LOAD CSV WITH HEADERS FROM \"%s\" AS row\n",
    "        MATCH (a:Nomenclature { id: row.ID})\n",
    "        MATCH (c:Specie { id: row.Species })\n",
    "        MERGE (a)-[:NOMENCLATURE_SPECIE]->(c)\n",
    "    \"\"\" % csv_file_path\n",
    "\n",
    "with driver.session() as session:\n",
    "    session.run(query)\n",
    "    \n",
    "csv_file_path = \"file:///%s\" % get_csv_path(\"nomenclatures_other.csv\")\n",
    "query=\"\"\"\n",
    "        LOAD CSV WITH HEADERS FROM \"%s\" AS row\n",
    "        MATCH (a:Nomenclature { id: row.ID})\n",
    "        MATCH (c:Specie { id: row.Species })\n",
    "        MERGE (a)-[:NOMENCLATURE_SPECIE]->(c)\n",
    "    \"\"\" % csv_file_path\n",
    "\n",
    "with driver.session() as session:\n",
    "    session.run(query)\n",
    "    get_count_of_relationship(\"NOMENCLATURE_SPECIE\", session)"
   ]
  },
  {
   "cell_type": "code",
   "execution_count": 72,
   "metadata": {},
   "outputs": [
    {
     "name": "stdout",
     "output_type": "stream",
     "text": [
      "Added 34 relationships of type NOMENCLATURE_STRAIN\n"
     ]
    }
   ],
   "source": [
    "# Relationship NOMENCLATURE_STRAIN between Nomenclature and Strain\n",
    "csv_file_path = \"file:///%s\" % get_csv_path(\"nomenclatures.csv\")\n",
    "query=\"\"\"\n",
    "        LOAD CSV WITH HEADERS FROM \"%s\" AS row\n",
    "        MATCH (a:Nomenclature { id: row.ID})\n",
    "        MATCH (c:Strain { id: row.Strain })\n",
    "        MERGE (a)-[:NOMENCLATURE_STRAIN]->(c)\n",
    "    \"\"\" % csv_file_path\n",
    "\n",
    "with driver.session() as session:\n",
    "    session.run(query)\n",
    "    \n",
    "csv_file_path = \"file:///%s\" % get_csv_path(\"nomenclatures_other.csv\")\n",
    "query=\"\"\"\n",
    "        LOAD CSV WITH HEADERS FROM \"%s\" AS row\n",
    "        MATCH (a:Nomenclature { id: row.ID})\n",
    "        MATCH (c:Strain { id: row.Strain })\n",
    "        MERGE (a)-[:NOMENCLATURE_STRAIN]->(c)\n",
    "    \"\"\" % csv_file_path\n",
    "\n",
    "with driver.session() as session:\n",
    "    session.run(query)\n",
    "    get_count_of_relationship(\"NOMENCLATURE_STRAIN\", session)"
   ]
  },
  {
   "cell_type": "code",
   "execution_count": 73,
   "metadata": {},
   "outputs": [
    {
     "name": "stdout",
     "output_type": "stream",
     "text": [
      "Added 56 relationships of type NAMING\n",
      "Added 544 relationships of type REGION_OTHER_NAMING\n"
     ]
    }
   ],
   "source": [
    "# Relationship NAMING between All BrainRegion and Nomenclature\n",
    "csv_file_path = \"file:///%s\" % get_csv_path(\"regions.csv\")\n",
    "query=\"\"\"\n",
    "        LOAD CSV WITH HEADERS FROM \"%s\" AS row\n",
    "        MATCH (a:BrainRegion { id: row.ID})\n",
    "        MATCH (c:Nomenclature { id: row.Nomenclature })\n",
    "        MERGE (a)-[:NAMING]->(c)\n",
    "    \"\"\" % csv_file_path\n",
    "\n",
    "with driver.session() as session:\n",
    "    session.run(query)\n",
    "    get_count_of_relationship(\"NAMING\", session)\n",
    "    \n",
    "# Relationship REGION_OTHER_NAMING between All RegionOther and Nomenclature\n",
    "csv_file_path = \"file:///%s\" % get_csv_path(\"regions_other.csv\")\n",
    "query=\"\"\"\n",
    "        LOAD CSV WITH HEADERS FROM \"%s\" AS row\n",
    "        MATCH (a:RegionOther { id: row.ID})\n",
    "        MATCH (c:Nomenclature { id: row.Nomenclature })\n",
    "        MERGE (a)-[:REGION_OTHER_NAMING]->(c)\n",
    "    \"\"\" % csv_file_path\n",
    "\n",
    "csv_file_path = \"file:///%s\" % get_csv_path(\"original_region_records.csv\")\n",
    "rel_query=\"\"\"\n",
    "        LOAD CSV WITH HEADERS FROM \"%s\" AS row\n",
    "        MATCH (a:RegionOther {id: row.Original_region})-[r:REGION_OTHER_NAMING]-(b:Nomenclature)\n",
    "        SET r.originalCoordinateMinAP = row.Original_coord_AP_min\n",
    "        SET r.originalCoordinateMaxAP = row.Original_coord_AP_max\n",
    "        SET r.originalCoordinateMinDV = row.Original_coord_DV_min\n",
    "        SET r.originalCoordinateMaxDV = row.Original_coord_DV_max\n",
    "        SET r.originalCoordinateMinML = row.Original_coord_ML_min\n",
    "        SET r.originalCoordinateMaxML = row.Original_coord_ML_max\n",
    "\"\"\" % csv_file_path\n",
    "\n",
    "with driver.session() as session:\n",
    "    session.run(query)\n",
    "    get_count_of_relationship(\"REGION_OTHER_NAMING\", session)"
   ]
  },
  {
   "cell_type": "code",
   "execution_count": 74,
   "metadata": {},
   "outputs": [
    {
     "name": "stdout",
     "output_type": "stream",
     "text": [
      "Added 574 relationships of type ORIGINAL_FRAMEWORK\n"
     ]
    }
   ],
   "source": [
    "# Relationship ORIGINAL_FRAMEWORK between Regions_records and Nomenclatures_other\n",
    "csv_file_path = \"file:///%s\" % get_csv_path(\"region_records.csv\")\n",
    "query=\"\"\"\n",
    "        LOAD CSV WITH HEADERS FROM \"%s\" AS row\n",
    "        MATCH (a:RegionRecord { id: row.ID})\n",
    "        MATCH (c:Nomenclature { id: row.Original_framework })\n",
    "        MERGE (a)-[:ORIGINAL_FRAMEWORK]->(c)\n",
    "    \"\"\" % csv_file_path\n",
    "\n",
    "with driver.session() as session:\n",
    "    session.run(query)\n",
    "    get_count_of_relationship(\"ORIGINAL_FRAMEWORK\", session)"
   ]
  },
  {
   "cell_type": "code",
   "execution_count": 75,
   "metadata": {},
   "outputs": [
    {
     "name": "stdout",
     "output_type": "stream",
     "text": [
      "Added 58 relationships of type PART_OF\n",
      "Added 58 relationships of type PART_OF\n"
     ]
    }
   ],
   "source": [
    "### Add Hierarchical relations between regions\n",
    "# RAT:\n",
    "csv_file_path = \"file:///%s\" % get_csv_path(\"region_hierarchy_waxholm.csv\")\n",
    "query=\"\"\"\n",
    "        LOAD CSV WITH HEADERS FROM \"%s\" AS row\n",
    "        MATCH (a:BrainRegion { id: row.ID})\n",
    "        MATCH (c:BrainRegion { id: row.Part_of })\n",
    "        MERGE (a)-[:PART_OF]->(c)\n",
    "    \"\"\" % csv_file_path\n",
    "with driver.session() as session:\n",
    "    session.run(query)\n",
    "    get_count_of_relationship(\"PART_OF\", session)\n",
    "    \n",
    "# MOUSE:\n",
    "csv_file_path = \"file:///%s\" % get_csv_path(\"region_hierarchy_amba.csv\")\n",
    "query=\"\"\"\n",
    "        LOAD CSV WITH HEADERS FROM \"%s\" AS row\n",
    "        MATCH (a:BrainRegion { id: row.ID})\n",
    "        MATCH (c:BrainRegion { id: row.Part_of })\n",
    "        MERGE (a)-[:PART_OF]->(c)\n",
    "    \"\"\" % csv_file_path\n",
    "with driver.session() as session:\n",
    "    session.run(query)\n",
    "    get_count_of_relationship(\"PART_OF\", session)\n"
   ]
  },
  {
   "cell_type": "code",
   "execution_count": 76,
   "metadata": {},
   "outputs": [],
   "source": [
    "# queries to view\n",
    "\n",
    "q = \"\"\"\n",
    "MATCH (n)\n",
    "WHERE n:BrainRegion OR n:Nomenclature OR n:RegionRecord\n",
    "RETURN n\n",
    "\"\"\""
   ]
  },
  {
   "cell_type": "code",
   "execution_count": 77,
   "metadata": {},
   "outputs": [],
   "source": [
    "## TODO Remove csv_id from all nodes"
   ]
  }
 ],
 "metadata": {
  "kernelspec": {
   "display_name": "Python 3",
   "language": "python",
   "name": "python3"
  },
  "language_info": {
   "codemirror_mode": {
    "name": "ipython",
    "version": 3
   },
   "file_extension": ".py",
   "mimetype": "text/x-python",
   "name": "python",
   "nbconvert_exporter": "python",
   "pygments_lexer": "ipython3",
   "version": "3.7.4"
  }
 },
 "nbformat": 4,
 "nbformat_minor": 4
}
