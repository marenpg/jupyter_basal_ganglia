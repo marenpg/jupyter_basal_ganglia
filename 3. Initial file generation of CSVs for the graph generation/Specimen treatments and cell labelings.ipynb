{
 "cells": [
  {
   "cell_type": "markdown",
   "metadata": {},
   "source": [
    "# Extract trament types and labels from specimen\n",
    "\n",
    "This codes extracts the specific cell labelings and treatments from the `specimen_treatments` table and `single_cell_labelings` table and stored them in separate tables so that they can be converted to nodes in the graph."
   ]
  },
  {
   "cell_type": "code",
   "execution_count": 9,
   "metadata": {},
   "outputs": [
    {
     "name": "stdout",
     "output_type": "stream",
     "text": [
      "['Freezing' 'Fixation' 'Blocking' 'Signal amplification' 'Storage'\n",
      " 'Dehydration' 'Embedding' 'General stain' 'Deparaffinization'\n",
      " 'Rehydration' 'Clearing' 'Permeabilization' 'Visualization' 'Unspecified'\n",
      " 'Cryoprotection' nan 'Acetylation' 'Staining' 'Counterstaining'\n",
      " 'Postfixation' 'Antigen retrieval' 'Drying' 'Defatting' 'Heating'\n",
      " 'Cooling' 'Infiltration' 'Polymerization' 'Epitope retrieval' 'Softening'\n",
      " 'Washing' 'Secondary fixation' 'Mounting' 'Differentiation' 'Rinsing'\n",
      " 'Freeze-thawing' 'Coverslipping']\n",
      "['In vitro' 'In vivo']\n",
      "['Ballistic delivery' 'Intracellular injection' 'Intracranial injection'\n",
      " 'Viral infection' nan 'Iontoporation']\n"
     ]
    }
   ],
   "source": [
    "import pandas as pd\n",
    "import os \n",
    "\n",
    "def get_csv_path(csv_file):\n",
    "    path_all_csv = os.path.realpath(\"..\\Data/csvs/basal_ganglia/experiments/\")\n",
    "    return os.path.join(path_all_csv, csv_file).replace(\"\\\\\",\"/\")\n",
    "\n",
    "csv_treatment_path = \"file:///%s\" % get_csv_path(\"specimen_treatments.csv\")\n",
    "treatments_df = pd.read_csv(csv_treatment_path)\n",
    "\n",
    "csv_labeling_path = \"file:///%s\" % get_csv_path(\"single_cell_labelings.csv\")\n",
    "cell_labelings_df = pd.read_csv(csv_labeling_path)\n",
    "\n",
    "\n",
    "purposes = treatments_df.Purpose.unique()\n",
    "\n",
    "introduction_timings = cell_labelings_df.Introduction_timing.unique()\n",
    "introduction_types = cell_labelings_df.Introduction_type.unique()\n",
    "\n",
    "print(purposes)\n",
    "print(introduction_timings)\n",
    "print(introduction_types)\n",
    "\n",
    "def save_as_csv(columns, file_name):\n",
    "    rows = []\n",
    "    for i in range(len(columns)):\n",
    "        rows.append([i+1, columns[i]])\n",
    "        \n",
    "    df = pd.DataFrame(rows, columns = [\"id\", \"name\"])\n",
    "    path = os.path.join(\"..\\Data/csvs/basal_ganglia/experiments/\", file_name).replace(\"\\\\\",\"/\")\n",
    "    df.to_csv(path, index=1)\n",
    "\n",
    "save_as_csv(purposes, \"treatment_purposes.csv\")\n",
    "save_as_csv(introduction_timings, \"introduction_timings.csv\")\n",
    "save_as_csv(introduction_types, \"introduction_types.csv\")\n",
    "\n"
   ]
  },
  {
   "cell_type": "code",
   "execution_count": null,
   "metadata": {},
   "outputs": [],
   "source": []
  }
 ],
 "metadata": {
  "kernelspec": {
   "display_name": "Python 3",
   "language": "python",
   "name": "python3"
  },
  "language_info": {
   "codemirror_mode": {
    "name": "ipython",
    "version": 3
   },
   "file_extension": ".py",
   "mimetype": "text/x-python",
   "name": "python",
   "nbconvert_exporter": "python",
   "pygments_lexer": "ipython3",
   "version": "3.7.8"
  }
 },
 "nbformat": 4,
 "nbformat_minor": 4
}
