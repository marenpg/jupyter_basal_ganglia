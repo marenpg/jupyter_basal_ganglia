{
 "cells": [
  {
   "cell_type": "code",
   "execution_count": 1,
   "metadata": {},
   "outputs": [],
   "source": [
    "import pandas as pd\n",
    "import networkx as nx\n",
    "import matplotlib.pyplot as plt"
   ]
  },
  {
   "cell_type": "code",
   "execution_count": 12,
   "metadata": {},
   "outputs": [],
   "source": [
    "def printTopK(k, res, name=\"Top k:\"):\n",
    "    print(\"\\n\" + name)\n",
    "    sorted_keys = sorted(res, key=res.get, reverse=True)\n",
    "    topK = [(key, res[key]) for key in sorted_keys[:10]]\n",
    "    for nodeId in sorted_keys[:k]:\n",
    "        node = G.nodes[nodeId]\n",
    "        score = res[nodeId]\n",
    "        print(node[\"TYPE\"], node[\"label\"],\":\", score)\n"
   ]
  },
  {
   "cell_type": "code",
   "execution_count": 8,
   "metadata": {},
   "outputs": [],
   "source": [
    "G = nx.read_graphml(\"../Data/graphml/graphml_digraph.graphml\")"
   ]
  },
  {
   "cell_type": "code",
   "execution_count": 9,
   "metadata": {},
   "outputs": [
    {
     "name": "stdout",
     "output_type": "stream",
     "text": [
      "\n",
      "Centrality:\n",
      ":CellPhenotypeCategory Expression : 0.6713566397691174\n",
      ":CellGroup Neuron : 0.35630678893180456\n",
      ":CellClass Principal neuron : 0.34049147968786875\n",
      ":CellClass Interneuron : 0.24733699461885764\n",
      ":CellDescription 7498 : 0.2031191419746414\n",
      ":CellDescription 9350 : 0.17026120177477214\n",
      ":CellClass Mixed class neuron : 0.12477052477808745\n",
      ":CellDescription 5665 : 0.12366732530809585\n",
      ":Specie Rattus norvegicus : 0.10563853698012127\n",
      ":CellClass Unclassified : 0.08995714261041474\n"
     ]
    }
   ],
   "source": [
    "centrality = nx.eigenvector_centrality(G)\n",
    "printTopK(10, centrality, \"Centrality:\")"
   ]
  },
  {
   "cell_type": "code",
   "execution_count": 10,
   "metadata": {},
   "outputs": [
    {
     "name": "stdout",
     "output_type": "stream",
     "text": [
      "\n",
      "Page rank:\n",
      ":Specie Rattus norvegicus : 0.02414180021987792\n",
      ":ExclusionReason No data of interest : 0.016809445773246275\n",
      ":Specie Mus musculus : 0.014648200254678553\n",
      ":CellPhenotypeCategory Expression : 0.014621982695788164\n",
      ":ReporterLabel No label : 0.0116323895800997\n",
      ":Microscope 2 : 0.009803074408476725\n",
      ":ExclusionReason No quantitative information : 0.007780518453376797\n",
      ":SourceOrigin Brain Research : 0.0076324752558400875\n",
      ":SourceOrigin Neuroscience : 0.0075871367413765265\n",
      ":ExclusionReason Treated animals only : 0.0070912325506273\n"
     ]
    }
   ],
   "source": [
    "page_rank = nx.pagerank(G, alpha=0.9)\n",
    "printTopK(10, page_rank, \"Page rank:\")\n"
   ]
  },
  {
   "cell_type": "code",
   "execution_count": 14,
   "metadata": {},
   "outputs": [
    {
     "name": "stdout",
     "output_type": "stream",
     "text": [
      "\n",
      "HITS: Hubs:\n",
      ":Analysis Richter_2017_11m_sections_TH_neurons_quantitation : 0.002960587524923987\n",
      ":Analysis Richter_2017_5w_sections_TH_neurons_quantitation : 0.002960587524923987\n",
      ":Analysis Richter_2017_18m_sections_TH_neurons_quantitation : 0.002960541813890438\n",
      ":Analysis Richter_2017_pups_sections_TH_neurons_quantitation : 0.002960541813890438\n",
      ":Analysis Chan_1997_sections_TH_cells_quantitation : 0.0029012263433353795\n",
      ":Analysis Johnson_2010b_rat_sections_TH_neurons_quantitation : 0.0028943072584198706\n",
      ":Analysis Komnig_2016b_sections_TH_neurons_quantitation : 0.002848168149880407\n",
      ":Analysis Komnig_2016_14w_sections_TH_neurons_quantitation : 0.0028457655344584815\n",
      ":Analysis Kincaid_2001_sections_TH_neurons_quantitation : 0.0028438340953611412\n",
      ":Analysis Komnig_2016_24w_sections_TH_neurons_quantitation : 0.0028287808694820336\n",
      "\n",
      "HITS: Authorities:\n",
      ":NeuralStructure Neurons : 0.05150880084934497\n",
      ":TreatmentPurpose Visualization : 0.0418072568248137\n",
      ":VisualizationProtocol Immunohistochemistry : 0.03862526187791635\n",
      ":TreatmentPurpose Signal amplification : 0.03800952253642559\n",
      ":TreatmentPurpose Blocking : 0.03673863960609586\n",
      ":CellType Tyrosine hydroxylase expressing : 0.01876074916072403\n",
      ":TreatmentPurpose Permeabilization : 0.01481894631178249\n",
      ":TreatmentPurpose Counterstaining : 0.013478050869928454\n",
      ":Reporter Goat anti rabbit_biotin : 0.009275196561868112\n",
      ":CellType Neuron : 0.009173615773744176\n"
     ]
    }
   ],
   "source": [
    "hits = nx.hits(G)\n",
    "printTopK(10, hits[0], \"HITS: Hubs:\")\n",
    "printTopK(10, hits[1], \"HITS: Authorities:\")"
   ]
  },
  {
   "cell_type": "code",
   "execution_count": 15,
   "metadata": {},
   "outputs": [
    {
     "name": "stdout",
     "output_type": "stream",
     "text": [
      "\n",
      "Closeness centrality:\n",
      ":CellType Neuron : 0.08723273929791052\n",
      ":Specie Rattus norvegicus : 0.08659971886051321\n",
      ":ExclusionReason No data of interest : 0.07912754303599374\n",
      ":Specie Mus musculus : 0.07658088680899164\n",
      ":CellType Tyrosine hydroxylase expressing : 0.0737965783981245\n",
      ":CellType Parvalbumin expressing : 0.07128956447663973\n",
      ":CellType Somatostatin expressing : 0.06959916027915045\n",
      ":CellDescription 7498 : 0.06575225509834977\n",
      ":CellPhenotype Nissl : 0.06507977428317722\n",
      ":CellClass Principal neuron : 0.06469115671550683\n"
     ]
    }
   ],
   "source": [
    "closeness_centrality = nx.closeness_centrality(G)\n",
    "printTopK(10, closeness_centrality, \"Closeness centrality:\")"
   ]
  },
  {
   "cell_type": "code",
   "execution_count": 16,
   "metadata": {},
   "outputs": [
    {
     "name": "stdout",
     "output_type": "stream",
     "text": [
      "\n",
      "Betweenness centrality:\n",
      ":BrainRegion Caudoputamen : 0.0010005087836443243\n",
      ":NeuralStructure Neurons : 0.0006794504090212554\n",
      ":BrainRegion Caudoputamen : 0.0004771933255033256\n",
      ":BrainRegion Striatum : 0.0002762192942691902\n",
      ":BrainRegion Pars compacta : 0.0002300911161787034\n",
      ":RegionZone Rostral : 0.00021507620237629029\n",
      ":CellType Neuron : 0.00019370101473734427\n",
      ":BrainRegion Substantia nigra compact part : 0.00017434125274495266\n",
      ":BrainRegion Accumbens nucleus : 0.00016890685349729828\n",
      ":BrainRegion Substantia nigra : 0.00013093325810225324\n"
     ]
    }
   ],
   "source": [
    "betweenness_centrality = nx.betweenness_centrality(G)\n",
    "printTopK(10, betweenness_centrality, \"Betweenness centrality:\")"
   ]
  },
  {
   "cell_type": "code",
   "execution_count": null,
   "metadata": {},
   "outputs": [],
   "source": []
  }
 ],
 "metadata": {
  "kernelspec": {
   "display_name": "Python 3",
   "language": "python",
   "name": "python3"
  },
  "language_info": {
   "codemirror_mode": {
    "name": "ipython",
    "version": 3
   },
   "file_extension": ".py",
   "mimetype": "text/x-python",
   "name": "python",
   "nbconvert_exporter": "python",
   "pygments_lexer": "ipython3",
   "version": "3.7.8"
  }
 },
 "nbformat": 4,
 "nbformat_minor": 4
}
