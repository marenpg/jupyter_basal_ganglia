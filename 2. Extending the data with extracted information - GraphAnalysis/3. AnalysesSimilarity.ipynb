{
 "cells": [
  {
   "cell_type": "markdown",
   "metadata": {},
   "source": [
    "# Finding similar analyses based on brain region and cell type\n",
    "\n",
    "This is the code to find all similar analyses that are from the same specie, brain region and cell types.\n",
    "\n",
    "The result is also stored in a csv for use at the website.\n",
    "\n",
    "If you have cloned this project, the generated similarity file is already created and all you need to run is the `1. Create the Rodent Basal Ganglia Graph` notebook on the start page."
   ]
  },
  {
   "cell_type": "code",
   "execution_count": 94,
   "metadata": {},
   "outputs": [],
   "source": [
    "from neo4j import GraphDatabase, basic_auth\n",
    "from dotenv import load_dotenv\n",
    "import os\n",
    "\n",
    "load_dotenv()\n",
    "\n",
    "neo4jUser = os.getenv(\"NEO4J_USER\")\n",
    "neo4jPwd = os.getenv(\"NEO4J_PASSWORD\")\n",
    "neo4jUrl = os.getenv(\"NEO4j_BOLT\")\n",
    "\n",
    "driver = GraphDatabase.driver(neo4jUrl,auth=basic_auth(neo4jUser, neo4jPwd), encrypted=False)"
   ]
  },
  {
   "cell_type": "markdown",
   "metadata": {},
   "source": [
    "## Create the graph projection\n",
    "\n",
    "Create a projection of analyses connected with brain region and cell type, per specie\n",
    "\n",
    "For simplicity, we first add a special named relationship between the analyzes and brain region, cell type and specie.\n",
    "This relationship is cleaned up after the algorithm is complete."
   ]
  },
  {
   "cell_type": "code",
   "execution_count": 95,
   "metadata": {},
   "outputs": [],
   "source": [
    "with driver.session() as session:\n",
    "    session.run(\"\"\"\n",
    "        MATCH (n:Analysis)-->(:DataType)-->(:RegionRecord)-[:PRIMARY_REGION]->(b:BrainRegion)\n",
    "        MERGE (n)-[:NODE_SIMILARITY]->(b)\n",
    "    \"\"\")\n",
    "    session.run(\"\"\"\n",
    "        MATCH (n:Analysis)-->(c:CellType)\n",
    "        MERGE (n)-[:NODE_SIMILARITY]->(c)\n",
    "    \"\"\")\n",
    "    session.run(\"\"\"\n",
    "        MATCH (n:Analysis)-->(:Specimen)-->(s:Specie)\n",
    "        MERGE (n)-[:NODE_SIMILARITY]->(s)\n",
    "    \"\"\")\n",
    "    session.run(\"\"\"\n",
    "        MATCH (n:Analysis)-->(s:NeuralStructure)\n",
    "        MERGE (n)-[:NODE_SIMILARITY]->(s)\n",
    "    \"\"\")\n",
    "\n"
   ]
  },
  {
   "cell_type": "code",
   "execution_count": 96,
   "metadata": {},
   "outputs": [
    {
     "name": "stdout",
     "output_type": "stream",
     "text": [
      "Created projection of 875 nodes\n"
     ]
    }
   ],
   "source": [
    "with driver.session() as session:\n",
    "    res = session.run(\"\"\"\n",
    "        CALL gds.graph.create(\n",
    "            'analyses', \n",
    "            [\"CellType\", \"BrainRegion\", \"Specie\", \"Analysis\", \"NeuralStructure\"], \n",
    "            'NODE_SIMILARITY'\n",
    "        )\n",
    "    \"\"\")\n",
    "    for rec in res:\n",
    "        print(\"Created projection of\", rec[\"nodeCount\"], \"nodes\")"
   ]
  },
  {
   "cell_type": "markdown",
   "metadata": {},
   "source": [
    "## Run the similarity algorithm and store the results"
   ]
  },
  {
   "cell_type": "markdown",
   "metadata": {},
   "source": [
    "### Analyses\n",
    "\n",
    "Runs node similarity on the projection `analyses` and stores the result in `Data/csvs/basal_ganglia/regions/analysis_similarity.csv`."
   ]
  },
  {
   "cell_type": "code",
   "execution_count": 97,
   "metadata": {},
   "outputs": [
    {
     "data": {
      "text/html": [
       "<div>\n",
       "<style scoped>\n",
       "    .dataframe tbody tr th:only-of-type {\n",
       "        vertical-align: middle;\n",
       "    }\n",
       "\n",
       "    .dataframe tbody tr th {\n",
       "        vertical-align: top;\n",
       "    }\n",
       "\n",
       "    .dataframe thead th {\n",
       "        text-align: right;\n",
       "    }\n",
       "</style>\n",
       "<table border=\"1\" class=\"dataframe\">\n",
       "  <thead>\n",
       "    <tr style=\"text-align: right;\">\n",
       "      <th></th>\n",
       "      <th>id1</th>\n",
       "      <th>id2</th>\n",
       "      <th>score</th>\n",
       "    </tr>\n",
       "  </thead>\n",
       "  <tbody>\n",
       "    <tr>\n",
       "      <th>0</th>\n",
       "      <td>101</td>\n",
       "      <td>550</td>\n",
       "      <td>1.0</td>\n",
       "    </tr>\n",
       "    <tr>\n",
       "      <th>1</th>\n",
       "      <td>101</td>\n",
       "      <td>593</td>\n",
       "      <td>1.0</td>\n",
       "    </tr>\n",
       "    <tr>\n",
       "      <th>2</th>\n",
       "      <td>101</td>\n",
       "      <td>498</td>\n",
       "      <td>1.0</td>\n",
       "    </tr>\n",
       "    <tr>\n",
       "      <th>3</th>\n",
       "      <td>101</td>\n",
       "      <td>102</td>\n",
       "      <td>1.0</td>\n",
       "    </tr>\n",
       "    <tr>\n",
       "      <th>4</th>\n",
       "      <td>102</td>\n",
       "      <td>550</td>\n",
       "      <td>1.0</td>\n",
       "    </tr>\n",
       "    <tr>\n",
       "      <th>...</th>\n",
       "      <td>...</td>\n",
       "      <td>...</td>\n",
       "      <td>...</td>\n",
       "    </tr>\n",
       "    <tr>\n",
       "      <th>3421</th>\n",
       "      <td>91</td>\n",
       "      <td>292</td>\n",
       "      <td>1.0</td>\n",
       "    </tr>\n",
       "    <tr>\n",
       "      <th>3422</th>\n",
       "      <td>91</td>\n",
       "      <td>290</td>\n",
       "      <td>1.0</td>\n",
       "    </tr>\n",
       "    <tr>\n",
       "      <th>3423</th>\n",
       "      <td>91</td>\n",
       "      <td>288</td>\n",
       "      <td>1.0</td>\n",
       "    </tr>\n",
       "    <tr>\n",
       "      <th>3424</th>\n",
       "      <td>91</td>\n",
       "      <td>78</td>\n",
       "      <td>1.0</td>\n",
       "    </tr>\n",
       "    <tr>\n",
       "      <th>3425</th>\n",
       "      <td>91</td>\n",
       "      <td>77</td>\n",
       "      <td>1.0</td>\n",
       "    </tr>\n",
       "  </tbody>\n",
       "</table>\n",
       "<p>3426 rows × 3 columns</p>\n",
       "</div>"
      ],
      "text/plain": [
       "      id1  id2  score\n",
       "0     101  550    1.0\n",
       "1     101  593    1.0\n",
       "2     101  498    1.0\n",
       "3     101  102    1.0\n",
       "4     102  550    1.0\n",
       "...   ...  ...    ...\n",
       "3421   91  292    1.0\n",
       "3422   91  290    1.0\n",
       "3423   91  288    1.0\n",
       "3424   91   78    1.0\n",
       "3425   91   77    1.0\n",
       "\n",
       "[3426 rows x 3 columns]"
      ]
     },
     "execution_count": 97,
     "metadata": {},
     "output_type": "execute_result"
    }
   ],
   "source": [
    "import pandas as pd\n",
    "\n",
    "similarity_rows = []\n",
    "with driver.session() as session:\n",
    "    res = session.run(\"\"\"\n",
    "        CALL gds.nodeSimilarity.stream(\n",
    "            'analyses',\n",
    "            {\n",
    "                degreeCutoff: 3,\n",
    "                similarityCutoff: 1.0\n",
    "            }\n",
    "        )\n",
    "        YIELD node1, node2, similarity\n",
    "        RETURN gds.util.asNode(node1).id as id1, gds.util.asNode(node2).id as id2, similarity\n",
    "        ORDER BY id1\n",
    "    \"\"\")\n",
    "    for record in res:\n",
    "        similarity_rows.append([record[\"id1\"], record[\"id2\"], record[\"similarity\"]])\n",
    "\n",
    "\n",
    "    \n",
    "pd.DataFrame(similarity_rows, columns = [\"id1\", \"id2\", \"score\"])"
   ]
  },
  {
   "cell_type": "code",
   "execution_count": 98,
   "metadata": {},
   "outputs": [
    {
     "name": "stdout",
     "output_type": "stream",
     "text": [
      "517 unique analyses connected to 405 distinct analyses\n"
     ]
    }
   ],
   "source": [
    "# Stores the result in a CSV file for the genereal database import\n",
    "_.to_csv(\"..\\Data/csvs/basal_ganglia/regions/analysis_similarity.csv\")\n",
    "_.to_csv(\"..\\Data/csvs/basal_ganglia_valid_ascii/regions/analysis_similarity.csv\")\n",
    "print(_[\"id1\"].nunique(), \"unique analyses connected to\", _[\"id2\"].nunique(), \"distinct analyses\")"
   ]
  },
  {
   "cell_type": "markdown",
   "metadata": {},
   "source": [
    "We can also store the relationships in the data base for example for visualization. Below er create the relationship `NODE_ANALYSES_SIMILARITY`."
   ]
  },
  {
   "cell_type": "code",
   "execution_count": 99,
   "metadata": {},
   "outputs": [
    {
     "name": "stdout",
     "output_type": "stream",
     "text": [
      "Wrote 3426 relationships\n"
     ]
    }
   ],
   "source": [
    "with driver.session() as session:\n",
    "    res = session.run(\"\"\"\n",
    "        CALL gds.nodeSimilarity.write(\n",
    "          'analyses',\n",
    "          {\n",
    "            degreeCutoff: 4,\n",
    "            similarityCutoff: 1.0,\n",
    "            writeRelationshipType: 'NODE_ANALYSES_SIMILARITY',\n",
    "            writeProperty:'score'\n",
    "          }\n",
    "        )\n",
    "    \"\"\")\n",
    "    for rec in res:\n",
    "        print(\"Wrote\", rec[\"relationshipsWritten\"], \"relationships\")"
   ]
  },
  {
   "cell_type": "markdown",
   "metadata": {},
   "source": [
    "## Clean-up\n",
    "We remove the projected graphs, and delete the created relationship `SIMILARITY_ALGORITHM`. The relationship `NODE_ANALYSES_SIMILARITY` will not be deleted until the end."
   ]
  },
  {
   "cell_type": "code",
   "execution_count": 71,
   "metadata": {},
   "outputs": [],
   "source": [
    "with driver.session() as session:\n",
    "    session.run(\"call gds.graph.drop('analyses')\")\n",
    "    session.run(\"\"\"\n",
    "        MATCH ()-[r:NODE_SIMILARITY]-()\n",
    "        DETACH DELETE r\n",
    "    \"\"\")"
   ]
  },
  {
   "cell_type": "markdown",
   "metadata": {},
   "source": [
    "# Use case from Bjerke\n",
    "\n",
    "Can we say something results based on the methods??\n",
    "\n",
    "From the previous step, we have all nodes that have same Object of interest, cell type, specie and brain region connected with the relationship `NODE_ANALYSES_SIMILARITY`.\n",
    "\n",
    "Next we define communities based on this. That will create a community for each Analysis. We write this back into the graph database. Next we add relationships to the methods called `USE_CASE`. \n"
   ]
  },
  {
   "cell_type": "code",
   "execution_count": 72,
   "metadata": {},
   "outputs": [
    {
     "name": "stdout",
     "output_type": "stream",
     "text": [
      "Created projection of 668 nodes\n"
     ]
    }
   ],
   "source": [
    "with driver.session() as session:\n",
    "    res = session.run(\"\"\"\n",
    "        CALL gds.graph.create(\n",
    "            'analyses', \n",
    "            [\"Analysis\"], \n",
    "            'NODE_ANALYSES_SIMILARITY'\n",
    "        )\n",
    "    \"\"\")\n",
    "    for rec in res:\n",
    "        print(\"Created projection of\", rec[\"nodeCount\"], \"nodes\")"
   ]
  },
  {
   "cell_type": "code",
   "execution_count": 73,
   "metadata": {},
   "outputs": [
    {
     "data": {
      "text/html": [
       "<div>\n",
       "<style scoped>\n",
       "    .dataframe tbody tr th:only-of-type {\n",
       "        vertical-align: middle;\n",
       "    }\n",
       "\n",
       "    .dataframe tbody tr th {\n",
       "        vertical-align: top;\n",
       "    }\n",
       "\n",
       "    .dataframe thead th {\n",
       "        text-align: right;\n",
       "    }\n",
       "</style>\n",
       "<table border=\"1\" class=\"dataframe\">\n",
       "  <thead>\n",
       "    <tr style=\"text-align: right;\">\n",
       "      <th></th>\n",
       "      <th>Louvain Id</th>\n",
       "      <th>Size</th>\n",
       "    </tr>\n",
       "  </thead>\n",
       "  <tbody>\n",
       "    <tr>\n",
       "      <th>0</th>\n",
       "      <td>110</td>\n",
       "      <td>73</td>\n",
       "    </tr>\n",
       "    <tr>\n",
       "      <th>1</th>\n",
       "      <td>286</td>\n",
       "      <td>26</td>\n",
       "    </tr>\n",
       "    <tr>\n",
       "      <th>2</th>\n",
       "      <td>111</td>\n",
       "      <td>24</td>\n",
       "    </tr>\n",
       "    <tr>\n",
       "      <th>3</th>\n",
       "      <td>21</td>\n",
       "      <td>19</td>\n",
       "    </tr>\n",
       "    <tr>\n",
       "      <th>4</th>\n",
       "      <td>261</td>\n",
       "      <td>17</td>\n",
       "    </tr>\n",
       "    <tr>\n",
       "      <th>...</th>\n",
       "      <td>...</td>\n",
       "      <td>...</td>\n",
       "    </tr>\n",
       "    <tr>\n",
       "      <th>237</th>\n",
       "      <td>634</td>\n",
       "      <td>1</td>\n",
       "    </tr>\n",
       "    <tr>\n",
       "      <th>238</th>\n",
       "      <td>635</td>\n",
       "      <td>1</td>\n",
       "    </tr>\n",
       "    <tr>\n",
       "      <th>239</th>\n",
       "      <td>640</td>\n",
       "      <td>1</td>\n",
       "    </tr>\n",
       "    <tr>\n",
       "      <th>240</th>\n",
       "      <td>660</td>\n",
       "      <td>1</td>\n",
       "    </tr>\n",
       "    <tr>\n",
       "      <th>241</th>\n",
       "      <td>661</td>\n",
       "      <td>1</td>\n",
       "    </tr>\n",
       "  </tbody>\n",
       "</table>\n",
       "<p>242 rows × 2 columns</p>\n",
       "</div>"
      ],
      "text/plain": [
       "     Louvain Id  Size\n",
       "0           110    73\n",
       "1           286    26\n",
       "2           111    24\n",
       "3            21    19\n",
       "4           261    17\n",
       "..          ...   ...\n",
       "237         634     1\n",
       "238         635     1\n",
       "239         640     1\n",
       "240         660     1\n",
       "241         661     1\n",
       "\n",
       "[242 rows x 2 columns]"
      ]
     },
     "execution_count": 73,
     "metadata": {},
     "output_type": "execute_result"
    }
   ],
   "source": [
    "import pandas as pd\n",
    "\n",
    "louvain_table = []\n",
    "with driver.session() as session:\n",
    "    res = session.run(\"\"\"\n",
    "        CALL gds.louvain.stream('analyses')\n",
    "        YIELD nodeId, communityId\n",
    "        RETURN communityId AS louvainId, COUNT(DISTINCT nodeId) AS members\n",
    "        ORDER BY members DESC\n",
    "    \"\"\")\n",
    "    \n",
    "    for rec in res:\n",
    "        louvain_table.append([rec[\"louvainId\"], rec[\"members\"]])\n",
    "\n",
    "pd.DataFrame(louvain_table, columns=[\"Louvain Id\", \"Size\"])"
   ]
  },
  {
   "cell_type": "code",
   "execution_count": 74,
   "metadata": {},
   "outputs": [],
   "source": [
    "with driver.session() as session:\n",
    "    session.run(\"\"\"\n",
    "        CALL gds.louvain.write(\n",
    "          'analyses',\n",
    "          {\n",
    "            writeProperty: 'louvainAnalyses'\n",
    "          }\n",
    "        )\n",
    "    \"\"\")\n",
    "\n",
    "    session.run(\"call gds.graph.drop('analyses')\")"
   ]
  },
  {
   "cell_type": "markdown",
   "metadata": {},
   "source": [
    "In the largest cluster, all nodes are not connected to each other, but because the similarity is transitive, as the similarity cutoff is set to 1.0, this does not matter. The rest of the communities are complete graphs."
   ]
  },
  {
   "cell_type": "code",
   "execution_count": 75,
   "metadata": {
    "scrolled": true
   },
   "outputs": [],
   "source": [
    "with driver.session() as session:\n",
    "    ## data types\n",
    "    session.run(\"CREATE (:AnalysisDataType {id: 1, name: 'Quantitation'})\")\n",
    "    session.run(\"CREATE (:AnalysisDataType {id: 2, name: 'Distribution'})\")\n",
    "    session.run(\"CREATE (:AnalysisDataType {id: 3, name: 'Morphology'})\")\n",
    "    \n",
    "    session.run(\"\"\"\n",
    "        MATCH (n:Analysis)\n",
    "        MATCH (m:AnalysisDataType)\n",
    "        WHERE n.dataType = m.name\n",
    "        MERGE (n)-[:USE_CASE]->(m)\n",
    "    \"\"\")\n",
    "    ## brain region\n",
    "    session.run(\"\"\"\n",
    "        MATCH (n:Analysis)-->(:DataType)-->(:RegionRecord)-[:PRIMARY_REGION]->(b:BrainRegion)\n",
    "        MERGE (n)-[:USE_CASE]->(b)\n",
    "    \"\"\")\n",
    "    ## Specie\n",
    "    session.run(\"\"\"\n",
    "        MATCH (n:Analysis)-->(:Specimen)-->(s:Specie)\n",
    "        MERGE (n)-[:USE_CASE]->(s)\n",
    "    \"\"\")\n",
    "    ## Microscope\n",
    "    session.run(\"\"\"\n",
    "        MATCH (n:Analysis)-->()-->(m:Microscope)\n",
    "        MERGE (n)-[:USE_CASE]->(m)\n",
    "    \"\"\")\n",
    "    ## Reporter\n",
    "    session.run(\"\"\"\n",
    "        MATCH (n:Analysis)-->(:ReporterIncubation)-->(r:Reporter)\n",
    "        MERGE (n)-[:USE_CASE {strength: 1}]->(r)\n",
    "    \"\"\")\n",
    "    ## CellularRegion\n",
    "    session.run(\"\"\"\n",
    "        MATCH (n:Analysis)-->(:DataType)-->(r:CellularRegion)\n",
    "        MERGE (n)-[:USE_CASE]->(r)\n",
    "    \"\"\")\n",
    "    ## Software\n",
    "    session.run(\"\"\"\n",
    "        MATCH (n:Analysis)-->(:DataType)-->(s:Software)\n",
    "        MERGE (n)-[:USE_CASE]->(s)\n",
    "    \"\"\")\n",
    "    ## RegionZone\n",
    "    session.run(\"\"\"\n",
    "        MATCH (n:Analysis)-->(:DataType)-->(s:RegionZone)\n",
    "        MERGE (n)-[:USE_CASE]->(s)\n",
    "    \"\"\")\n",
    "    ## SectioningInstrument\n",
    "    session.run(\"\"\"\n",
    "        MATCH (n:Analysis)-->(s:SectioningInstrument)\n",
    "        MERGE (n)-[:USE_CASE]->(s)\n",
    "    \"\"\")\n",
    "\n",
    "     ## CellType\n",
    "    session.run(\"\"\"\n",
    "        MATCH (n:Analysis)-->(c:CellType)\n",
    "        MERGE (n)-[:USE_CASE]->(c)\n",
    "    \"\"\")\n"
   ]
  },
  {
   "cell_type": "markdown",
   "metadata": {},
   "source": [
    "Now, with the relationships in place, we create a graph projection for each community and run the node similarity algorithm again to see if there are any analyses within a community that is similar"
   ]
  },
  {
   "cell_type": "code",
   "execution_count": 91,
   "metadata": {},
   "outputs": [
    {
     "name": "stdout",
     "output_type": "stream",
     "text": [
      "created 7 projections\n"
     ]
    },
    {
     "data": {
      "text/plain": [
       "{110: [['170', '173', 1.0], ['173', '170', 1.0]],\n",
       " 102: [['165', '533', 1.0], ['533', '165', 1.0]],\n",
       " 188: [['250', '251', 1.0], ['251', '250', 1.0]],\n",
       " 245: [['166', '535', 1.0], ['535', '166', 1.0]],\n",
       " 247: [['167', '537', 1.0], ['537', '167', 1.0]],\n",
       " 109: [['171', '172', 1.0], ['172', '171', 1.0]],\n",
       " 194: [['254', '257', 1.0], ['257', '254', 1.0]]}"
      ]
     },
     "execution_count": 91,
     "metadata": {},
     "output_type": "execute_result"
    }
   ],
   "source": [
    "def get_method_similarity(degreeCutoff):\n",
    "    tables = {}\n",
    "    with driver.session() as session:\n",
    "        session.run(\"\"\"\n",
    "            MATCH ()-[r:NODE_ANALYSES_SIMILARITY]-()\n",
    "            DETACH DELETE r\n",
    "        \"\"\")\n",
    "        \n",
    "        # create projection for each community\n",
    "        for row in louvain_table:\n",
    "            \n",
    "            if(row[1] <= 1):\n",
    "                continue\n",
    "            community_id = row[0]\n",
    "            \n",
    "            name = 'analyses-' + str(community_id)\n",
    "            res = session.run(\"\"\"\n",
    "                CALL gds.graph.create.cypher(\n",
    "                    '%s',\n",
    "                    'MATCH (a:Analysis)-[:USE_CASE]->(m) WHERE a.louvainAnalyses = %d WITH collect(a)+collect(m) as nodes UNWIND nodes as x RETURN DISTINCT id(x) as id', \n",
    "                    'MATCH (a:Analysis)-[:USE_CASE]->(m) WHERE a.louvainAnalyses = %d RETURN id(a) as source, id(m) as target'\n",
    "                )\"\"\" % (name, community_id, community_id))\n",
    "\n",
    "            #for rec in res:\n",
    "            #    print(\"Created projection for\", community_id, \"with\", rec[\"nodeCount\"], \"nodes\")\n",
    "\n",
    "            res = session.run(\"\"\"\n",
    "                CALL gds.nodeSimilarity.stream(\n",
    "                    '%s',\n",
    "                    {\n",
    "                        degreeCutoff: %d,\n",
    "                        similarityCutoff: 1.0\n",
    "                    }\n",
    "                )\n",
    "                YIELD node1, node2, similarity\n",
    "                RETURN gds.util.asNode(node1).id as id1, gds.util.asNode(node2).id as id2, similarity\n",
    "                ORDER BY id1\n",
    "            \"\"\" % (name, degreeCutoff))\n",
    "            \n",
    "            count = 0\n",
    "\n",
    "            \n",
    "            for record in res:\n",
    "                if(count == 0):\n",
    "                    tables[community_id] = []\n",
    "                count+=1\n",
    "                tables[community_id].append([record[\"id1\"], record[\"id2\"], record[\"similarity\"]])\n",
    "\n",
    "            ## Store the NODE_METHOD_SIMILARITY relationship between the analyses within the group:\n",
    "            session.run(\"\"\"\n",
    "                CALL gds.nodeSimilarity.write(\n",
    "                    '%s',\n",
    "                    {\n",
    "                        degreeCutoff: %d,\n",
    "                        similarityCutoff: 1.0,\n",
    "                        writeRelationshipType: 'NODE_METHOD_SIMILARITY',\n",
    "                        writeProperty:'score'\n",
    "                    }\n",
    "                )\n",
    "            \"\"\" % (name, degreeCutoff))\n",
    "\n",
    "            session.run(\"call gds.graph.drop('%s')\" % name)\n",
    "\n",
    "    print(\"created\", len(tables), \"projections\")\n",
    "    return tables\n",
    "    \n",
    "get_method_similarity(10)"
   ]
  },
  {
   "cell_type": "markdown",
   "metadata": {},
   "source": [
    "Visualized: \n",
    "<img src=\"..\\Data/visualizations/use_case_totally_similar.png\" alt=\"Drawing\" style=\"width: 300px;\"/>\n",
    "\n",
    "By this, we observe that only nodes from the same experiments are completely similar with methods.\n",
    "We can now try to have degree cutoff at 9, to allow one thing to be not common:"
   ]
  },
  {
   "cell_type": "code",
   "execution_count": 92,
   "metadata": {},
   "outputs": [
    {
     "name": "stdout",
     "output_type": "stream",
     "text": [
      "created 11 projections\n"
     ]
    },
    {
     "data": {
      "text/plain": [
       "{110: [['170', '173', 1.0], ['173', '170', 1.0]],\n",
       " 206: [['728', '729', 1.0], ['729', '728', 1.0]],\n",
       " 174: [['701', '704', 1.0],\n",
       "  ['701', '703', 1.0],\n",
       "  ['701', '702', 1.0],\n",
       "  ['702', '704', 1.0],\n",
       "  ['702', '703', 1.0],\n",
       "  ['702', '701', 1.0],\n",
       "  ['703', '704', 1.0],\n",
       "  ['703', '702', 1.0],\n",
       "  ['703', '701', 1.0],\n",
       "  ['704', '703', 1.0],\n",
       "  ['704', '702', 1.0],\n",
       "  ['704', '701', 1.0]],\n",
       " 45: [['103', '104', 1.0], ['104', '103', 1.0]],\n",
       " 175: [['681', '682', 1.0], ['682', '681', 1.0]],\n",
       " 102: [['165', '533', 1.0], ['533', '165', 1.0]],\n",
       " 188: [['250', '251', 1.0], ['251', '250', 1.0]],\n",
       " 245: [['166', '535', 1.0], ['535', '166', 1.0]],\n",
       " 247: [['167', '537', 1.0], ['537', '167', 1.0]],\n",
       " 109: [['171', '172', 1.0], ['172', '171', 1.0]],\n",
       " 194: [['254', '257', 1.0], ['257', '254', 1.0]]}"
      ]
     },
     "execution_count": 92,
     "metadata": {},
     "output_type": "execute_result"
    }
   ],
   "source": [
    "get_method_similarity(9)"
   ]
  },
  {
   "cell_type": "markdown",
   "metadata": {},
   "source": [
    "Visualization:\n",
    "\n",
    "<img src=\"..\\Data/visualizations/use_case_9of10_similar.png\" alt=\"Drawing\" style=\"width: 300px;\"/>\n",
    "\n",
    "\n",
    "We still observe that they come from the same experiment.\n",
    "\n",
    "With this we have proven that we *cannot* say anything about the methods used in comparison with the results"
   ]
  },
  {
   "cell_type": "code",
   "execution_count": 93,
   "metadata": {},
   "outputs": [],
   "source": [
    "with driver.session() as session:\n",
    "    session.run(\"\"\"\n",
    "        MATCH ()-[r:NODE_ANALYSES_SIMILARITY]-()\n",
    "        DETACH DELETE r\n",
    "    \"\"\")\n",
    "    session.run(\"\"\"\n",
    "        MATCH ()-[r:NODE_METHOD_SIMILARITY]-()\n",
    "        DETACH DELETE r\n",
    "    \"\"\")\n",
    "    session.run(\"\"\"\n",
    "        MATCH ()-[r:USE_CASE]-()\n",
    "        DETACH DELETE r\n",
    "    \"\"\")\n",
    "    session.run(\"\"\"\n",
    "        MATCH (n:AnalysisDataType)\n",
    "        DETACH DELETE n\n",
    "    \"\"\")"
   ]
  },
  {
   "cell_type": "code",
   "execution_count": null,
   "metadata": {},
   "outputs": [],
   "source": []
  }
 ],
 "metadata": {
  "kernelspec": {
   "display_name": "Python 3",
   "language": "python",
   "name": "python3"
  },
  "language_info": {
   "codemirror_mode": {
    "name": "ipython",
    "version": 3
   },
   "file_extension": ".py",
   "mimetype": "text/x-python",
   "name": "python",
   "nbconvert_exporter": "python",
   "pygments_lexer": "ipython3",
   "version": "3.7.4"
  }
 },
 "nbformat": 4,
 "nbformat_minor": 4
}
