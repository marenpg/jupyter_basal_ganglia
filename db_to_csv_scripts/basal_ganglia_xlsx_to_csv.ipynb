{
 "cells": [
  {
   "cell_type": "code",
   "execution_count": 7,
   "metadata": {},
   "outputs": [
    {
     "name": "stdout",
     "output_type": "stream",
     "text": [
      "Converted all regions from xlsx to csv\n"
     ]
    }
   ],
   "source": [
    "## REGIONS\n",
    "import pandas as pd\n",
    "\n",
    "files = [\n",
    "    (\"../Data/xlsx/basal_ganglia_regions.xlsx\", \"regions_other\", \"../Data/csvs/basal_ganglia/regions/regions_other.csv\", {}),\n",
    "    (\"../Data/xlsx/basal_ganglia_regions.xlsx\", \"region_records\", \"../Data/csvs/basal_ganglia/regions/region_records.csv\", {\"Original_framework\":int, \"Documentation_score\":int}),\n",
    "    (\"../Data/xlsx/basal_ganglia_regions.xlsx\", \"original_region_records\", \"../Data/csvs/basal_ganglia/regions/original_region_records.csv\", {}),\n",
    "    (\"../Data/xlsx/basal_ganglia_regions.xlsx\", \"regions\", \"../Data/csvs/basal_ganglia/regions/regions.csv\", {\"Nomenclature\":int}),\n",
    "    (\"../Data/xlsx/basal_ganglia_regions.xlsx\", \"region_zones\", \"../Data/csvs/basal_ganglia/regions/region_zones.csv\", {}),    \n",
    "    (\"../Data/xlsx/basal_ganglia_regions.xlsx\", \"nomenclatures\", \"../Data/csvs/basal_ganglia/regions/nomenclatures.csv\",  {\"Version\":int, \"Published\":int}),    \n",
    "    (\"../Data/xlsx/basal_ganglia_regions.xlsx\", \"nomenclatures_other\", \"../Data/csvs/basal_ganglia/regions/nomenclatures_other.csv\", {\"Version\":int, \"Published\":int, \"Strain\": int}),    \n",
    "]\n",
    "\n",
    "for xlsx, sheet, csv, converters in files:\n",
    "    data_xls = pd.read_excel(xlsx, sheet, index_col=None, converters = converters)\n",
    "    data_xls.to_csv(csv, encoding='utf-8')\n",
    "    \n",
    "print(\"Converted all regions from xlsx to csv\")"
   ]
  },
  {
   "cell_type": "code",
   "execution_count": 6,
   "metadata": {},
   "outputs": [
    {
     "name": "stdout",
     "output_type": "stream",
     "text": [
      "Converted all subjects from xlsx to csv\n"
     ]
    }
   ],
   "source": [
    "## SUBJECTS\n",
    "import pandas as pd\n",
    "\n",
    "files = [\n",
    "    (\"../Data/xlsx/basal_ganglia_subjects.xlsx\", \"Age_categories\", \"../Data/csvs/basal_ganglia/subjects/age_categories.csv\", {}),\n",
    "    (\"../Data/xlsx/basal_ganglia_subjects.xlsx\", \"Sex\", \"../Data/csvs/basal_ganglia/subjects/sex.csv\", {}),\n",
    "    (\"../Data/xlsx/basal_ganglia_subjects.xlsx\", \"Species\", \"../Data/csvs/basal_ganglia/subjects/species.csv\", {}),\n",
    "    (\"../Data/xlsx/basal_ganglia_subjects.xlsx\", \"Specimens\", \"../Data/csvs/basal_ganglia/subjects/specimens.csv\", {\"Experiment_ID\":int}),\n",
    "    (\"../Data/xlsx/basal_ganglia_subjects.xlsx\", \"Strains\", \"../Data/csvs/basal_ganglia/subjects/strains.csv\", {}),    \n",
    "    (\"../Data/xlsx/basal_ganglia_subjects.xlsx\", \"Substrains\", \"../Data/csvs/basal_ganglia/subjects/substrains.csv\", {\"Strain_name\":int}),    \n",
    "    (\"../Data/xlsx/basal_ganglia_subjects.xlsx\", \"Transgenic_lines\", \"../Data/csvs/basal_ganglia/subjects/transgenic_lines.csv\", {}),\n",
    "    (\"../Data/xlsx/basal_ganglia_experiments.xlsx\", \"derived_ddr_specimen\", \"../Data/csvs/basal_ganglia/subjects/derived_ddr_specimen.csv\", {\"analysisId\": int, \"SpecimenId\":int, \"Species\":int, \"Strain\":int, \"Substrain\":int, \"Transgenic_line_name\":int, \"Sex\":int, \"ageId\":int})\n",
    "]\n",
    "\n",
    "for xlsx, sheet, csv, converters in files:\n",
    "    data_xls = pd.read_excel(xlsx, sheet, index_col=None, converters = converters)\n",
    "    data_xls.to_csv(csv, encoding='utf-8')\n",
    "    \n",
    "print(\"Converted all subjects from xlsx to csv\")"
   ]
  },
  {
   "cell_type": "code",
   "execution_count": 1,
   "metadata": {},
   "outputs": [
    {
     "name": "stdout",
     "output_type": "stream",
     "text": [
      "Converted all experiments from xlsx to csv\n"
     ]
    }
   ],
   "source": [
    "## EXPERIMENTS\n",
    "import pandas as pd\n",
    "\n",
    "files = [\n",
    "    (\"../Data/xlsx/basal_ganglia_experiments.xlsx\", \"Calculations\", \"../Data/csvs/basal_ganglia/experiments/calculations.csv\", {}),\n",
    "    (\"../Data/xlsx/basal_ganglia_experiments.xlsx\", \"Cell_morphologies\", \"../Data/csvs/basal_ganglia/experiments/cell_morphologies.csv\", {\"Region_zone\":int}),\n",
    "    (\"../Data/xlsx/basal_ganglia_experiments.xlsx\", \"Derived_data_EMdetails\", \"../Data/csvs/basal_ganglia/experiments/derived_data_EMdetails.csv\", {}),\n",
    "    (\"../Data/xlsx/basal_ganglia_experiments.xlsx\", \"Derived_data_LFMdetails\", \"../Data/csvs/basal_ganglia/experiments/derived_data_LFMdetails.csv\", {}),\n",
    "    (\"../Data/xlsx/basal_ganglia_experiments.xlsx\", \"Derived_data_records\", \"../Data/csvs/basal_ganglia/experiments/derived_data_records.csv\", {\"Number_of_animals\":int, \"Cell_type_putative\":int, \"Object_of_interest\":int, \"Visualization_method\":int }),    \n",
    "    (\"../Data/xlsx/basal_ganglia_experiments.xlsx\", \"Distributions\", \"../Data/csvs/basal_ganglia/experiments/distributions.csv\",  {\"Stereology_details_record\":int, \"Related_quantitation\":int, \"Software\":int, \"Cellular_region\":int}),    \n",
    "    (\"../Data/xlsx/basal_ganglia_experiments.xlsx\", \"Electron_microscopy_details\", \"../Data/csvs/basal_ganglia/experiments/electron_microscopy_details.csv\", {\"Magnification\":int}),    \n",
    "    (\"../Data/xlsx/basal_ganglia_experiments.xlsx\", \"Experiments\", \"../Data/csvs/basal_ganglia/experiments/experiments.csv\",  {\"Strain\":int, \"Substrain\":int, \"Transgenic_line_name\":int, \"Sex\":int, \"Age_lower_limit\":int, \"Age_upper_limit\":int, \"Age\":int, \"Weight_lower_limit\":int, \"Weight_upper_limit\":int, \"Anaesthetic\":int, \"Perfusion_fix_medium\":int}),    \n",
    "    (\"../Data/xlsx/basal_ganglia_experiments.xlsx\", \"Light_fluorescence_microscopy_d\", \"../Data/csvs/basal_ganglia/experiments/light_fluorescence_microscopy_details.csv\",  {}),    \n",
    "    (\"../Data/xlsx/basal_ganglia_experiments.xlsx\", \"Microscopes\", \"../Data/csvs/basal_ganglia/experiments/microscopes.csv\",  {}),    \n",
    "    (\"../Data/xlsx/basal_ganglia_experiments.xlsx\", \"Quantitations\", \"../Data/csvs/basal_ganglia/experiments/quantitations.csv\",  {\"Region_zone\":int,\"Cellular_target_region\":int,\"Cellular_target_ID\":int, \"Software\":int,\"Stereology_details_record\":int}),    \n",
    "    (\"../Data/xlsx/basal_ganglia_experiments.xlsx\", \"Reporter_incubations\", \"../Data/csvs/basal_ganglia/experiments/reporter_incubations.csv\",  {}),    \n",
    "    (\"../Data/xlsx/basal_ganglia_experiments.xlsx\", \"Reporter_labels\", \"../Data/csvs/basal_ganglia/experiments/reporter_labels.csv\",  {}),    \n",
    "    (\"../Data/xlsx/basal_ganglia_experiments.xlsx\", \"Reporter_targets\", \"../Data/csvs/basal_ganglia/experiments/reporter_targets.csv\",  {}),    \n",
    "    (\"../Data/xlsx/basal_ganglia_experiments.xlsx\", \"Reporters\", \"../Data/csvs/basal_ganglia/experiments/reporters.csv\",  {\"Target\":int, \"Label\":int}),    \n",
    "    (\"../Data/xlsx/basal_ganglia_experiments.xlsx\", \"Sectioning_details\", \"../Data/csvs/basal_ganglia/experiments/sectioning_details.csv\",  {\"Section_thickness\":int,\"Sectioning_instrument\":int}),\n",
    "    (\"../Data/xlsx/basal_ganglia_experiments.xlsx\", \"Sectioning_instruments\", \"../Data/csvs/basal_ganglia/experiments/sectioning_instruments.csv\",  {}),\n",
    "    (\"../Data/xlsx/basal_ganglia_experiments.xlsx\", \"Single_cell_labelings\", \"../Data/csvs/basal_ganglia/experiments/single_cell_labelings.csv\",  {}),\n",
    "    (\"../Data/xlsx/basal_ganglia_experiments.xlsx\", \"Softwares\", \"../Data/csvs/basal_ganglia/experiments/softwares.csv\",  {}),\n",
    "    (\"../Data/xlsx/basal_ganglia_experiments.xlsx\", \"Solutions\", \"../Data/csvs/basal_ganglia/experiments/solutions.csv\",  {}),\n",
    "    (\"../Data/xlsx/basal_ganglia_experiments.xlsx\", \"Specimen_treatments\", \"../Data/csvs/basal_ganglia/experiments/specimen_treatments.csv\",  {\"Specimen_ID\":int,\"Solution\":int}),\n",
    "    (\"../Data/xlsx/basal_ganglia_experiments.xlsx\", \"Stereology_details\", \"../Data/csvs/basal_ganglia/experiments/stereology_details.csv\",  {\"Disector_height\":int, \"Investigated_sections\":int, \"Investigated_fields\":int, \"Counted_objects\":int}),\n",
    "    (\"../Data/xlsx/basal_ganglia_experiments.xlsx\", \"Visualization_protocols\", \"../Data/csvs/basal_ganglia/experiments/visualization_protocols.csv\",  {}),\n",
    "    (\"../Data/xlsx/basal_ganglia_experiments.xlsx\", \"derived_ddr_reporters\", \"../Data/csvs/basal_ganglia/experiments/derived_ddr_reporters.csv\", {\"analysisId\": int, \"SpecimenId\":int, \"reporterId\":int}), \n",
    "    (\"../Data/xlsx/basal_ganglia_experiments.xlsx\", \"derived_ddr_sectioning_details\", \"../Data/csvs/basal_ganglia/experiments/derived_ddr_sectioning_details.csv\", {\"analysisId\": int, \"SpecimenId\":int, \"sectioningDetailsId\":int}),\n",
    "    (\"../Data/xlsx/basal_ganglia_experiments.xlsx\", \"derived_ddr_experiments\", \"../Data/csvs/basal_ganglia/experiments/derived_ddr_experiments.csv\", {\"analysisId\": int, \"specimenId\":int, \"analysisId\":int})\n",
    "]\n",
    "\n",
    "for xlsx, sheet, csv, converters in files:\n",
    "    data_xls = pd.read_excel(xlsx, sheet, index_col=None, converters = converters)\n",
    "    data_xls.to_csv(csv, encoding='utf-8')\n",
    "    \n",
    "print(\"Converted all experiments from xlsx to csv\")"
   ]
  },
  {
   "cell_type": "code",
   "execution_count": 2,
   "metadata": {},
   "outputs": [
    {
     "name": "stdout",
     "output_type": "stream",
     "text": [
      "Converted all sources from xlsx to csv\n"
     ]
    }
   ],
   "source": [
    "## SOURCES\n",
    "import pandas as pd\n",
    "\n",
    "files = [\n",
    "    (\"../Data/xlsx/basal_ganglia_sources.xlsx\", \"Sources\", \"../Data/csvs/basal_ganglia/sources/sources.csv\", {\"Source_publication_year\":int, \"Source_origin\":int}),\n",
    "    (\"../Data/xlsx/basal_ganglia_sources.xlsx\", \"Source_origins_lookup\", \"../Data/csvs/basal_ganglia/sources/source_origins_lookup.csv\", {}),\n",
    "    (\"../Data/xlsx/basal_ganglia_sources.xlsx\", \"Considered_papers\", \"../Data/csvs/basal_ganglia/sources/considered_papers.csv\", {\"Published\":int, \"Journal\":int}),\n",
    "    (\"../Data/xlsx/basal_ganglia_sources.xlsx\", \"Considered_papers_desicions\", \"../Data/csvs/basal_ganglia/sources/considered_papers_desicions.csv\", {}),\n",
    "     (\"../Data/xlsx/basal_ganglia_sources.xlsx\", \"Journals\", \"../Data/csvs/basal_ganglia/sources/journals.csv\", {}),\n",
    "     (\"../Data/xlsx/basal_ganglia_sources.xlsx\", \"Repositories\", \"../Data/csvs/basal_ganglia/sources/repositories.csv\", {}),\n",
    "]\n",
    "\n",
    "for xlsx, sheet, csv, converters in files:\n",
    "    data_xls = pd.read_excel(xlsx, sheet, index_col=None, converters = converters)\n",
    "    data_xls.to_csv(csv, encoding='utf-8')\n",
    "\n",
    "print(\"Converted all sources from xlsx to csv\")"
   ]
  },
  {
   "cell_type": "code",
   "execution_count": 4,
   "metadata": {},
   "outputs": [
    {
     "name": "stdout",
     "output_type": "stream",
     "text": [
      "Converted all Cells from xlsx to csv\n"
     ]
    }
   ],
   "source": [
    "## CELLS\n",
    "import pandas as pd\n",
    "\n",
    "files = [\n",
    "    (\"../Data/xlsx/basal_ganglia_cells.xlsx\", \"Cell_phenotype_categories\", \"../Data/csvs/basal_ganglia/cells/cell_phenotype_categories.csv\", {}),\n",
    "    (\"../Data/xlsx/basal_ganglia_cells.xlsx\", \"Cell_phenotypes\", \"../Data/csvs/basal_ganglia/cells/cell_phenotypes.csv\", {\"Phenotype_category\":int}),\n",
    "    (\"../Data/xlsx/basal_ganglia_cells.xlsx\", \"Cell_type_classifications\", \"../Data/csvs/basal_ganglia/cells/cell_type_classifications.csv\", {}),\n",
    "    (\"../Data/xlsx/basal_ganglia_cells.xlsx\", \"Cell_types\", \"../Data/csvs/basal_ganglia/cells/cell_types.csv\", {}),\n",
    "    (\"../Data/xlsx/basal_ganglia_cells.xlsx\", \"Cellular_regions\", \"../Data/csvs/basal_ganglia/cells/cellular_regions.csv\", {}),\n",
    "    (\"../Data/xlsx/basal_ganglia_cells.xlsx\", \"Objects_of_interest\", \"../Data/csvs/basal_ganglia/cells/objects_of_interest.csv\", {}),\n",
    "    (\"../Data/xlsx/basal_ganglia_cells.xlsx\", \"cell_phenotype_type_categories\", \"../Data/csvs/basal_ganglia/cells/cell_phenotype_type_categories.csv\", {}),\n",
    "    (\"../Data/xlsx/basal_ganglia_cells.xlsx\", \"celltypes_phenotypes\", \"../Data/csvs/basal_ganglia/cells/celltypes_phenotypes.csv\", {}),\n",
    "]\n",
    "\n",
    "for xlsx, sheet, csv, converters in files:\n",
    "    data_xls = pd.read_excel(xlsx, sheet, index_col=None, converters = converters)\n",
    "    data_xls.to_csv(csv, encoding='utf-8')\n",
    "\n",
    "print(\"Converted all Cells from xlsx to csv\")"
   ]
  },
  {
   "cell_type": "code",
   "execution_count": null,
   "metadata": {},
   "outputs": [],
   "source": []
  }
 ],
 "metadata": {
  "kernelspec": {
   "display_name": "Python 3",
   "language": "python",
   "name": "python3"
  },
  "language_info": {
   "codemirror_mode": {
    "name": "ipython",
    "version": 3
   },
   "file_extension": ".py",
   "mimetype": "text/x-python",
   "name": "python",
   "nbconvert_exporter": "python",
   "pygments_lexer": "ipython3",
   "version": "3.7.4"
  }
 },
 "nbformat": 4,
 "nbformat_minor": 4
}
