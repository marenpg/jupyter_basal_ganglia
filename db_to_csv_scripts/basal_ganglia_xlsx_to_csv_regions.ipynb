{
 "cells": [
  {
   "cell_type": "code",
   "execution_count": 4,
   "metadata": {},
   "outputs": [],
   "source": [
    "import pandas as pd\n",
    "\n",
    "files = [\n",
    "    (\"../Data/xlsx/regions_other.xlsx\", \"regions_other\", \"../Data/csvs/basal_ganglia/regions/regions_other.csv\"),\n",
    "    (\"../Data/xlsx/region_records.xlsx\", \"Sheet1\", \"../Data/csvs/basal_ganglia/regions/region_records.csv\"),\n",
    "    (\"../Data/xlsx/original_region_records.xlsx\", \"Sheet1\", \"../Data/csvs/basal_ganglia/regions/original_region_records.csv\"),\n",
    "    (\"../Data/xlsx/regions.xlsx\", \"Sheet1\", \"../Data/csvs/basal_ganglia/regions/regions.csv\"),\n",
    "    (\"../Data/xlsx/region_zones.xlsx\", \"Sheet1\", \"../Data/csvs/basal_ganglia/regions/region_zones.csv\"),    \n",
    "    (\"../Data/xlsx/nomenclatures.xlsx\", \"Sheet1\", \"../Data/csvs/basal_ganglia/regions/nomenclatures.csv\"),    \n",
    "    (\"../Data/xlsx/nomenclatures_other.xlsx\", \"Sheet1\", \"../Data/csvs/basal_ganglia/regions/nomenclatures_other.csv\"),    \n",
    "]\n",
    "\n",
    "for xlsx, sheet, csv in files:\n",
    "    data_xls = pd.read_excel(xlsx, sheet, index_col=None)\n",
    "    data_xls.to_csv(csv, encoding='utf-8')"
   ]
  },
  {
   "cell_type": "code",
   "execution_count": null,
   "metadata": {},
   "outputs": [],
   "source": []
  }
 ],
 "metadata": {
  "kernelspec": {
   "display_name": "Python 3",
   "language": "python",
   "name": "python3"
  },
  "language_info": {
   "codemirror_mode": {
    "name": "ipython",
    "version": 3
   },
   "file_extension": ".py",
   "mimetype": "text/x-python",
   "name": "python",
   "nbconvert_exporter": "python",
   "pygments_lexer": "ipython3",
   "version": "3.7.4"
  }
 },
 "nbformat": 4,
 "nbformat_minor": 4
}
