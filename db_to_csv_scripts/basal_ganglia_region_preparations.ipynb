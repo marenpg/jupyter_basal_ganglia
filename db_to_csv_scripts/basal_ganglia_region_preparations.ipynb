{
 "cells": [
  {
   "cell_type": "code",
   "execution_count": 3,
   "metadata": {},
   "outputs": [
    {
     "name": "stdout",
     "output_type": "stream",
     "text": [
      "Csv with all regions fixed in all_regions.csv\n"
     ]
    }
   ],
   "source": [
    "## Csvs of brain region, remove prefix in names\n",
    "import pandas as pd\n",
    "import re \n",
    "\n",
    "root = \"../Data/csvs/basal_ganglia/regions\"\n",
    "\n",
    "# Load region csvs\n",
    "df_region = pd.read_csv(root + \"/regions.csv\", dtype=\"object\")\n",
    "df_region_other = pd.read_csv(root + \"/regions_other.csv\", dtype=\"object\")\n",
    "\n",
    "# Remove the prefix of the name as it only adds a relation to the nomenclature which we again add later\n",
    "df_region[\"Region_name\"] = [re.sub(r'\\w*\\_','', str(x)) for x in df_region['Region_name']]\n",
    "df_region_other[\"Region_name\"] = [re.sub(r'\\w*\\_','', str(x)) for x in df_region_other['Region_name']]\n",
    "\n",
    "# Store in common csv\n",
    "df_region.to_csv(root + \"/regions.csv\", encoding='utf-8')\n",
    "df_region_other.to_csv(root + \"/regions_other.csv\", encoding='utf-8')\n",
    "\n",
    "print(\"Csv with all regions fixed in all_regions.csv\")"
   ]
  },
  {
   "cell_type": "code",
   "execution_count": 4,
   "metadata": {},
   "outputs": [
    {
     "ename": "SyntaxError",
     "evalue": "invalid syntax (<ipython-input-4-be1a5879e8ee>, line 7)",
     "output_type": "error",
     "traceback": [
      "\u001b[1;36m  File \u001b[1;32m\"<ipython-input-4-be1a5879e8ee>\"\u001b[1;36m, line \u001b[1;32m7\u001b[0m\n\u001b[1;33m    5,5,10,pars compacta,26\u001b[0m\n\u001b[1;37m                       ^\u001b[0m\n\u001b[1;31mSyntaxError\u001b[0m\u001b[1;31m:\u001b[0m invalid syntax\n"
     ]
    }
   ],
   "source": [
    "## Add hierarkikal information about regions\n",
    "\n",
    "# Nomenclature 1 and 3 is RAT, 2 is Mouse\n",
    "## Hierarchy of Mouse\n",
    ",Unnamed: 0,ID,Region_name,Part_of\n",
    "1,1,2,Caudoputamen,34\n",
    "5,5,10,pars compacta,26\n",
    "6,6,11,pars reticulata,26\n",
    "7,7,13,striatum ventral region,34\n",
    "8,8,14,pallidum dorsal region,28\n",
    "9,9,15,pallidum ventral region,28\n",
    "11,11,17,Internal segment,14\n",
    "12,12,18,External segment,14\n",
    "13,13,19,Nucleus accumbens,13\n",
    "14,14,20,Fundus of striatum,13\n",
    "15,15,21,Substantia innominata,15\n",
    "17,17,23,Subthalamic nucleus,32\n",
    "20,20,26,Substantia nigra,31\n",
    "21,21,27,Striatum,34\n",
    "22,22,28,Pallidum,34\n",
    "25,25,31,Midbrain,32\n",
    "26,26,32,Brainstem,33\n",
    "27,27,33,Brain,\n",
    "28,28,34,Basal ganglia,33\n",
    "29,29,35,Ventral tegmental area,31\n",
    "\n",
    "## Hierarchy of RAT\n",
    ",Unnamed: 0,ID,Region_name,Part_of\n",
    "0,0,1,Caudoputamen,24\n",
    "2,2,3,Accumbens nucleus,24\n",
    "3,3,8,Substantia nigra compact part,25\n",
    "4,4,9,Substantia nigra reticular part,25\n",
    "10,10,16,Substantia nigra lateral part,25\n",
    "16,16,22,Subthalamic nucleus,32\n",
    "18,18,24,Striatum,34\n",
    "19,19,25,Substantia nigra,32\n",
    "23,23,29,Globus pallidus,34\n",
    "24,24,30,Entopeduncular nucleus,29\n",
    "26,26,32,Brainstem,33\n",
    "27,27,33,Brain,\n",
    "28,28,34,Basal ganglia,33\n",
    "\n",
    "\n"
   ]
  },
  {
   "cell_type": "code",
   "execution_count": null,
   "metadata": {},
   "outputs": [],
   "source": []
  }
 ],
 "metadata": {
  "kernelspec": {
   "display_name": "Python 3",
   "language": "python",
   "name": "python3"
  },
  "language_info": {
   "codemirror_mode": {
    "name": "ipython",
    "version": 3
   },
   "file_extension": ".py",
   "mimetype": "text/x-python",
   "name": "python",
   "nbconvert_exporter": "python",
   "pygments_lexer": "ipython3",
   "version": "3.7.4"
  }
 },
 "nbformat": 4,
 "nbformat_minor": 4
}
