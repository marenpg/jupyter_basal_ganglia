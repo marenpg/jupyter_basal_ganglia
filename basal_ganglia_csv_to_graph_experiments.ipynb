{
 "cells": [
  {
   "cell_type": "code",
   "execution_count": 46,
   "metadata": {},
   "outputs": [],
   "source": [
    "from neo4j import GraphDatabase, basic_auth\n",
    "import os\n",
    "\n",
    "driver = GraphDatabase.driver(\"bolt://localhost:7687\",auth=basic_auth(\"neo4j\", \"Kaffe1234\"))"
   ]
  },
  {
   "cell_type": "code",
   "execution_count": 47,
   "metadata": {},
   "outputs": [],
   "source": [
    "def get_count_of_type(label, session):\n",
    "    q = \"MATCH (n:%s) RETURN count(n)\" % label\n",
    "    res = session.run(q)\n",
    "    print(\"Added\", res.value()[0], \"nodes of type\", label)\n",
    "    \n",
    "def get_count_of_relationship(rel_label, fromLabel, toLabel, session):\n",
    "    q = \"MATCH (:%s)-[r:%s]-(:%s) RETURN count(*)\" % (fromLabel, rel_label, toLabel)\n",
    "    res = session.run(q)\n",
    "    print(\"Added\", res.value()[0], \"relationships of type\", fromLabel, rel_label, toLabel)\n",
    "\n",
    "def get_csv_path(csv_file):\n",
    "    path_all_csv = os.path.realpath(\"Data/csvs/basal_ganglia/experiments\")\n",
    "    return os.path.join(path_all_csv, csv_file).replace(\"\\\\\",\"/\")"
   ]
  },
  {
   "cell_type": "code",
   "execution_count": 62,
   "metadata": {},
   "outputs": [
    {
     "name": "stdout",
     "output_type": "stream",
     "text": [
      "wipeddatabase\n"
     ]
    }
   ],
   "source": [
    "# Deleting all cell data in database\n",
    "with driver.session() as session:\n",
    "        session.run('''\n",
    "            MATCH (n)\n",
    "            WHERE  n:Calculation\n",
    "                OR n:StereologyDetails \n",
    "                OR n:Distributions \n",
    "                OR n:CellMorphology \n",
    "                OR n:Analysis\n",
    "                OR n:Experiment\n",
    "                OR n:SectioningDetail\n",
    "                OR n:SectioningInstrument\n",
    "                OR n:ReporterIncubation\n",
    "                OR n:Reporter\n",
    "                OR n:ReporterLabel\n",
    "                OR n:ReporterTarget\n",
    "                OR n:ReporterType\n",
    "                OR n:VisualizationProtocol\n",
    "                OR n:Solution\n",
    "                OR n:Microscope\n",
    "                OR n:ElectronMicroscopeDetail\n",
    "                OR n:LightFluorescenceMicroscopeDetail\n",
    "            DETACH DELETE n\n",
    "        ''')\n",
    "        print(\"wipeddatabase\")"
   ]
  },
  {
   "cell_type": "code",
   "execution_count": 49,
   "metadata": {},
   "outputs": [
    {
     "name": "stdout",
     "output_type": "stream",
     "text": [
      "Added 958 nodes of type Calculation\n"
     ]
    }
   ],
   "source": [
    "# Adding Calculation to graph from calculations.csv\n",
    "csv_file_path = \"file:///%s\" % get_csv_path(\"calculations.csv\")\n",
    "query=\"\"\"\n",
    "        LOAD CSV WITH HEADERS FROM \"%s\" AS row\n",
    "        CREATE (:Calculation { id: row.ID, description: row.Calculation_performed})\n",
    "    \"\"\" % csv_file_path\n",
    "\n",
    "with driver.session() as session:    \n",
    "    session.run(query)\n",
    "    get_count_of_type(\"Calculation\", session)"
   ]
  },
  {
   "cell_type": "code",
   "execution_count": 50,
   "metadata": {},
   "outputs": [
    {
     "name": "stdout",
     "output_type": "stream",
     "text": [
      "Added 212 nodes of type StereologyDetails\n"
     ]
    }
   ],
   "source": [
    "# Adding StereologyDetails to graph from stereology_details.csv\n",
    "csv_file_path = \"file:///%s\" % get_csv_path(\"stereology_details.csv\")\n",
    "query=\"\"\"\n",
    "        LOAD CSV WITH HEADERS FROM \"%s\" AS row\n",
    "        CREATE (:StereologyDetails { id: row.ID, name: row.Stereology_details_name, probe: row.Probe, identificationFeature: row.Identification_feature, disectorHeight: toInt(row.Disector_height), areaSubfraction: toFloat(row.Area_subfraction), heightSubfraction: toFloat(row.Height_subfraction), investigatedSections: toFloat(row.Investigated_sections), investigatedFields: toInt(row.Investigated_fields), countedObjects: toInt(row.Counted_objects), coefficientOfError: toFloat(row.Coefficient_of_error), estimatedVolume: toFloat(row.Estimated_volume), volumeUnit: row.Volume_unit, anyExceptProbe: toInt(row.any_except_probe)})\n",
    "    \"\"\" % csv_file_path\n",
    "\n",
    "with driver.session() as session:    \n",
    "    session.run(query)\n",
    "    get_count_of_type(\"StereologyDetails\", session)"
   ]
  },
  {
   "cell_type": "code",
   "execution_count": 51,
   "metadata": {},
   "outputs": [
    {
     "name": "stderr",
     "output_type": "stream",
     "text": [
      "Failed to write data to connection Address(host='localhost', port=7687) (Address(host='127.0.0.1', port=7687)); (\"0; 'Underlying socket connection gone (_ssl.c:2283)'\")\n",
      "Failed to write data to connection Address(host='localhost', port=7687) (Address(host='127.0.0.1', port=7687)); (\"0; 'Underlying socket connection gone (_ssl.c:2283)'\")\n"
     ]
    },
    {
     "name": "stdout",
     "output_type": "stream",
     "text": [
      "Added 72 nodes of type Distribution\n"
     ]
    }
   ],
   "source": [
    "# Adding Distribution to graph from distributions.csv\n",
    "csv_file_path = \"file:///%s\" % get_csv_path(\"distributions.csv\")\n",
    "query=\"\"\"\n",
    "        LOAD CSV WITH HEADERS FROM \"%s\" AS row\n",
    "        CREATE (:Distribution { id: row.ID, name: row.Distribution_name, sectionSampling: row.Section_sampling, samplingFraction: row.Sampling_fraction, subsectionalSampling: row.Subsectional_sampling, finalEstimateBasis: row.Final_estimate_basis, distribution: row.Distribution, distributionDimensions: row.Distribution_dimensions, analysisTypePrimary: row.Analysis_type_primary, analysisTypeSecondary: row.Analysis_type_secondary})\n",
    "    \"\"\" % csv_file_path\n",
    "\n",
    "with driver.session() as session:    \n",
    "    session.run(query)\n",
    "    get_count_of_type(\"Distribution\", session)"
   ]
  },
  {
   "cell_type": "code",
   "execution_count": 52,
   "metadata": {},
   "outputs": [
    {
     "name": "stdout",
     "output_type": "stream",
     "text": [
      "Added 50 nodes of type CellMorphology\n"
     ]
    }
   ],
   "source": [
    "# Adding CellMorphology to graph from cell_morphologies.csv\n",
    "csv_file_path = \"file:///%s\" % get_csv_path(\"cell_morphologies.csv\")\n",
    "query=\"\"\"\n",
    "        LOAD CSV WITH HEADERS FROM \"%s\" AS row\n",
    "        CREATE (:CellMorphology { id: row.ID, name: row.Morphology_name, neuromorphoId: row.Neuromorpho_ID, somaSurface: toFloat(row.Soma_surface), numberOfStems: toInt(row.Number_stems), numberOfBifurcations: toInt(row.Number_bifurcations), numberOfBranches: toInt(row.Number_branches), overallWidth: toFloat(row.Overall_width), overallHeight: toFloat(row.Overall_height), overallDepth: toFloat(row.Overall_depth), averageBranchDiameter: toFloat(row.Average_branch_diameter), averageContraction: toFloat(row.Average_contraction), totalArborLength: toFloat(row.Total_arbor_length), totalArborSurface: toFloat(row.Total_arbor_surface), totalArborVolume: toFloat(row.Total_arbor_volume), maxEuclideanDistance: toFloat(row.Max_Euclidean_distance), maxPathDistance: toFloat(row.Max_path_distance), maxBranchOrder: toInt(row.Max_branch_order), totalFragmentation: toInt(row.Total_fragmentation), partitionAsymmetry: toFloat(row.Partition_asymmetry), averageRalls: toInt(row.Average_Ralls), averageBifurcationAngleLocal: toFloat(row.Average_bifurcation_angle_local), averageBifurcationAngleRemote: toFloat(row.Average_bifurcation_angle_remote), fractalDimension: toFloat(row.Fractal_dimension), physicalIntegrity: row.Physical_integrity, structuralDomains: row.Structural_domains, morphologicalAttributes: row.Morphological_attributes, originalFormat: row.Original_format})\n",
    "    \"\"\" % csv_file_path\n",
    "\n",
    "with driver.session() as session:    \n",
    "    session.run(query)\n",
    "    get_count_of_type(\"CellMorphology\", session)"
   ]
  },
  {
   "cell_type": "code",
   "execution_count": 53,
   "metadata": {},
   "outputs": [
    {
     "name": "stdout",
     "output_type": "stream",
     "text": [
      "Added 3222 nodes of type Quantitation\n"
     ]
    }
   ],
   "source": [
    "# Adding Quantitation to graph from cell_morphologies.csv\n",
    "csv_file_path = \"file:///%s\" % get_csv_path(\"quantitations.csv\")\n",
    "query=\"\"\"\n",
    "        LOAD CSV WITH HEADERS FROM \"%s\" AS row\n",
    "        CREATE (:Quantitation { id: row.ID, name: row.Quantitation_name, estimateRelevance: row.Estimate_relevance, sectionSampling: row.Section_sampling, samplingFraction: row.Sampling_fraction, subsectionalSampling: row.Subsectional_sampling, finalEstimateBasis: row.Final_estimate_basis, originalExtent: row.Original_extent, number: toInt(row.Number), numberSD: toInt(row.Number_SD), density: toFloat(row.Density), densityUnit: row.Density_unit, densitySD: toInt(row.Density_SD), volumetricDensity: toInt(row.Volumetric_density), estimateExtraction: row.Estimate_extraction})\n",
    "    \"\"\" % csv_file_path\n",
    "\n",
    "with driver.session() as session:    \n",
    "    session.run(query)\n",
    "    get_count_of_type(\"Quantitation\", session)"
   ]
  },
  {
   "cell_type": "code",
   "execution_count": 54,
   "metadata": {},
   "outputs": [
    {
     "name": "stdout",
     "output_type": "stream",
     "text": [
      "Added 674 nodes of type Analysis\n"
     ]
    }
   ],
   "source": [
    "# Adding Analysis to graph from derived_data_records.csv\n",
    "csv_file_path = \"file:///%s\" % get_csv_path(\"derived_data_records.csv\")\n",
    "query=\"\"\"\n",
    "        LOAD CSV WITH HEADERS FROM \"%s\" AS row\n",
    "        CREATE (:Analysis { id: row.ID, name: row.Derived_data_record_name, numberOfAnimals: row.Number_of_animals, shrinkageCorrection: row.Shrinkage_correction })\n",
    "    \"\"\" % csv_file_path\n",
    "\n",
    "with driver.session() as session:    \n",
    "    session.run(query)\n",
    "    get_count_of_type(\"Analysis\", session)"
   ]
  },
  {
   "cell_type": "code",
   "execution_count": 55,
   "metadata": {},
   "outputs": [
    {
     "name": "stdout",
     "output_type": "stream",
     "text": [
      "Added 375 nodes of type Experiment\n"
     ]
    }
   ],
   "source": [
    "# Adding Experiment to graph from experiments.csv\n",
    "csv_file_path = \"file:///%s\" % get_csv_path(\"experiments.csv\")\n",
    "query=\"\"\"\n",
    "        LOAD CSV WITH HEADERS FROM \"%s\" AS row\n",
    "        CREATE (:Experiment { id: row.ID, name: row.Experiment_name, source: row.Source, animalStatus: row.Animal_status, ageLowerLimit: toInt(row.Age_lower_limit), ageUpperLimit: toInt(row.Age_upper_limit), weightLowerLimit: toInt(row.Weight_lower_limit), weightUpperLimit: toInt(row.Weight_upper_limit) })\n",
    "    \"\"\" % csv_file_path\n",
    "\n",
    "with driver.session() as session:    \n",
    "    session.run(query)\n",
    "    get_count_of_type(\"Experiment\", session)"
   ]
  },
  {
   "cell_type": "code",
   "execution_count": 63,
   "metadata": {},
   "outputs": [
    {
     "name": "stdout",
     "output_type": "stream",
     "text": [
      "Added 510 nodes of type SectioningDetail\n"
     ]
    }
   ],
   "source": [
    "# Adding SectioningDetail to graph from experiments.csv\n",
    "csv_file_path = \"file:///%s\" % get_csv_path(\"sectioning_details.csv\")\n",
    "query=\"\"\"\n",
    "        LOAD CSV WITH HEADERS FROM \"%s\" AS row\n",
    "        CREATE (:SectioningDetail { id: row.ID, sectionThickness: toFloat(row.Section_thickness), sectionOrientation: row.Section_orientation })\n",
    "    \"\"\" % csv_file_path\n",
    "\n",
    "with driver.session() as session:    \n",
    "    session.run(query)\n",
    "    get_count_of_type(\"SectioningDetail\", session)"
   ]
  },
  {
   "cell_type": "code",
   "execution_count": 68,
   "metadata": {},
   "outputs": [
    {
     "name": "stdout",
     "output_type": "stream",
     "text": [
      "Added 719 nodes of type SectioningInstrument\n"
     ]
    }
   ],
   "source": [
    "# Adding SectioningInstrument to graph from sectioning_instruments.csv\n",
    "csv_file_path = \"file:///%s\" % get_csv_path(\"sectioning_instruments.csv\")\n",
    "query=\"\"\"\n",
    "        LOAD CSV WITH HEADERS FROM \"%s\" AS row\n",
    "        CREATE (:SectioningInstrument { id: row.ID, name: row.Sectioning_instrument_name })\n",
    "    \"\"\" % csv_file_path\n",
    "\n",
    "with driver.session() as session:    \n",
    "    session.run(query)\n",
    "    get_count_of_type(\"SectioningInstrument\", session)"
   ]
  },
  {
   "cell_type": "code",
   "execution_count": null,
   "metadata": {},
   "outputs": [],
   "source": [
    "# Adding ReporterIncubation to graph from reporter_incumations.csv\n",
    "csv_file_path = \"file:///%s\" % get_csv_path(\"reporter_incumations.csv\")\n",
    "query=\"\"\"\n",
    "        LOAD CSV WITH HEADERS FROM \"%s\" AS row\n",
    "        CREATE (:ReporterIncubation { id: row.ID, order: row.Order, concentration: row.Concentration, time: toFloat(row.Time), temperature: toInt(row.temperature) })\n",
    "    \"\"\" % csv_file_path\n",
    "\n",
    "with driver.session() as session:    \n",
    "    session.run(query)\n",
    "    get_count_of_type(\"ReporterIncubation\", session)"
   ]
  },
  {
   "cell_type": "code",
   "execution_count": 70,
   "metadata": {},
   "outputs": [
    {
     "name": "stdout",
     "output_type": "stream",
     "text": [
      "Added 249 nodes of type Reporter\n"
     ]
    }
   ],
   "source": [
    "# Adding Reporter to graph from reporters.csv\n",
    "csv_file_path = \"file:///%s\" % get_csv_path(\"reporters.csv\")\n",
    "query=\"\"\"\n",
    "        LOAD CSV WITH HEADERS FROM \"%s\" AS row\n",
    "        CREATE (:Reporter { id: row.ID, name: row.Name, type: row.Reporter_type, uniqueId: row.Reporter_unique_ID, comment: row.Comment, originSpecie: row.Origin_species  })\n",
    "    \"\"\" % csv_file_path\n",
    "\n",
    "with driver.session() as session:    \n",
    "    session.run(query)\n",
    "    get_count_of_type(\"Reporter\", session)"
   ]
  },
  {
   "cell_type": "code",
   "execution_count": 71,
   "metadata": {},
   "outputs": [
    {
     "name": "stdout",
     "output_type": "stream",
     "text": [
      "Added 23 nodes of type ReporterLabel\n"
     ]
    }
   ],
   "source": [
    "# Adding ReporterLabel to graph from reporter_labels.csv\n",
    "csv_file_path = \"file:///%s\" % get_csv_path(\"reporter_labels.csv\")\n",
    "query=\"\"\"\n",
    "        LOAD CSV WITH HEADERS FROM \"%s\" AS row\n",
    "        CREATE (:ReporterLabel { id: row.ID, name: row.Label})\n",
    "    \"\"\" % csv_file_path\n",
    "\n",
    "with driver.session() as session:    \n",
    "    session.run(query)\n",
    "    get_count_of_type(\"ReporterLabel\", session)"
   ]
  },
  {
   "cell_type": "code",
   "execution_count": 73,
   "metadata": {},
   "outputs": [
    {
     "name": "stdout",
     "output_type": "stream",
     "text": [
      "Added 123 nodes of type ReporterTarget\n"
     ]
    }
   ],
   "source": [
    "# Adding ReporterTarget to graph from reporter_targets.csv\n",
    "csv_file_path = \"file:///%s\" % get_csv_path(\"reporter_targets.csv\")\n",
    "query=\"\"\"\n",
    "        LOAD CSV WITH HEADERS FROM \"%s\" AS row\n",
    "        CREATE (:ReporterTarget { id: row.ID, phenotype: row.Phenotype})\n",
    "    \"\"\" % csv_file_path\n",
    "\n",
    "with driver.session() as session:    \n",
    "    session.run(query)\n",
    "    get_count_of_type(\"ReporterTarget\", session)"
   ]
  },
  {
   "cell_type": "code",
   "execution_count": 74,
   "metadata": {},
   "outputs": [
    {
     "name": "stdout",
     "output_type": "stream",
     "text": [
      "Added 12 nodes of type VisualizationProtocol\n"
     ]
    }
   ],
   "source": [
    "# Adding VisualizationProtocol to graph from visualization_protocols.csv\n",
    "csv_file_path = \"file:///%s\" % get_csv_path(\"visualization_protocols.csv\")\n",
    "query=\"\"\"\n",
    "        LOAD CSV WITH HEADERS FROM \"%s\" AS row\n",
    "        CREATE (:VisualizationProtocol { id: row.ID, name: row.Protocol_name, ontology: row.Ontological_identifier })\n",
    "    \"\"\" % csv_file_path\n",
    "\n",
    "with driver.session() as session:    \n",
    "    session.run(query)\n",
    "    get_count_of_type(\"VisualizationProtocol\", session)"
   ]
  },
  {
   "cell_type": "code",
   "execution_count": 75,
   "metadata": {},
   "outputs": [
    {
     "name": "stdout",
     "output_type": "stream",
     "text": [
      "Added 266 nodes of type Solution\n"
     ]
    }
   ],
   "source": [
    "# Adding Solution to graph from solutions.csv\n",
    "csv_file_path = \"file:///%s\" % get_csv_path(\"solutions.csv\")\n",
    "query=\"\"\"\n",
    "        LOAD CSV WITH HEADERS FROM \"%s\" AS row\n",
    "        CREATE (:Solution { id: row.ID, name: row.Solution_name })\n",
    "    \"\"\" % csv_file_path\n",
    "\n",
    "with driver.session() as session:    \n",
    "    session.run(query)\n",
    "    get_count_of_type(\"Solution\", session)"
   ]
  },
  {
   "cell_type": "code",
   "execution_count": 76,
   "metadata": {},
   "outputs": [
    {
     "name": "stdout",
     "output_type": "stream",
     "text": [
      "Added 9 nodes of type Microscope\n"
     ]
    }
   ],
   "source": [
    "# Adding Microscope to graph from solutions.csv\n",
    "csv_file_path = \"file:///%s\" % get_csv_path(\"microscopes.csv\")\n",
    "query=\"\"\"\n",
    "        LOAD CSV WITH HEADERS FROM \"%s\" AS row\n",
    "        CREATE (:Microscope { id: row.ID, type: row.Microscope_type, ontology: row.Ontological_identifier })\n",
    "    \"\"\" % csv_file_path\n",
    "\n",
    "with driver.session() as session:    \n",
    "    session.run(query)\n",
    "    get_count_of_type(\"Microscope\", session)"
   ]
  },
  {
   "cell_type": "code",
   "execution_count": null,
   "metadata": {},
   "outputs": [],
   "source": []
  },
  {
   "cell_type": "code",
   "execution_count": null,
   "metadata": {},
   "outputs": [],
   "source": []
  },
  {
   "cell_type": "code",
   "execution_count": null,
   "metadata": {},
   "outputs": [],
   "source": []
  },
  {
   "cell_type": "code",
   "execution_count": 66,
   "metadata": {},
   "outputs": [
    {
     "name": "stdout",
     "output_type": "stream",
     "text": [
      "Added 6 nodes of type ReporterIncubation\n"
     ]
    }
   ],
   "source": [
    "## Reporter RELATIONS\n",
    "csv_file_path = \"file:///%s\" % get_csv_path(\"reporters.csv\")\n",
    "\n",
    "## :Reporter - :LABEL - :ReporterLabel\n",
    "query=\"\"\"\n",
    "        LOAD CSV WITH HEADERS FROM \"%s\" AS row\n",
    "        MATCH (a:Reporter { id: row.ID})\n",
    "        MATCH (c:ReporterLabel { id: row.Label })\n",
    "        MERGE (a)-[:LABEL]->(c)\n",
    "    \"\"\" % csv_file_path\n",
    "\n",
    "with driver.session() as session:\n",
    "    session.run(query)\n",
    "    get_count_of_relationship(\"LABEL\", \"Reporter\", \"ReporterLabel\", session)\n",
    "    \n",
    "## :Reporter - :TARGET - :ReporterTarget\n",
    "query=\"\"\"\n",
    "        LOAD CSV WITH HEADERS FROM \"%s\" AS row\n",
    "        MATCH (a:Reporter { id: row.ID})\n",
    "        MATCH (c:ReporterTarget { id: row.Target })\n",
    "        MERGE (a)-[:TARGET]->(c)\n",
    "    \"\"\" % csv_file_path\n",
    "\n",
    "with driver.session() as session:\n",
    "    session.run(query)\n",
    "    get_count_of_relationship(\"TARGET\", \"Reporter\", \"ReporterTarget\", session)"
   ]
  },
  {
   "cell_type": "code",
   "execution_count": 65,
   "metadata": {},
   "outputs": [
    {
     "name": "stdout",
     "output_type": "stream",
     "text": [
      "Added 382 relationships of type SectioningDetail SECTIONED_BY SectioningInstrument\n"
     ]
    }
   ],
   "source": [
    "## SectioningDetail RELATIONS\n",
    "csv_file_path = \"file:///%s\" % get_csv_path(\"sectioning_details.csv\")\n",
    "\n",
    "## :SectioningDetail - :SECTIONED_BY - :SectioningInstrument\n",
    "query=\"\"\"\n",
    "        LOAD CSV WITH HEADERS FROM \"%s\" AS row\n",
    "        MATCH (a:SectioningDetail { id: row.ID})\n",
    "        MATCH (c:SectioningInstrument { id: row.Sectioning_instrument })\n",
    "        MERGE (a)-[:SECTIONED_BY]->(c)\n",
    "    \"\"\" % csv_file_path\n",
    "\n",
    "with driver.session() as session:\n",
    "    session.run(query)\n",
    "    get_count_of_relationship(\"SECTIONED_BY\", \"SectioningDetail\", \"SectioningInstrument\", session)\n"
   ]
  },
  {
   "cell_type": "code",
   "execution_count": null,
   "metadata": {},
   "outputs": [],
   "source": []
  },
  {
   "cell_type": "code",
   "execution_count": null,
   "metadata": {},
   "outputs": [],
   "source": [
    "### Experiment RELATIONS\n",
    "csv_file_path = \"file:///%s\" % get_csv_path(\"experiments.csv\")\n",
    "\n",
    "## :Experiment - :ANAESTHETIC - :Solution\n",
    "query=\"\"\"\n",
    "        LOAD CSV WITH HEADERS FROM \"%s\" AS row\n",
    "        MATCH (a:Experiment { id: row.ID})\n",
    "        MATCH (c:Solution { id: row.Anaesthetic })\n",
    "        MERGE (a)-[:ANAESTHETIC]->(c)\n",
    "    \"\"\" % csv_file_path\n",
    "\n",
    "with driver.session() as session:\n",
    "    session.run(query)\n",
    "    get_count_of_relationship(\"ANAESTHETIC\", \"Experiment\", \"Solution\", session)\n",
    "    \n",
    "## :Experiment - :PERFUSION_FIX_MEDIUM - :Solution\n",
    "query=\"\"\"\n",
    "        LOAD CSV WITH HEADERS FROM \"%s\" AS row\n",
    "        MATCH (a:Experiment { id: row.ID})\n",
    "        MATCH (c:Solution { id: row.Perfusion_fix_medium })\n",
    "        MERGE (a)-[:PERFUSION_FIX_MEDIUM]->(c)\n",
    "    \"\"\" % csv_file_path\n",
    "\n",
    "with driver.session() as session:\n",
    "    session.run(query)\n",
    "    get_count_of_relationship(\"PERFUSION_FIX_MEDIUM\", \"Experiment\", \"Solution\", session)\n",
    "\n"
   ]
  },
  {
   "cell_type": "code",
   "execution_count": null,
   "metadata": {},
   "outputs": [],
   "source": [
    "\n",
    "### Experiment RELATIONS\n",
    "csv_file_path = \"file:///%s\" % get_csv_path(\"experiments.csv\")\n",
    "\n",
    "## :Experiment - :SPE - :Specimen\n",
    "query=\"\"\"\n",
    "        LOAD CSV WITH HEADERS FROM \"%s\" AS row\n",
    "        MATCH (a:Quantitation { id: row.ID})\n",
    "        MATCH (c:Specimen { id: row.Specimen })\n",
    "        MERGE (a)-[:SPECIMEN]->(c)\n",
    "    \"\"\" % csv_file_path\n",
    "\n",
    "with driver.session() as session:\n",
    "    session.run(query)\n",
    "    get_count_of_relationship(\"SPECIMEN\", \"Analysis\", \"Specimen\", session)"
   ]
  },
  {
   "cell_type": "code",
   "execution_count": 42,
   "metadata": {},
   "outputs": [
    {
     "name": "stdout",
     "output_type": "stream",
     "text": [
      "Added 0 relationships of type Analysis SPECIMEN Specimen\n",
      "Added 668 relationships of type Analysis OBJECT_OF_INTEREST NeuralStructure\n",
      "Added 668 relationships of type Analysis CELL_TYPE_PUTATIVE Cell\n",
      "Added 0 relationships of type Analysis VISUALIZATION_METHOD VisualizationMethod\n"
     ]
    }
   ],
   "source": [
    "### Analysis RELATIONS\n",
    "csv_file_path = \"file:///%s\" % get_csv_path(\"derived_data_records.csv\")\n",
    "\n",
    "## :Analysis - :SPECIMEN - :Specimen\n",
    "query=\"\"\"\n",
    "        LOAD CSV WITH HEADERS FROM \"%s\" AS row\n",
    "        MATCH (a:Quantitation { id: row.ID})\n",
    "        MATCH (c:Specimen { id: row.Specimen })\n",
    "        MERGE (a)-[:SPECIMEN]->(c)\n",
    "    \"\"\" % csv_file_path\n",
    "\n",
    "with driver.session() as session:\n",
    "    session.run(query)\n",
    "    get_count_of_relationship(\"SPECIMEN\", \"Analysis\", \"Specimen\", session)\n",
    "    \n",
    "## :Analysis - :OBJECT_OF_INTEREST - :RegionZone\n",
    "query=\"\"\"\n",
    "        LOAD CSV WITH HEADERS FROM \"%s\" AS row\n",
    "        MATCH (a:Analysis { id: row.ID})\n",
    "        MATCH (c:NeuralStructure { id: row.Object_of_interest })\n",
    "        MERGE (a)-[:OBJECT_OF_INTEREST]->(c)\n",
    "    \"\"\" % csv_file_path\n",
    "\n",
    "with driver.session() as session:\n",
    "    session.run(query)\n",
    "    get_count_of_relationship(\"OBJECT_OF_INTEREST\", \"Analysis\", \"NeuralStructure\", session)\n",
    "    \n",
    "## Add property to :Analysis - :OBJECT_OF_INTEREST - :RegionZone\n",
    "query=\"\"\"\n",
    "        LOAD CSV WITH HEADERS FROM \"%s\" AS row\n",
    "        MATCH (a:Analysis)-[r:OBJECT_OF_INTEREST]-(b:NeuralStructure)\n",
    "        WHERE row.OOI_recognition_criteria IS NOT NULL\n",
    "        SET r.recognitionCriteria = row.OOI_recognition_criteria\n",
    "    \"\"\" % csv_file_path\n",
    "\n",
    "with driver.session() as session:\n",
    "    session.run(query)\n",
    "    \n",
    "## :Analysis - :CELL_TYPE_PUTATIVE - :Cell\n",
    "query=\"\"\"\n",
    "        LOAD CSV WITH HEADERS FROM \"%s\" AS row\n",
    "        MATCH (a:Analysis { id: row.ID})\n",
    "        MATCH (c:Cell { id: row.Cell_type_putative })\n",
    "        MERGE (a)-[:CELL_TYPE_PUTATIVE]->(c)\n",
    "    \"\"\" % csv_file_path\n",
    "\n",
    "with driver.session() as session:\n",
    "    session.run(query)\n",
    "    get_count_of_relationship(\"CELL_TYPE_PUTATIVE\", \"Analysis\", \"Cell\", session)\n",
    "    \n",
    "## :Analysis - :VISUALIZATION_METHOD - :VisualizationMethod\n",
    "query=\"\"\"\n",
    "        LOAD CSV WITH HEADERS FROM \"%s\" AS row\n",
    "        MATCH (a:Analysis { id: row.ID})\n",
    "        MATCH (c:VisualizationMethod { id: row.Visualization_method })\n",
    "        MERGE (a)-[:VISUALIZATION_METHOD]->(c)\n",
    "    \"\"\" % csv_file_path\n",
    "\n",
    "with driver.session() as session:\n",
    "    session.run(query)\n",
    "    get_count_of_relationship(\"VISUALIZATION_METHOD\", \"Analysis\", \"VisualizationMethod\", session)\n"
   ]
  },
  {
   "cell_type": "code",
   "execution_count": null,
   "metadata": {},
   "outputs": [],
   "source": [
    "### Quantitation RELATIONS\n",
    "\n",
    "## :Analysis - :DATA_TYPE - :Quantitation\n",
    "csv_file_path = \"file:///%s\" % get_csv_path(\"quantitations.csv\")\n",
    "query=\"\"\"\n",
    "        LOAD CSV WITH HEADERS FROM \"%s\" AS row\n",
    "        MATCH (a:Analysis { id: row.Derived_data_record})\n",
    "        MATCH (c:Quantitation { id: row.ID })\n",
    "        MERGE (a)-[:DATA_TYPE]->(c)\n",
    "    \"\"\" % csv_file_path\n",
    "\n",
    "with driver.session() as session:\n",
    "    session.run(query)\n",
    "    get_count_of_relationship(\"DATA_TYPE\", \"Analysis\", \"Quantitation\", session)\n",
    "    \n",
    "## :Quantitation - :REGION_RECORD - :RegionRecord\n",
    "csv_file_path = \"file:///%s\" % get_csv_path(\"quantitations.csv\")\n",
    "query=\"\"\"\n",
    "        LOAD CSV WITH HEADERS FROM \"%s\" AS row\n",
    "        MATCH (a:Quantitation { id: row.ID})\n",
    "        MATCH (c:RegionRecord { id: row.Region_record })\n",
    "        MERGE (a)-[:REGION_RECORD]->(c)\n",
    "    \"\"\" % csv_file_path\n",
    "\n",
    "with driver.session() as session:\n",
    "    session.run(query)\n",
    "    get_count_of_relationship(\"REGION_RECORD\", \"Quantitation\", \"RegionRecord\", session)\n",
    "    \n",
    "## :Quantitation - :REGION_ZONE - :RegionZone\n",
    "csv_file_path = \"file:///%s\" % get_csv_path(\"quantitations.csv\")\n",
    "query=\"\"\"\n",
    "        LOAD CSV WITH HEADERS FROM \"%s\" AS row\n",
    "        MATCH (a:Quantitation { id: row.ID})\n",
    "        MATCH (c:RegionZone { id: row.Region_zone })\n",
    "        MERGE (a)-[:REGION_ZONE]->(c)\n",
    "    \"\"\" % csv_file_path\n",
    "\n",
    "with driver.session() as session:\n",
    "    session.run(query)\n",
    "    get_count_of_relationship(\"REGION_ZONE\", \"Quantitation\", \"RegionZone\", session)\n",
    "    \n",
    "## :Quantitation - :CELLULAR_TARGET_REGION - :CellularRegion\n",
    "csv_file_path = \"file:///%s\" % get_csv_path(\"quantitations.csv\")\n",
    "query=\"\"\"\n",
    "        LOAD CSV WITH HEADERS FROM \"%s\" AS row\n",
    "        MATCH (a:Quantitation { id: row.ID})\n",
    "        MATCH (c:CellularRegion { id: row.Cellular_target_region })\n",
    "        MERGE (a)-[:CELLULAR_TARGET_REGION]->(c)\n",
    "    \"\"\" % csv_file_path\n",
    "\n",
    "with driver.session() as session:\n",
    "    session.run(query)\n",
    "    get_count_of_relationship(\"CELLULAR_TARGET_REGION\", \"Quantitation\", \"CellularRegion\", session)\n",
    "    \n",
    "## :Quantitation - :TARGET_CELL - :Cell\n",
    "csv_file_path = \"file:///%s\" % get_csv_path(\"quantitations.csv\")\n",
    "query=\"\"\"\n",
    "        LOAD CSV WITH HEADERS FROM \"%s\" AS row\n",
    "        MATCH (a:Quantitation { id: row.ID})\n",
    "        MATCH (c:Cell { id: row.Cellular_target_ID })\n",
    "        MERGE (a)-[:TARGET_CELL]->(c)\n",
    "    \"\"\" % csv_file_path\n",
    "\n",
    "with driver.session() as session:\n",
    "    session.run(query)\n",
    "    get_count_of_relationship(\"TARGET_CELL\", \"Quantitation\", \"Cell\", session)\n",
    "\n",
    "## :Quantitation - :STEREOLOGY - :StereologyDetail\n",
    "csv_file_path = \"file:///%s\" % get_csv_path(\"quantitations.csv\")\n",
    "query=\"\"\"\n",
    "        LOAD CSV WITH HEADERS FROM \"%s\" AS row\n",
    "        MATCH (a:Quantitation { id: row.ID})\n",
    "        MATCH (c:StereologyDetail { id: row.Stereology_details_record })\n",
    "        MERGE (a)-[:STEREOLOGY]->(c)\n",
    "    \"\"\" % csv_file_path\n",
    "\n",
    "with driver.session() as session:\n",
    "    session.run(query)\n",
    "    get_count_of_relationship(\"STEREOLOGY\", \"Quantitation\", \"StereologyDetail\", session)\n",
    "    \n",
    "## :Quantitation - :SOFTWARE - :Software\n",
    "csv_file_path = \"file:///%s\" % get_csv_path(\"quantitations.csv\")\n",
    "query=\"\"\"\n",
    "        LOAD CSV WITH HEADERS FROM \"%s\" AS row\n",
    "        MATCH (a:Quantitation { id: row.ID})\n",
    "        MATCH (c:Software { id: row.Software })\n",
    "        MERGE (a)-[:SOFTWARE]->(c)\n",
    "    \"\"\" % csv_file_path\n",
    "\n",
    "with driver.session() as session:\n",
    "    session.run(query)\n",
    "    get_count_of_relationship(\"SOFTWARE\", \"Quantitation\", \"Software\", session)"
   ]
  },
  {
   "cell_type": "code",
   "execution_count": null,
   "metadata": {},
   "outputs": [],
   "source": [
    "### CellMorphology RELATIONS\n",
    "\n",
    "## :Analysis - :DATA_TYPE - :CellMorphology\n",
    "csv_file_path = \"file:///%s\" % get_csv_path(\"cell_morphologies.csv\")\n",
    "query=\"\"\"\n",
    "        LOAD CSV WITH HEADERS FROM \"%s\" AS row\n",
    "        MATCH (a:Analysis { id: row.Derived_data_record})\n",
    "        MATCH (c:CellMorphology { id: row.ID })\n",
    "        MERGE (a)-[:DATA_TYPE]->(c)\n",
    "    \"\"\" % csv_file_path\n",
    "\n",
    "with driver.session() as session:\n",
    "    session.run(query)\n",
    "    get_count_of_relationship(\"DATA_TYPE\", \"Analysis\", \"CellMorphology\", session)\n",
    "\n",
    "## :CellMorphology - :REGION_RECORD - :RegionRecord\n",
    "csv_file_path = \"file:///%s\" % get_csv_path(\"cell_morphologies.csv\")\n",
    "query=\"\"\"\n",
    "        LOAD CSV WITH HEADERS FROM \"%s\" AS row\n",
    "        MATCH (a:CellMorphology { id: row.ID})\n",
    "        MATCH (c:RegionRecord { id: row.Region_record })\n",
    "        MERGE (a)-[:REGION_RECORD]->(c)\n",
    "    \"\"\" % csv_file_path\n",
    "\n",
    "with driver.session() as session:\n",
    "    session.run(query)\n",
    "    get_count_of_relationship(\"REGION_RECORD\", \"CellMorphology\", \"RegionRecord\", session)\n",
    "    \n",
    "## :CellMorphology - :REGION_ZONE - :RegionZone\n",
    "csv_file_path = \"file:///%s\" % get_csv_path(\"cell_morphologies.csv\")\n",
    "query=\"\"\"\n",
    "        LOAD CSV WITH HEADERS FROM \"%s\" AS row\n",
    "        MATCH (a:CellMorphology { id: row.ID})\n",
    "        MATCH (c:RegionZone { id: row.Region_zone })\n",
    "        MERGE (a)-[:REGION_ZONE]->(c)\n",
    "    \"\"\" % csv_file_path\n",
    "\n",
    "with driver.session() as session:\n",
    "    session.run(query)\n",
    "    get_count_of_relationship(\"REGION_ZONE\", \"CellMorphology\", \"RegionZone\", session)\n",
    "    \n",
    "## :CellMorphology - :RECONSTRUCTED_WITH - :Software\n",
    "csv_file_path = \"file:///%s\" % get_csv_path(\"cell_morphologies.csv\")\n",
    "query=\"\"\"\n",
    "        LOAD CSV WITH HEADERS FROM \"%s\" AS row\n",
    "        MATCH (a:CellMorphology { id: row.ID})\n",
    "        MATCH (c:Software { id: row.Reconstruction_method })\n",
    "        MERGE (a)-[:RECONSTRUCTED_WITH]->(c)\n",
    "    \"\"\" % csv_file_path\n",
    "\n",
    "with driver.session() as session:\n",
    "    session.run(query)\n",
    "    get_count_of_relationship(\"RECONSTRUCTED_WITH\", \"CellMorphology\", \"Software\", session)"
   ]
  },
  {
   "cell_type": "code",
   "execution_count": null,
   "metadata": {},
   "outputs": [],
   "source": [
    "### DISTRIBUTION RELATIONS\n",
    "\n",
    "## :Analysis - :DATA_TYPE - :Distribution\n",
    "csv_file_path = \"file:///%s\" % get_csv_path(\"distributions.csv\")\n",
    "query=\"\"\"\n",
    "        LOAD CSV WITH HEADERS FROM \"%s\" AS row\n",
    "        MATCH (a:Analysis { id: row.Derived_data_record})\n",
    "        MATCH (c:Distribution { id: row.ID })\n",
    "        MERGE (a)-[:DATA_TYPE]->(c)\n",
    "    \"\"\" % csv_file_path\n",
    "\n",
    "with driver.session() as session:\n",
    "    session.run(query)\n",
    "    get_count_of_relationship(\"DATA_TYPE\", \"Analysis\", \"Distribution\", session)\n",
    "    \n",
    "## :Distribution - :CELLULAR_REGION - :CellularRegion\n",
    "csv_file_path = \"file:///%s\" % get_csv_path(\"distributions.csv\")\n",
    "query=\"\"\"\n",
    "        LOAD CSV WITH HEADERS FROM \"%s\" AS row\n",
    "        MATCH (a:Distribution { id: row.ID})\n",
    "        MATCH (c:CellularRegion { id: row.Cellular_region })\n",
    "        MERGE (a)-[:CELLULAR_REGION {cytochemicalId: row.Cellular_region_cytochemical_ID}]->(c)\n",
    "    \"\"\" % csv_file_path\n",
    "\n",
    "with driver.session() as session:\n",
    "    session.run(query)\n",
    "    get_count_of_relationship(\"CELLULAR_REGION\", \"Distribution\", \"CellularRegion\", session)\n",
    "\n",
    "## :Distribution - :REGION_RECORD - :RegionRecord\n",
    "csv_file_path = \"file:///%s\" % get_csv_path(\"distributions.csv\")\n",
    "query=\"\"\"\n",
    "        LOAD CSV WITH HEADERS FROM \"%s\" AS row\n",
    "        MATCH (a:Distribution { id: row.ID})\n",
    "        MATCH (c:RegionRecord { id: row.Region_record })\n",
    "        MERGE (a)-[:REGION_RECORD]->(c)\n",
    "    \"\"\" % csv_file_path\n",
    "\n",
    "with driver.session() as session:\n",
    "    session.run(query)\n",
    "    get_count_of_relationship(\"REGION_RECORD\", \"Distribution\", \"RegionRecord\", session)\n",
    "    \n",
    "## :Distribution - :PERFORMED_ON - :Software\n",
    "csv_file_path = \"file:///%s\" % get_csv_path(\"distributions.csv\")\n",
    "query=\"\"\"\n",
    "        LOAD CSV WITH HEADERS FROM \"%s\" AS row\n",
    "        MATCH (a:Distribution { id: row.ID})\n",
    "        MATCH (c:Software { id: row.Software })\n",
    "        MERGE (a)-[:PERFORMED_ON]->(c)\n",
    "    \"\"\" % csv_file_path\n",
    "\n",
    "with driver.session() as session:\n",
    "    session.run(query)\n",
    "    get_count_of_relationship(\"PERFORMED_ON\", \"Distribution\", \"Software\", session)\n",
    "\n",
    "## :Distribution - :STEREOLOGY - :StereologyDetail\n",
    "csv_file_path = \"file:///%s\" % get_csv_path(\"distributions.csv\")\n",
    "query=\"\"\"\n",
    "        LOAD CSV WITH HEADERS FROM \"%s\" AS row\n",
    "        MATCH (a:Distribution { id: row.ID})\n",
    "        MATCH (c:StereologyDetail { id: row.Stereology_details_record })\n",
    "        MERGE (a)-[:STEREOLOGY]->(c)\n",
    "    \"\"\" % csv_file_path\n",
    "\n",
    "with driver.session() as session:\n",
    "    session.run(query)\n",
    "    get_count_of_relationship(\"STEREOLOGY\", \"Distribution\", \"StereologyDetail\", session)\n",
    "    \n",
    "## :Distribution - :RELATED_TO - :Quantitation\n",
    "csv_file_path = \"file:///%s\" % get_csv_path(\"distributions.csv\")\n",
    "query=\"\"\"\n",
    "        LOAD CSV WITH HEADERS FROM \"%s\" AS row\n",
    "        MATCH (a:Distribution { id: row.ID})\n",
    "        MATCH (c:Quantitation { id: row.Related_quantitation })\n",
    "        MERGE (a)-[:RELATED_TO]->(c)\n",
    "    \"\"\" % csv_file_path\n",
    "\n",
    "with driver.session() as session:\n",
    "    session.run(query)\n",
    "    get_count_of_relationship(\"RELATED_TO\", \"Distribution\", \"Quantitation\", session)\n",
    "\n"
   ]
  }
 ],
 "metadata": {
  "kernelspec": {
   "display_name": "Python 3",
   "language": "python",
   "name": "python3"
  },
  "language_info": {
   "codemirror_mode": {
    "name": "ipython",
    "version": 3
   },
   "file_extension": ".py",
   "mimetype": "text/x-python",
   "name": "python",
   "nbconvert_exporter": "python",
   "pygments_lexer": "ipython3",
   "version": "3.7.4"
  }
 },
 "nbformat": 4,
 "nbformat_minor": 4
}
