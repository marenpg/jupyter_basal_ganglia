{
 "cells": [
  {
   "cell_type": "markdown",
   "metadata": {},
   "source": [
    "# Allen SDK - not used\n",
    "\n",
    "This script loads some data from AllenSDK. However, non of this is used"
   ]
  },
  {
   "cell_type": "code",
   "execution_count": 5,
   "metadata": {},
   "outputs": [
    {
     "name": "stdout",
     "output_type": "stream",
     "text": [
      "# mouse cells: 1920\n"
     ]
    }
   ],
   "source": [
    "from allensdk.core.cell_types_cache import CellTypesCache\n",
    "from allensdk.api.queries.cell_types_api import CellTypesApi\n",
    "import json\n",
    "\n",
    "ctc = CellTypesCache(manifest_file='Data/allenSDK/cell_types/manifest.json')\n",
    "\n",
    "# download all cells\n",
    "# cells = ctc.get_cells()\n",
    "# print(\"Total cells: %d\" % len(cells))\n",
    "\n",
    "# Get all mouse cells\n",
    "cells = ctc.get_cells(species=[CellTypesApi.MOUSE])\n",
    "print(\"# mouse cells: %d\" % len(cells))\n",
    "\n",
    "# Dump all cells into JSON\n",
    "with open('Data/allenSDK/jsondata.json', 'w') as out_file:\n",
    "    json.dump(cells, out_file)"
   ]
  },
  {
   "cell_type": "code",
   "execution_count": 7,
   "metadata": {},
   "outputs": [
    {
     "name": "stdout",
     "output_type": "stream",
     "text": [
      "Brain regions\n",
      "['RSPagl', 'RSPd', 'TEa', 'SSp-tr', 'SSp-bfd', 'SSp-n', 'AUDpo', 'AUDp', 'SSp', 'RSPv', 'SSp-un']\n"
     ]
    }
   ],
   "source": [
    "import pandas as pd\n",
    "\n",
    "df = pd.read_json(\"Data/allenSDK/jsondata.json\", orient=\"records\")\n",
    "#print(df.dtypes)\n",
    "\n",
    "df.sort_values(by='name')\n",
    "df.to_csv(\"Data/csvs/amba_csv/amba_cells.csv\")\n",
    "\n",
    "print(\"Brain regions\")\n",
    "brain_region_abbreviations = df.structure_area_abbrev.unique()\n",
    "brain_reg_not_visual =[b for b in brain_region_abbreviations if not b.startswith(\"VIS\")] \n",
    "print(brain_reg_not_visual)\n",
    "\n",
    "# RSPagl = Retrosplenial area, lateral agranular part\n",
    "# RSPd = Retrosplenial area, dorsal part\n",
    "# RSPv = Retrosplenial area, ventral part\n",
    "# TEa = Temporal association areas\n",
    "# SSp = Primary somatosensory area\n",
    "# SSp-tr = Primary somatosensory area, trunk\n",
    "# SSp-n = Primary somatosensory area, nose\n",
    "# SSp-un = Primary somatosensory area, unassigned\n",
    "# SSp-bfd = Primary somatosensory area, barrel field\n",
    "# AUDpo = Posterior auditory area\n",
    "# AUDp = Primary auditory area"
   ]
  },
  {
   "cell_type": "code",
   "execution_count": null,
   "metadata": {},
   "outputs": [],
   "source": []
  }
 ],
 "metadata": {
  "kernelspec": {
   "display_name": "Python 3",
   "language": "python",
   "name": "python3"
  },
  "language_info": {
   "codemirror_mode": {
    "name": "ipython",
    "version": 3
   },
   "file_extension": ".py",
   "mimetype": "text/x-python",
   "name": "python",
   "nbconvert_exporter": "python",
   "pygments_lexer": "ipython3",
   "version": "3.7.8"
  }
 },
 "nbformat": 4,
 "nbformat_minor": 4
}
