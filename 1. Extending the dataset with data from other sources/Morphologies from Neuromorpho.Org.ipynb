{
 "cells": [
  {
   "cell_type": "markdown",
   "metadata": {},
   "source": [
    "# Collecting morphologies from Neuromorpho.Org\n",
    "\n",
    "This script calls the API provided by Neuromorpho.Org, and stores the image data in csv files for creation in the `1. Create the Rodent Basal Ganglia Graph.ipynb` notebook."
   ]
  },
  {
   "cell_type": "code",
   "execution_count": null,
   "metadata": {},
   "outputs": [],
   "source": [
    "import requests, base64, os, json\n",
    "import pandas as pd \n",
    "from io import BytesIO\n",
    "\n",
    "def get_csv_path(csv_file):\n",
    "    path_all_csv = os.path.realpath(\"..\\Data/csvs/basal_ganglia/\")\n",
    "    return os.path.join(path_all_csv, csv_file).replace(\"\\\\\",\"/\")\n",
    "\n",
    "csv_file_path = \"file:///%s\" % get_csv_path(\"experiments/cell_morphologies.csv\")\n",
    "df = pd.read_csv(csv_file_path)\n",
    "\n",
    "\n",
    "class nmoInfo():\n",
    "    def __init__(self, id, morph_id, href, img, archive):\n",
    "        self.id = id\n",
    "        self.morph_id = morph_id\n",
    "        self.href = href\n",
    "        self.img = img\n",
    "        self.archive = archive\n",
    "        \n",
    "nmo_infos = []\n",
    "        \n",
    "for index, row in df.iterrows():\n",
    "    nmoId = row[\"Neuromorpho_ID\"];\n",
    "    if(nmoId.startswith(\"NMO_00\")):\n",
    "        nmoId = nmoId[6:]\n",
    "    elif(nmoId.startswith(\"NMO_0\")):\n",
    "        nmoId = nmoId[5:]\n",
    "    else:\n",
    "        nmoId = nmoId[4:]\n",
    "    print(nmoId)\n",
    "\n",
    "    \n",
    "    res = requests.get(\"http://neuromorpho.org/api/neuron/id/\" + nmoId).content\n",
    "    data = json.loads(res)\n",
    "    \n",
    "    try:\n",
    "        picture_url = data[\"png_url\"]\n",
    "        img_data = requests.get(picture_url).content\n",
    "        buffered = BytesIO(img_data)\n",
    "        img_base64 = base64.b64encode(buffered.getvalue())\n",
    "\n",
    "        href = \"http://neuromorpho.org/neuron_info.jsp?neuron_name=\" + data[\"neuron_name\"]\n",
    "        nmo_infos.append([row[\"ID\"], nmoId, href, img_base64, data[\"archive\"]])\n",
    "\n",
    "        if(nmoId == \"68266\"):\n",
    "            print(img_base64)\n",
    "    except:\n",
    "        print(\"FAILED for\", nmoId, row[\"Morphology_name\"])\n",
    "          \n",
    "\n",
    "nmo_df = pd.DataFrame(nmo_infos, columns = [\"id\", \"neuromorphoId\", \"href\", \"base64\", \"archive\"]) \n",
    "nmo_df.to_csv(\"..\\Data/csvs/neuromorpho/neuromorpho.csv\", index=1)"
   ]
  }
 ],
 "metadata": {
  "kernelspec": {
   "display_name": "Python 3",
   "language": "python",
   "name": "python3"
  },
  "language_info": {
   "codemirror_mode": {
    "name": "ipython",
    "version": 3
   },
   "file_extension": ".py",
   "mimetype": "text/x-python",
   "name": "python",
   "nbconvert_exporter": "python",
   "pygments_lexer": "ipython3",
   "version": "3.7.8"
  }
 },
 "nbformat": 4,
 "nbformat_minor": 4
}
