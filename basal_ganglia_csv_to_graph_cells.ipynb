{
 "cells": [
  {
   "cell_type": "code",
   "execution_count": 1,
   "metadata": {},
   "outputs": [],
   "source": [
    "from neo4j import GraphDatabase, basic_auth\n",
    "import os\n",
    "\n",
    "driver = GraphDatabase.driver(\"bolt://localhost:7687\",auth=basic_auth(\"neo4j\", \"Kaffe1234\"))"
   ]
  },
  {
   "cell_type": "code",
   "execution_count": 2,
   "metadata": {},
   "outputs": [],
   "source": [
    "def get_count_of_type(label, session):\n",
    "    q = \"MATCH (n:%s) RETURN count(n)\" % label\n",
    "    res = session.run(q)\n",
    "    print(\"Added\", res.value()[0], \"nodes of type\", label)\n",
    "    \n",
    "def get_count_of_relationship(label, session):\n",
    "    q = \"MATCH ()-[r:%s]-() RETURN count(*)\" %label\n",
    "    res = session.run(q)\n",
    "    print(\"Added\", res.value()[0], \"relationships of type\", label)\n",
    "\n",
    "def get_csv_path(csv_file):\n",
    "    path_all_csv = os.path.realpath(\"Data/csvs/basal_ganglia/cells\")\n",
    "    return os.path.join(path_all_csv, csv_file).replace(\"\\\\\",\"/\")"
   ]
  },
  {
   "cell_type": "code",
   "execution_count": 7,
   "metadata": {
    "scrolled": false
   },
   "outputs": [
    {
     "name": "stdout",
     "output_type": "stream",
     "text": [
      "wipeddatabase\n"
     ]
    }
   ],
   "source": [
    "# Deleting all cell data in database\n",
    "with driver.session() as session:\n",
    "        session.run('''\n",
    "            MATCH (n)\n",
    "            WHERE  n:Cell\n",
    "                OR n:CellType \n",
    "                OR n:CellPhenotype \n",
    "                OR n:CellPhenotypeCategory \n",
    "                OR n:CellularRegion\n",
    "                OR n:NeuralStructure\n",
    "            DETACH DELETE n\n",
    "        ''')\n",
    "        session.run('''\n",
    "            DROP CONSTRAINT ON (n:Cell) ASSERT n.id IS UNIQUE\n",
    "            DROP CONSTRAINT ON (n:CellType) ASSERT n.id IS UNIQUE\n",
    "            DROP CONSTRAINT ON (n:CellPhenotype) ASSERT n.id IS UNIQUE\n",
    "            DROP CONSTRAINT ON (n:CellPhenotypeCategory) ASSERT n.id IS UNIQUE\n",
    "            DROP CONSTRAINT ON (n:NeuralStructure) ASSERT n.id IS UNIQUE\n",
    "            DROP INDEX ON :Cell(name)\n",
    "            DROP INDEX ON :CellType(name)\n",
    "            DROP INDEX ON :CellPhenotype(name)\n",
    "            DROP INDEX ON :CellPhenotypeCategory(name)\n",
    "            DROP INDEX ON :NeuralStructure(name)\n",
    "        ''')\n",
    "        print(\"wipeddatabase\")"
   ]
  },
  {
   "cell_type": "code",
   "execution_count": 8,
   "metadata": {},
   "outputs": [
    {
     "name": "stdout",
     "output_type": "stream",
     "text": [
      "Added 107 nodes of type Cell\n"
     ]
    }
   ],
   "source": [
    "# Adding Cell to graph from cell_types.csv\n",
    "\n",
    "csv_file_path = \"file:///%s\" % get_csv_path(\"cell_types.csv\")\n",
    "query=\"\"\"\n",
    "        LOAD CSV WITH HEADERS FROM \"%s\" AS row\n",
    "        CREATE (:Cell { id: row.ID, name: row.Cell_type_name, ontology: row.Ontological_identifier})\n",
    "    \"\"\" % csv_file_path\n",
    "\n",
    "with driver.session() as session:    \n",
    "    session.run(\"CREATE INDEX ON :Cell(name)\")\n",
    "    session.run(\"CREATE CONSTRAINT ON (n:Cell) ASSERT n.id IS UNIQUE\")\n",
    "    session.run(query)\n",
    "    get_count_of_type(\"Cell\", session)"
   ]
  },
  {
   "cell_type": "code",
   "execution_count": 9,
   "metadata": {},
   "outputs": [
    {
     "name": "stdout",
     "output_type": "stream",
     "text": [
      "Added 4 nodes of type CellType\n"
     ]
    }
   ],
   "source": [
    "# Adding CellTypes to graph\n",
    "cell_types = [(\"Neuron\", \"SAO:1417703748\"), \n",
    "              (\"Oligodendrocyte\",\"SAO:844118448\t\"), \n",
    "              (\"Microglia\",\"SAO:789292116\"), \n",
    "              (\"Astrocyte\",\"SAO:1394521419\")\n",
    "             ]\n",
    "with driver.session() as session:\n",
    "    for cell_name, cell_ont in cell_types:\n",
    "        q = \"CREATE (:CellType {{ name: '{name}', ontology: '{ont}' }})\".format(name=cell_name, ont=cell_ont)\n",
    "        session.run(q )\n",
    "        \n",
    "    get_count_of_type(\"CellType\", session)"
   ]
  },
  {
   "cell_type": "code",
   "execution_count": 10,
   "metadata": {},
   "outputs": [
    {
     "name": "stdout",
     "output_type": "stream",
     "text": [
      "Added 107 nodes of type CellPhenotype\n"
     ]
    }
   ],
   "source": [
    "# Adding CellPhenotype from cell_phenotypes.csv\n",
    "\n",
    "csv_file_path = \"file:///%s\" % get_csv_path(\"cell_phenotypes.csv\")\n",
    "query=\"\"\"\n",
    "        LOAD CSV WITH HEADERS FROM \"%s\" AS row\n",
    "        CREATE (:CellPhenotype { id: row.ID, name: row.Phenotype, ontology: row.Ontological_identifier})\n",
    "    \"\"\" % csv_file_path\n",
    "\n",
    "with driver.session() as session:\n",
    "    session.run(\"CREATE CONSTRAINT ON (n:CellPhenotype) ASSERT n.id IS UNIQUE\")\n",
    "    session.run(\"CREATE INDEX ON :CellPhenotype(name)\")\n",
    "    session.run(query)\n",
    "    get_count_of_type(\"CellPhenotype\", session)"
   ]
  },
  {
   "cell_type": "code",
   "execution_count": 11,
   "metadata": {},
   "outputs": [
    {
     "name": "stdout",
     "output_type": "stream",
     "text": [
      "Added 7 nodes of type CellPhenotypeCategory\n"
     ]
    }
   ],
   "source": [
    "# Adding CellPhenotypeCategory from cell_phenotype_categories.csv\n",
    "\n",
    "csv_file_path = \"file:///%s\" % get_csv_path(\"cell_phenotype_categories.csv\")\n",
    "query=\"\"\"\n",
    "        LOAD CSV WITH HEADERS FROM \"%s\" AS row\n",
    "        CREATE (:CellPhenotypeCategory { id:row.ID, name: row.Phenotype_category})\n",
    "    \"\"\" % csv_file_path\n",
    "\n",
    "with driver.session() as session:\n",
    "    session.run(\"CREATE CONSTRAINT ON (n:CellPhenotype) ASSERT n.id IS UNIQUE\")\n",
    "    session.run(\"CREATE INDEX ON :CellPhenotypeCategory(name)\")\n",
    "    session.run(query)\n",
    "    get_count_of_type(\"CellPhenotypeCategory\", session)"
   ]
  },
  {
   "cell_type": "code",
   "execution_count": 12,
   "metadata": {},
   "outputs": [
    {
     "name": "stdout",
     "output_type": "stream",
     "text": [
      "Added 10 nodes of type CellularRegion\n"
     ]
    }
   ],
   "source": [
    "# Adding CellularRegion from cellular_regions.csv\n",
    "\n",
    "csv_file_path = \"file:///%s\" % get_csv_path(\"cellular_regions.csv\")\n",
    "query=\"\"\"\n",
    "        LOAD CSV WITH HEADERS FROM \"%s\" AS row\n",
    "        CREATE (:CellularRegion { id:row.ID, name: row.Cellular_region, ontology: row.Ontological_identifier})\n",
    "    \"\"\" % csv_file_path\n",
    "\n",
    "with driver.session() as session:\n",
    "    session.run(\"CREATE CONSTRAINT ON (n:CellularRegion) ASSERT n.id IS UNIQUE\")\n",
    "    session.run(\"CREATE INDEX ON :CellularRegion(name)\")\n",
    "    session.run(query)\n",
    "    get_count_of_type(\"CellularRegion\", session)"
   ]
  },
  {
   "cell_type": "code",
   "execution_count": 13,
   "metadata": {},
   "outputs": [
    {
     "name": "stdout",
     "output_type": "stream",
     "text": [
      "Added 14 nodes of type NeuralStructure\n"
     ]
    }
   ],
   "source": [
    "# Adding NeuralStructure from objects_of_intrest.csv\n",
    "\n",
    "csv_file_path = \"file:///%s\" % get_csv_path(\"objects_of_interest.csv\")\n",
    "query=\"\"\"\n",
    "        LOAD CSV WITH HEADERS FROM \"%s\" AS row\n",
    "        CREATE (:NeuralStructure { id:row.ID, name: row.Object_of_interest, ontology: row.Ontological_identifier})\n",
    "    \"\"\" % csv_file_path\n",
    "\n",
    "with driver.session() as session:\n",
    "    session.run(\"CREATE CONSTRAINT ON (n:NeuralStructure) ASSERT n.id IS UNIQUE\")\n",
    "    session.run(\"CREATE INDEX ON :NeuralStructure(name)\")\n",
    "    session.run(query)\n",
    "    get_count_of_type(\"NeuralStructure\", session)"
   ]
  },
  {
   "cell_type": "code",
   "execution_count": null,
   "metadata": {},
   "outputs": [],
   "source": []
  },
  {
   "cell_type": "code",
   "execution_count": 15,
   "metadata": {},
   "outputs": [
    {
     "name": "stdout",
     "output_type": "stream",
     "text": [
      "Added 210 relationships of type PHENOTYPE_CATEGORY\n"
     ]
    }
   ],
   "source": [
    "# Relationship PHENOTYPE_CATEGORY between CellPhenotype and CellPhenotypeCategory\n",
    "\n",
    "csv_file_path = \"file:///%s\" % get_csv_path(\"cell_phenotypes.csv\")\n",
    "query=\"\"\"\n",
    "        LOAD CSV WITH HEADERS FROM \"%s\" AS row\n",
    "        MATCH (a:CellPhenotype { id: row.ID})\n",
    "        MATCH (c:CellPhenotypeCategory { id: row.Phenotype_category })\n",
    "        MERGE (a)-[:PHENOTYPE_CATEGORY]->(c)\n",
    "    \"\"\" % csv_file_path\n",
    "\n",
    "with driver.session() as session:\n",
    "    session.run(query)\n",
    "    get_count_of_relationship(\"PHENOTYPE_CATEGORY\", session)"
   ]
  },
  {
   "cell_type": "code",
   "execution_count": 16,
   "metadata": {},
   "outputs": [
    {
     "name": "stdout",
     "output_type": "stream",
     "text": [
      "Added 322 relationships of type PHENOTYPE\n"
     ]
    }
   ],
   "source": [
    "# Relationship PHENOTYPE between Cell and CellPhenotype\n",
    "\n",
    "csv_file_path = \"file:///%s\" % get_csv_path(\"celltype_phenotype.csv\")\n",
    "query=\"\"\"\n",
    "        LOAD CSV WITH HEADERS FROM \"%s\" AS row\n",
    "        MATCH (a:Cell { id: row.CellID})\n",
    "        MATCH (c:CellPhenotype { id: row.PhenotypeID })\n",
    "        MERGE (a)-[:PHENOTYPE]->(c)\n",
    "    \"\"\" % csv_file_path\n",
    "with driver.session() as session:\n",
    "    session.run(query)\n",
    "    get_count_of_relationship(\"PHENOTYPE\", session)"
   ]
  },
  {
   "cell_type": "code",
   "execution_count": null,
   "metadata": {},
   "outputs": [],
   "source": []
  },
  {
   "cell_type": "code",
   "execution_count": null,
   "metadata": {},
   "outputs": [],
   "source": []
  }
 ],
 "metadata": {
  "kernelspec": {
   "display_name": "Python 3",
   "language": "python",
   "name": "python3"
  },
  "language_info": {
   "codemirror_mode": {
    "name": "ipython",
    "version": 3
   },
   "file_extension": ".py",
   "mimetype": "text/x-python",
   "name": "python",
   "nbconvert_exporter": "python",
   "pygments_lexer": "ipython3",
   "version": "3.7.4"
  }
 },
 "nbformat": 4,
 "nbformat_minor": 4
}
