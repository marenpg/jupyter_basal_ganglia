{
 "cells": [
  {
   "cell_type": "code",
   "execution_count": 20,
   "metadata": {},
   "outputs": [
    {
     "name": "stdout",
     "output_type": "stream",
     "text": [
      "getting 1\n",
      "getting 2\n",
      "getting 3\n",
      "getting 4\n",
      "getting 5\n",
      "getting 6\n",
      "getting 7\n",
      "getting 8\n",
      "getting 9\n",
      "getting 10\n",
      "getting 11\n",
      "getting 12\n",
      "getting 13\n",
      "getting 14\n",
      "getting 15\n",
      "getting 16\n",
      "getting 17\n"
     ]
    }
   ],
   "source": [
    "import requests\n",
    "\n",
    "# Caudoputamen connectivity data\n",
    "caudoputamenUrl = \"https://bams2.bams1.org/search/connections/inputs/?page={number}&query=Caudoputamen+~+%28CP%29\"\n",
    "htmls = []\n",
    "\n",
    "with open('BAMS_data/connectivity/get_requests.txt', 'wb') as file:\n",
    "        file.write(b'')\n",
    "\n",
    "for i in range(1, 18):\n",
    "    url = caudoputamenUrl.replace(\"{number}\", str(i))\n",
    "    res = requests.get(url)\n",
    "    htmls.append(res.content)\n",
    "    print(\"getting\", i)\n",
    "    with open('BAMS_data/connectivity/get_requests.txt', 'ab') as file:\n",
    "        file.write(res.content)\n",
    "\n",
    "\n",
    "\n",
    "\n"
   ]
  },
  {
   "cell_type": "code",
   "execution_count": 57,
   "metadata": {},
   "outputs": [
    {
     "name": "stdout",
     "output_type": "stream",
     "text": [
      "Tables converted to csv\n"
     ]
    }
   ],
   "source": [
    "from bs4 import BeautifulSoup\n",
    "import csv\n",
    "import re\n",
    "\n",
    "htmls = []\n",
    "with open('BAMS_data/connectivity/get_requests.html', 'r') as file:\n",
    "        htmls = file.read().split(\"<!DOCTYPE\")\n",
    "\n",
    "htmls = list(filter(len, htmls))\n",
    " \n",
    "with open('BAMS_data/connectivity/caudoputamen_inputs.csv', 'w') as csvfile:\n",
    "    csvfile.write(\"\")\n",
    "    \n",
    "add_header = True    \n",
    "\n",
    "output_rows = []\n",
    "for html in htmls:\n",
    "    soup = BeautifulSoup(html)\n",
    "    table = soup.find(\"table\")\n",
    "    \n",
    "    \n",
    "    for table_row in table.findAll('tr'):\n",
    "        if add_header:\n",
    "            headers = table_row.findAll('th')\n",
    "            output_row = []\n",
    "            for header in headers:\n",
    "                output_row.append(header.text.replace(\"\\n\", \"\").strip())\n",
    "            output_rows.append(output_row)\n",
    "            add_header = False\n",
    "            \n",
    "        columns = table_row.findAll('td')\n",
    "        output_row = []\n",
    "        for column in columns:\n",
    "            column_text = column.text.replace(\"\\n\", \"\").strip()\n",
    "            column_text = re.sub(' +', ' ', column_text)\n",
    "            output_row.append(column_text)\n",
    "        if len(output_row) > 0:\n",
    "            output_rows.append(output_row)\n",
    "    \n",
    "with open('BAMS_data/connectivity/caudoputamen_inputs.csv', 'a') as csvfile:\n",
    "    writer = csv.writer(csvfile)\n",
    "    writer.writerows(output_rows)\n",
    "    \n",
    "print(\"Tables converted to csv\")\n",
    "    "
   ]
  },
  {
   "cell_type": "code",
   "execution_count": null,
   "metadata": {},
   "outputs": [],
   "source": []
  }
 ],
 "metadata": {
  "kernelspec": {
   "display_name": "Python 3",
   "language": "python",
   "name": "python3"
  },
  "language_info": {
   "codemirror_mode": {
    "name": "ipython",
    "version": 3
   },
   "file_extension": ".py",
   "mimetype": "text/x-python",
   "name": "python",
   "nbconvert_exporter": "python",
   "pygments_lexer": "ipython3",
   "version": "3.8.2"
  }
 },
 "nbformat": 4,
 "nbformat_minor": 4
}
