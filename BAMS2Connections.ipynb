{
 "cells": [
  {
   "cell_type": "code",
   "execution_count": 4,
   "metadata": {},
   "outputs": [
    {
     "name": "stdout",
     "output_type": "stream",
     "text": [
      "Getting https://bams2.bams1.org/search/connections/inputs/?page={number}&query=Caudoputamen+~+%28CP%29\n",
      ".\n",
      "..\n",
      "...\n",
      "....\n",
      ".....\n",
      "......\n",
      ".......\n",
      "........\n",
      ".........\n",
      "..........\n",
      "...........\n",
      "............\n",
      ".............\n",
      "..............\n",
      "...............\n",
      "................\n",
      ".................\n",
      "Getting https://bams2.bams1.org/search/connections/outputs/?page={number}&query=Caudoputamen+~+%28CP%29\n",
      ".\n",
      "..\n",
      "...\n"
     ]
    }
   ],
   "source": [
    "import requests\n",
    "\n",
    "# Caudoputamen connectivity data\n",
    "caudoputamenInputUrl = \"https://bams2.bams1.org/search/connections/inputs/?page={number}&query=Caudoputamen+~+%28CP%29\"\n",
    "caudoputamenOutputUrl = \"https://bams2.bams1.org/search/connections/outputs/?page={number}&query=Caudoputamen+~+%28CP%29\"\n",
    "\n",
    "def write_stuff(url, replace_str, numbers, output_file):\n",
    "    with open(output_file, 'wb') as file:\n",
    "        file.write(b'')\n",
    "    print(\"Getting\", url)\n",
    "    for i in range(1, numbers+1):\n",
    "        print(\".\"*i)\n",
    "        url = url.replace(replace_str, str(i))\n",
    "        res = requests.get(url)\n",
    "        \n",
    "        with open(output_file, 'ab') as file:\n",
    "            file.write(res.content)\n",
    "    \n",
    "write_stuff(caudoputamenInputUrl, \"{numbers}\", 17, 'BAMS_data/connectivity/caudoputamen_inputs.html')\n",
    "write_stuff(caudoputamenOutputUrl, \"{numbers}\", 3, 'BAMS_data/connectivity/caudoputamen_outputs.html')\n",
    "\n"
   ]
  },
  {
   "cell_type": "code",
   "execution_count": 8,
   "metadata": {},
   "outputs": [
    {
     "name": "stdout",
     "output_type": "stream",
     "text": [
      "Tables from  BAMS_data/connectivity/caudoputamen_inputs.html converted to csv in BAMS_data/connectivity/caudoputamen_inputs.csv\n",
      "Tables from  BAMS_data/connectivity/caudoputamen_outputs.html converted to csv in BAMS_data/connectivity/caudoputamen_outputs.csv\n"
     ]
    }
   ],
   "source": [
    "from bs4 import BeautifulSoup\n",
    "import csv\n",
    "import re\n",
    "\n",
    "def write_to_csv(input_html, output_csv):\n",
    "    htmls = []\n",
    "    with open(input_html, 'r') as file:\n",
    "            htmls = file.read().split(\"<!DOCTYPE\")\n",
    "\n",
    "    htmls = list(filter(len, htmls))\n",
    "\n",
    "    with open(output_csv, 'w') as csvfile:\n",
    "        csvfile.write(\"\")\n",
    "\n",
    "    add_header = True    \n",
    "\n",
    "    output_rows = []\n",
    "    for html in htmls:\n",
    "        soup = BeautifulSoup(html)\n",
    "        table = soup.find(\"table\")\n",
    "\n",
    "\n",
    "        for table_row in table.findAll('tr'):\n",
    "            if add_header:\n",
    "                headers = table_row.findAll('th')\n",
    "                output_row = []\n",
    "                for header in headers:\n",
    "                    output_row.append(header.text.replace(\"\\n\", \"\").strip())\n",
    "                output_rows.append(output_row)\n",
    "                add_header = False\n",
    "\n",
    "            columns = table_row.findAll('td')\n",
    "            output_row = []\n",
    "            for column in columns:\n",
    "                column_text = column.text.replace(\"\\n\", \"\").strip()\n",
    "                column_text = re.sub(' +', ' ', column_text)\n",
    "                output_row.append(column_text)\n",
    "            if len(output_row) > 0:\n",
    "                output_rows.append(output_row)\n",
    "\n",
    "    with open(output_csv, 'a') as csvfile:\n",
    "        writer = csv.writer(csvfile)\n",
    "        writer.writerows(output_rows)\n",
    "\n",
    "    print(\"Tables from \", input_html, \"converted to csv in\", output_csv)\n",
    "    \n",
    "caud_inputs_html = \"BAMS_data/connectivity/caudoputamen_inputs.html\"\n",
    "caud_inp_csv = \"BAMS_data/connectivity/caudoputamen_inputs.csv\"\n",
    "\n",
    "caud_outputs_html = \"BAMS_data/connectivity/caudoputamen_outputs.html\"\n",
    "caud_out_csv = \"BAMS_data/connectivity/caudoputamen_outputs.csv\"\n",
    "\n",
    "write_to_csv(caud_inputs_html, caud_inp_csv)\n",
    "write_to_csv(caud_outputs_html, caud_out_csv)\n",
    "    "
   ]
  },
  {
   "cell_type": "code",
   "execution_count": null,
   "metadata": {},
   "outputs": [],
   "source": []
  }
 ],
 "metadata": {
  "kernelspec": {
   "display_name": "Python 3",
   "language": "python",
   "name": "python3"
  },
  "language_info": {
   "codemirror_mode": {
    "name": "ipython",
    "version": 3
   },
   "file_extension": ".py",
   "mimetype": "text/x-python",
   "name": "python",
   "nbconvert_exporter": "python",
   "pygments_lexer": "ipython3",
   "version": "3.8.2"
  }
 },
 "nbformat": 4,
 "nbformat_minor": 4
}
