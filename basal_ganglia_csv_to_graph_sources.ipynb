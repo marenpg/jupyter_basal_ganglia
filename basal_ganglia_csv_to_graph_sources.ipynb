{
 "cells": [
  {
   "cell_type": "code",
   "execution_count": 10,
   "metadata": {},
   "outputs": [],
   "source": [
    "from neo4j import GraphDatabase, basic_auth\n",
    "import os\n",
    "\n",
    "driver = GraphDatabase.driver(\"bolt://localhost:7687\",auth=basic_auth(\"neo4j\", \"Kaffe1234\"))"
   ]
  },
  {
   "cell_type": "code",
   "execution_count": 11,
   "metadata": {},
   "outputs": [],
   "source": [
    "def get_count_of_type(label, session):\n",
    "    q = \"MATCH (n:%s) RETURN count(n)\" % label\n",
    "    res = session.run(q)\n",
    "    print(\"Added\", res.value()[0], \"nodes of type\", label)\n",
    "    \n",
    "def get_count_of_relationship(rel_label, fromLabel, toLabel, session):\n",
    "    q = \"MATCH (:%s)-[r:%s]-(:%s) RETURN count(*)\" % (fromLabel, rel_label, toLabel)\n",
    "    res = session.run(q)\n",
    "    print(\"Added\", res.value()[0], \"relationships of type\", fromLabel, rel_label, toLabel)\n",
    "\n",
    "def get_csv_path(csv_file):\n",
    "    path_all_csv = os.path.realpath(\"Data/csvs/basal_ganglia/sources\")\n",
    "    return os.path.join(path_all_csv, csv_file).replace(\"\\\\\",\"/\")"
   ]
  },
  {
   "cell_type": "code",
   "execution_count": 12,
   "metadata": {
    "scrolled": true
   },
   "outputs": [
    {
     "name": "stdout",
     "output_type": "stream",
     "text": [
      "wipeddatabase\n"
     ]
    }
   ],
   "source": [
    "# Deleting all source data in database\n",
    "with driver.session() as session:\n",
    "        session.run('''\n",
    "            MATCH (n)\n",
    "            WHERE  n:Source\n",
    "                OR n:SourceOrigin\n",
    "                OR n:ConsideredPaper\n",
    "                OR n:ExclusionReason\n",
    "            DETACH DELETE n\n",
    "        ''')\n",
    "        session.run('''\n",
    "            DROP CONSTRAINT ON (n:Source) ASSERT n.id IS UNIQUE\n",
    "            DROP INDEX ON :Cell(Source)\n",
    "        ''')\n",
    "        print(\"wipeddatabase\")"
   ]
  },
  {
   "cell_type": "code",
   "execution_count": 13,
   "metadata": {},
   "outputs": [
    {
     "name": "stdout",
     "output_type": "stream",
     "text": [
      "Added 246 nodes of type Source\n"
     ]
    }
   ],
   "source": [
    "# Adding Source to graph from sources.csv\n",
    "\n",
    "csv_file_path = \"file:///%s\" % get_csv_path(\"sources.csv\")\n",
    "query=\"\"\"\n",
    "        LOAD CSV WITH HEADERS FROM \"%s\" AS row\n",
    "        CREATE (:Source {id: row.ID, title: row.Source_title, type: row.Source_type, insertedData: row.Inserted_date, publicationYear: toInt(row.Source_publication_year), sourceName: row.Source_name})\n",
    "    \"\"\" % csv_file_path\n",
    "\n",
    "with driver.session() as session:\n",
    "    session.run(\"CREATE INDEX ON :Source(name)\")\n",
    "    session.run(\"CREATE CONSTRAINT ON (n:Source) ASSERT n.id IS UNIQUE\")\n",
    "    session.run(query)\n",
    "    get_count_of_type(\"Source\", session)"
   ]
  },
  {
   "cell_type": "code",
   "execution_count": 14,
   "metadata": {},
   "outputs": [
    {
     "name": "stdout",
     "output_type": "stream",
     "text": [
      "Added 363 nodes of type SourceOrigin\n"
     ]
    }
   ],
   "source": [
    "# Adding SourceOrigin to graph from sources.csv\n",
    "\n",
    "csv_file_path = \"file:///%s\" % get_csv_path(\"source_origins_lookup.csv\")\n",
    "query=\"\"\"\n",
    "        LOAD CSV WITH HEADERS FROM \"%s\" AS row\n",
    "        CREATE (:SourceOrigin {id: row.ID, name: row.Source_name, identifier: row.Identifier})\n",
    "    \"\"\" % csv_file_path\n",
    "\n",
    "with driver.session() as session:    \n",
    "    session.run(query)\n",
    "    get_count_of_type(\"SourceOrigin\", session)"
   ]
  },
  {
   "cell_type": "code",
   "execution_count": 15,
   "metadata": {},
   "outputs": [
    {
     "name": "stdout",
     "output_type": "stream",
     "text": [
      "Added 2204 nodes of type ConsideredPaper\n",
      "Number of considered papers that are included: 244\n"
     ]
    }
   ],
   "source": [
    "# Adding ConsideredPaper to graph from sources.csv\n",
    "## TODO try to connect considered_paper and publication \n",
    "## based on first auth + year (published) with Source_name\n",
    "\n",
    "csv_file_path = \"file:///%s\" % get_csv_path(\"considered_papers.csv\")\n",
    "query=\"\"\"\n",
    "        LOAD CSV WITH HEADERS FROM \"%s\" AS row\n",
    "        CREATE (:ConsideredPaper {id: row.ID, title: row.Title, publishedYear: toInt(row.Published), firstAuthor: row.First_author, isIncluded: false})\n",
    "    \"\"\" % csv_file_path\n",
    "\n",
    "with driver.session() as session:    \n",
    "    session.run(query)\n",
    "    session.run(\"create index on :ConsideredPaper(id)\")\n",
    "    get_count_of_type(\"ConsideredPaper\", session)\n",
    "    \n",
    "csv_file_path = \"file:///%s\" % get_csv_path(\"considered_papers_desicions.csv\")\n",
    "\n",
    "included_query=\"\"\"\n",
    "        LOAD CSV WITH HEADERS FROM \"%s\" AS row\n",
    "        WITH row WHERE row.Decision =~ \".*(?i)Included.*\"\n",
    "        MATCH (n:ConsideredPaper {id: row.Paper})\n",
    "        SET n.isIncluded = true\n",
    "        RETURN COUNT(n)\n",
    "    \"\"\" % csv_file_path\n",
    "\n",
    "with driver.session() as session:    \n",
    "    res = session.run(included_query)\n",
    "    print(\"Number of considered papers that are included:\",  res.value()[0])"
   ]
  },
  {
   "cell_type": "code",
   "execution_count": 16,
   "metadata": {},
   "outputs": [
    {
     "name": "stdout",
     "output_type": "stream",
     "text": [
      "Added 13 nodes of type ExclusionReason\n",
      "Added 2113 relationships of type ConsideredPaper EXCLUSION_REASON ExclusionReason\n"
     ]
    }
   ],
   "source": [
    "### Process considered paper decisions to find reasons where considered paper can get a relation to the reaseon.\n",
    "## IF it doesnt have relation to excluded it  is included \n",
    "\n",
    "import pandas as pd\n",
    "csv_file_path = \"file:///%s\" % get_csv_path(\"considered_papers_desicions.csv\")\n",
    "df = pd.read_csv(csv_file_path)\n",
    "\n",
    "exclusion_reasons = df[\"Decision\"].unique()\n",
    "\n",
    "with driver.session() as session: \n",
    "    for reason in exclusion_reasons:\n",
    "        if type(reason) == str and \"included\" not in reason.lower():\n",
    "\n",
    "            q = \"CREATE (:ExclusionReason {reason: '%s'})\" % reason.replace(\"Excluded: \", \"\")\n",
    "            session.run(q)\n",
    "            \n",
    "            # Relationship EXCLUSION_REASON between ConsideredPaper and ExclusionReason\n",
    "            query=\"\"\"\n",
    "                    LOAD CSV WITH HEADERS FROM \"%s\" AS row\n",
    "                    WITH row where row.Decision = '%s'\n",
    "                    MATCH (a:ConsideredPaper { id: row.Paper})\n",
    "                    MATCH (c:ExclusionReason { reason: '%s' })\n",
    "                    MERGE (a)-[:EXCLUSION_REASON]->(c)\n",
    "                \"\"\" % (csv_file_path, reason,  reason.replace(\"Excluded: \", \"\"))\n",
    "\n",
    "            session.run(query)\n",
    "    get_count_of_type(\"ExclusionReason\", session)\n",
    "    get_count_of_relationship(\"EXCLUSION_REASON\", \"ConsideredPaper\", \"ExclusionReason\", session)\n",
    "\n"
   ]
  },
  {
   "cell_type": "code",
   "execution_count": null,
   "metadata": {},
   "outputs": [],
   "source": []
  },
  {
   "cell_type": "code",
   "execution_count": 19,
   "metadata": {},
   "outputs": [
    {
     "name": "stdout",
     "output_type": "stream",
     "text": [
      "Added 245 relationships of type Source COLLECTED_FROM SourceOrigin\n"
     ]
    }
   ],
   "source": [
    "# Relationship COLLECTED_FROM between Source and SourceOrigin\n",
    "csv_file_path = \"file:///%s\" % get_csv_path(\"sources.csv\")\n",
    "query=\"\"\"\n",
    "        LOAD CSV WITH HEADERS FROM \"%s\" AS row\n",
    "        MATCH (a:Source { id: row.ID})\n",
    "        MATCH (c:SourceOrigin { id: row.Source_origin })\n",
    "        MERGE (a)-[:COLLECTED_FROM]->(c)\n",
    "    \"\"\" % csv_file_path\n",
    "\n",
    "with driver.session() as session:\n",
    "    session.run(query)\n",
    "    get_count_of_relationship(\"COLLECTED_FROM\", \"Source\", \"SourceOrigin\", session)"
   ]
  },
  {
   "cell_type": "code",
   "execution_count": 20,
   "metadata": {},
   "outputs": [
    {
     "name": "stdout",
     "output_type": "stream",
     "text": [
      "Added 2134 relationships of type ConsideredPaper COLLECTED_FROM SourceOrigin\n"
     ]
    }
   ],
   "source": [
    "# Relationship COLLECTED_FROM between ConsideredPaper and SourceOrigin\n",
    "csv_file_path = \"file:///%s\" % get_csv_path(\"considered_papers.csv\")\n",
    "query=\"\"\"\n",
    "        LOAD CSV WITH HEADERS FROM \"%s\" AS row\n",
    "        MATCH (a:ConsideredPaper { id: row.ID})\n",
    "        MATCH (c:SourceOrigin { id: row.Journal })\n",
    "        MERGE (a)-[:COLLECTED_FROM]->(c)\n",
    "    \"\"\" % csv_file_path\n",
    "\n",
    "with driver.session() as session:\n",
    "    session.run(query)\n",
    "    get_count_of_relationship(\"COLLECTED_FROM\", \"ConsideredPaper\", \"SourceOrigin\", session)"
   ]
  },
  {
   "cell_type": "code",
   "execution_count": null,
   "metadata": {},
   "outputs": [],
   "source": []
  }
 ],
 "metadata": {
  "kernelspec": {
   "display_name": "Python 3",
   "language": "python",
   "name": "python3"
  },
  "language_info": {
   "codemirror_mode": {
    "name": "ipython",
    "version": 3
   },
   "file_extension": ".py",
   "mimetype": "text/x-python",
   "name": "python",
   "nbconvert_exporter": "python",
   "pygments_lexer": "ipython3",
   "version": "3.7.4"
  }
 },
 "nbformat": 4,
 "nbformat_minor": 4
}
