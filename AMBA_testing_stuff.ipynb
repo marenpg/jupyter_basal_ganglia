{
 "cells": [
  {
   "cell_type": "code",
   "execution_count": 1,
   "metadata": {},
   "outputs": [
    {
     "name": "stdout",
     "output_type": "stream",
     "text": [
      "# mouse cells: 1920\n",
      "{'reporter_status': 'positive', 'cell_soma_location': [8966.56330957526, 1429.52689052075, 8567.389672505], 'species': 'Mus musculus', 'id': 565871768, 'name': 'Oxtr-2A-Cre;Ai14-293837.03.01.02', 'structure_layer_name': '5', 'structure_area_id': 385, 'structure_area_abbrev': 'VISp', 'transgenic_line': 'Oxtr-T2A-Cre', 'dendrite_type': 'aspiny', 'apical': 'NA', 'reconstruction_type': None, 'disease_state': '', 'donor_id': 563340157, 'structure_hemisphere': 'left', 'normalized_depth': 0.582056591439023}\n"
     ]
    }
   ],
   "source": [
    "from allensdk.core.cell_types_cache import CellTypesCache\n",
    "from allensdk.api.queries.cell_types_api import CellTypesApi\n",
    "import json\n",
    "\n",
    "ctc = CellTypesCache(manifest_file='cell_types/manifest.json')\n",
    "\n",
    "# download all cells\n",
    "# cells = ctc.get_cells()\n",
    "# print(\"Total cells: %d\" % len(cells))\n",
    "\n",
    "# Get all mouse cells\n",
    "cells = ctc.get_cells(species=[CellTypesApi.MOUSE])\n",
    "print(\"# mouse cells: %d\" % len(cells))\n",
    "\n",
    "print(cells[0])\n",
    "\n",
    "# Dump all cells into JSON\n",
    "with open('jsondata.json', 'w') as out_file:\n",
    "    json.dump(cells, out_file)"
   ]
  },
  {
   "cell_type": "code",
   "execution_count": 3,
   "metadata": {},
   "outputs": [
    {
     "name": "stdout",
     "output_type": "stream",
     "text": [
      "reporter_status           object\n",
      "cell_soma_location        object\n",
      "species                   object\n",
      "id                         int64\n",
      "name                      object\n",
      "structure_layer_name      object\n",
      "structure_area_id          int64\n",
      "structure_area_abbrev     object\n",
      "transgenic_line           object\n",
      "dendrite_type             object\n",
      "apical                    object\n",
      "reconstruction_type       object\n",
      "disease_state             object\n",
      "donor_id                   int64\n",
      "structure_hemisphere      object\n",
      "normalized_depth         float64\n",
      "dtype: object\n",
      "INDES: RangeIndex(start=0, stop=1920, step=1)\n"
     ]
    }
   ],
   "source": [
    "import pandas as pd\n",
    "\n",
    "df = pd.read_json(\"jsondata.json\", orient=\"records\")\n",
    "print(df.dtypes)\n",
    "print(\"INDEX:\", df.index)\n",
    "df.sort_values(by='name')\n",
    "df.to_csv(\"amba_csv/amba_cells.csv\")"
   ]
  },
  {
   "cell_type": "code",
   "execution_count": null,
   "metadata": {},
   "outputs": [],
   "source": []
  }
 ],
 "metadata": {
  "kernelspec": {
   "display_name": "Python 3",
   "language": "python",
   "name": "python3"
  },
  "language_info": {
   "codemirror_mode": {
    "name": "ipython",
    "version": 3
   },
   "file_extension": ".py",
   "mimetype": "text/x-python",
   "name": "python",
   "nbconvert_exporter": "python",
   "pygments_lexer": "ipython3",
   "version": "3.7.4"
  }
 },
 "nbformat": 4,
 "nbformat_minor": 4
}
