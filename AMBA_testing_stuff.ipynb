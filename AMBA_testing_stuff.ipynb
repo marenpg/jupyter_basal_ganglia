{
 "cells": [
  {
   "cell_type": "code",
   "execution_count": 1,
   "metadata": {},
   "outputs": [
    {
     "ename": "ModuleNotFoundError",
     "evalue": "No module named 'allensdk'",
     "output_type": "error",
     "traceback": [
      "\u001b[1;31m---------------------------------------------------------------------------\u001b[0m",
      "\u001b[1;31mModuleNotFoundError\u001b[0m                       Traceback (most recent call last)",
      "\u001b[1;32m<ipython-input-1-464ef5fbd52c>\u001b[0m in \u001b[0;36m<module>\u001b[1;34m\u001b[0m\n\u001b[1;32m----> 1\u001b[1;33m \u001b[1;32mfrom\u001b[0m \u001b[0mallensdk\u001b[0m\u001b[1;33m.\u001b[0m\u001b[0mcore\u001b[0m\u001b[1;33m.\u001b[0m\u001b[0mcell_types_cache\u001b[0m \u001b[1;32mimport\u001b[0m \u001b[0mCellTypesCache\u001b[0m\u001b[1;33m\u001b[0m\u001b[1;33m\u001b[0m\u001b[0m\n\u001b[0m\u001b[0;32m      2\u001b[0m \u001b[1;32mfrom\u001b[0m \u001b[0mallensdk\u001b[0m\u001b[1;33m.\u001b[0m\u001b[0mapi\u001b[0m\u001b[1;33m.\u001b[0m\u001b[0mqueries\u001b[0m\u001b[1;33m.\u001b[0m\u001b[0mcell_types_api\u001b[0m \u001b[1;32mimport\u001b[0m \u001b[0mCellTypesApi\u001b[0m\u001b[1;33m\u001b[0m\u001b[1;33m\u001b[0m\u001b[0m\n\u001b[0;32m      3\u001b[0m \u001b[1;32mimport\u001b[0m \u001b[0mjson\u001b[0m\u001b[1;33m\u001b[0m\u001b[1;33m\u001b[0m\u001b[0m\n\u001b[0;32m      4\u001b[0m \u001b[1;33m\u001b[0m\u001b[0m\n\u001b[0;32m      5\u001b[0m \u001b[0mctc\u001b[0m \u001b[1;33m=\u001b[0m \u001b[0mCellTypesCache\u001b[0m\u001b[1;33m(\u001b[0m\u001b[0mmanifest_file\u001b[0m\u001b[1;33m=\u001b[0m\u001b[1;34m'cell_types/manifest.json'\u001b[0m\u001b[1;33m)\u001b[0m\u001b[1;33m\u001b[0m\u001b[1;33m\u001b[0m\u001b[0m\n",
      "\u001b[1;31mModuleNotFoundError\u001b[0m: No module named 'allensdk'"
     ]
    }
   ],
   "source": [
    "from allensdk.core.cell_types_cache import CellTypesCache\n",
    "from allensdk.api.queries.cell_types_api import CellTypesApi\n",
    "import json\n",
    "\n",
    "ctc = CellTypesCache(manifest_file='cell_types/manifest.json')\n",
    "\n",
    "# download all cells\n",
    "# cells = ctc.get_cells()\n",
    "# print(\"Total cells: %d\" % len(cells))\n",
    "\n",
    "# Get all mouse cells\n",
    "cells = ctc.get_cells(species=[CellTypesApi.MOUSE])\n",
    "print(\"# mouse cells: %d\" % len(cells))\n",
    "\n",
    "# Dump all cells into JSON\n",
    "with open('jsondata.json', 'w') as out_file:\n",
    "    json.dump(cells, out_file)"
   ]
  },
  {
   "cell_type": "code",
   "execution_count": 6,
   "metadata": {},
   "outputs": [
    {
     "name": "stdout",
     "output_type": "stream",
     "text": [
      "Brain regions\n",
      "['RSPagl', 'RSPd', 'TEa', 'SSp-tr', 'SSp-bfd', 'SSp-n', 'AUDpo', 'AUDp', 'SSp', 'RSPv', 'SSp-un']\n"
     ]
    }
   ],
   "source": [
    "import pandas as pd\n",
    "\n",
    "df = pd.read_json(\"jsondata.json\", orient=\"records\")\n",
    "#print(df.dtypes)\n",
    "\n",
    "df.sort_values(by='name')\n",
    "df.to_csv(\"amba_csv/amba_cells.csv\")\n",
    "\n",
    "print(\"Brain regions\")\n",
    "brain_region_abbreviations = df.structure_area_abbrev.unique()\n",
    "brain_reg_not_visual =[b for b in brain_region_abbreviations if not b.startswith(\"VIS\")] \n",
    "print(brain_reg_not_visual)\n",
    "\n",
    "# RSPagl = Retrosplenial area, lateral agranular part\n",
    "# RSPd = Retrosplenial area, dorsal part\n",
    "# RSPv = Retrosplenial area, ventral part\n",
    "# TEa = Temporal association areas\n",
    "# SSp = Primary somatosensory area\n",
    "# SSp-tr = Primary somatosensory area, trunk\n",
    "# SSp-n = Primary somatosensory area, nose\n",
    "# SSp-un = Primary somatosensory area, unassigned\n",
    "# SSp-bfd = Primary somatosensory area, barrel field\n",
    "# AUDpo = Posterior auditory area\n",
    "# AUDp = Primary auditory area"
   ]
  },
  {
   "cell_type": "code",
   "execution_count": null,
   "metadata": {},
   "outputs": [],
   "source": []
  }
 ],
 "metadata": {
  "kernelspec": {
   "display_name": "Python 3",
   "language": "python",
   "name": "python3"
  },
  "language_info": {
   "codemirror_mode": {
    "name": "ipython",
    "version": 3
   },
   "file_extension": ".py",
   "mimetype": "text/x-python",
   "name": "python",
   "nbconvert_exporter": "python",
   "pygments_lexer": "ipython3",
   "version": "3.8.2"
  }
 },
 "nbformat": 4,
 "nbformat_minor": 4
}
