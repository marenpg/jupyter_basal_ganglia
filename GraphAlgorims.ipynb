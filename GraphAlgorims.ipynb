{
 "cells": [
  {
   "cell_type": "code",
   "execution_count": 1,
   "metadata": {},
   "outputs": [],
   "source": [
    "from neo4j import GraphDatabase, basic_auth\n",
    "from dotenv import load_dotenv\n",
    "import os\n",
    "\n",
    "load_dotenv()\n",
    "\n",
    "neo4jUser = os.getenv(\"NEO4J_USER_SANDBOX\")\n",
    "neo4jPwd = os.getenv(\"NEO4J_PASSWORD_SANDBOX\")\n",
    "neo4jUrl = os.getenv(\"NEO4j_BOLT_SANDBOX\")\n",
    "\n",
    "driver = GraphDatabase.driver(neo4jUrl,auth=basic_auth(neo4jUser, neo4jPwd))"
   ]
  },
  {
   "cell_type": "code",
   "execution_count": 2,
   "metadata": {},
   "outputs": [
    {
     "name": "stdout",
     "output_type": "stream",
     "text": [
      "8 11\n",
      "88 \n",
      "        MATCH (c:CellType)<-[:CELL_TYPE_PUTATIVE]-(n:Analysis)-[:DATA_TYPE]->(:Quantitation)-[:REGION_RECORD]->(:RegionRecord)-[:PRIMARY_REGION]->(b:BrainRegion)\n",
      "        WHERE c.id =\"8\" AND b.id = \"1\"\n",
      "        return COUNT(DISTINCT n.id) as analysisCount, c.id, c.name, b.id, b.name\n",
      "        \n",
      "        \n",
      ". . . . . . . . . . . . . . . . . . . . . . . . . . . . . . . . . . . . . . . 72 14 Tyrosine hydroxylase expressing 10 Pars compacta\n",
      ". . . . . 25 14 Tyrosine hydroxylase expressing 26 Substantia nigra\n",
      ". . . . . . . . . . . . . . . . . . . . . . . . . . . . . . . . . . 37 42 Neuron 1 Caudoputamen\n",
      ". 29 42 Neuron 2 Caudoputamen\n",
      ". . . . 27 42 Neuron 10 Pars compacta\n",
      ". . . . . [(72, '14', 'Tyrosine hydroxylase expressing', '10', 'Pars compacta'), (25, '14', 'Tyrosine hydroxylase expressing', '26', 'Substantia nigra'), (37, '42', 'Neuron', '1', 'Caudoputamen'), (29, '42', 'Neuron', '2', 'Caudoputamen'), (27, '42', 'Neuron', '10', 'Pars compacta')]\n"
     ]
    }
   ],
   "source": [
    "## Is there somehting in the methods used that make a difference in the results?\n",
    "\n",
    "cell_ids = []\n",
    "region_ids = []\n",
    "\n",
    "with driver.session() as session:    \n",
    "    res = session.run(\"\"\"\n",
    "        Match (b:BrainRegion)\n",
    "        WHERE size((:Analysis)-[:DATA_TYPE]->(:Quantitation)-[:REGION_RECORD]->(:RegionRecord)-[:PRIMARY_REGION]->(b)) >=20\n",
    "        return b.id\n",
    "    \n",
    "    \"\"\")\n",
    "    for record in res:\n",
    "        region_ids.append(record[\"b.id\"])\n",
    "    res = session.run(\"\"\"\n",
    "        Match (c:CellType)\n",
    "        WHERE size((c)<-[:CELL_TYPE_PUTATIVE]-(:Analysis)) >=20\n",
    "        return c.id\n",
    "    \"\"\")\n",
    "    for record in res:\n",
    "        cell_ids.append(record[\"c.id\"])\n",
    "\n",
    "print(len(cell_ids), len(region_ids))\n",
    "queries = []\n",
    "        \n",
    "for cell_id in cell_ids:\n",
    "    for region_id in region_ids:\n",
    "        q = \"\"\"\n",
    "        MATCH (c:CellType)<-[:CELL_TYPE_PUTATIVE]-(n:Analysis)-[:DATA_TYPE]->(:Quantitation)-[:REGION_RECORD]->(:RegionRecord)-[:PRIMARY_REGION]->(b:BrainRegion)\n",
    "        WHERE c.id =\"%s\" AND b.id = \"%s\"\n",
    "        return COUNT(DISTINCT n.id) as analysisCount, c.id, c.name, b.id, b.name\n",
    "        \n",
    "        \"\"\" % (cell_id, region_id)\n",
    "        queries.append(q)\n",
    "        \n",
    "print(len(queries), queries[0])\n",
    "results = []\n",
    "for query in queries:\n",
    "    with driver.session() as session:  \n",
    "        print(\".\", end =\" \")\n",
    "        res = session.run(query)\n",
    "        for rec in res:\n",
    "            if(rec[\"analysisCount\"] > 20):\n",
    "                print(rec[\"analysisCount\"], rec[\"c.id\"], rec[\"c.name\"], rec[\"b.id\"], rec[\"b.name\"])\n",
    "                results.append((rec[\"analysisCount\"], rec[\"c.id\"], rec[\"c.name\"], rec[\"b.id\"], rec[\"b.name\"]))\n",
    "            \n",
    "print(results)\n",
    "\n"
   ]
  },
  {
   "cell_type": "code",
   "execution_count": null,
   "metadata": {},
   "outputs": [],
   "source": [
    "results = [\n",
    "    (72, '14', 'Tyrosine hydroxylase expressing', '10', 'Pars compacta'), \n",
    "    (25, '14', 'Tyrosine hydroxylase expressing', '26', 'Substantia nigra'), \n",
    "    (37, '42', 'Neuron', '1', 'Caudoputamen'), \n",
    "    (29, '42', 'Neuron', '2', 'Caudoputamen'), \n",
    "    (27, '42', 'Neuron', '10', 'Pars compacta')\n",
    "]\n",
    "\n",
    "\n"
   ]
  }
 ],
 "metadata": {
  "kernelspec": {
   "display_name": "Python 3",
   "language": "python",
   "name": "python3"
  },
  "language_info": {
   "codemirror_mode": {
    "name": "ipython",
    "version": 3
   },
   "file_extension": ".py",
   "mimetype": "text/x-python",
   "name": "python",
   "nbconvert_exporter": "python",
   "pygments_lexer": "ipython3",
   "version": "3.7.4"
  }
 },
 "nbformat": 4,
 "nbformat_minor": 4
}
