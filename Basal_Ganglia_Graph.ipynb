{
 "cells": [
  {
   "cell_type": "code",
   "execution_count": 75,
   "metadata": {},
   "outputs": [],
   "source": [
    "from neo4j import GraphDatabase, basic_auth\n",
    "import nxneo4j\n",
    "\n",
    "driver = GraphDatabase.driver(\"bolt://localhost:7687\",auth=basic_auth(\"neo4j\", \"Kaffe1234\"))"
   ]
  },
  {
   "cell_type": "code",
   "execution_count": 76,
   "metadata": {},
   "outputs": [],
   "source": [
    "def get_count_of_type(label, session):\n",
    "    q = \"MATCH (n:%s) RETURN count(n)\" % label\n",
    "    res = session.run(q)\n",
    "    print(\"Added\", res.value()[0], \"nodes of type\", label)\n",
    "    \n",
    "def get_count_of_relationship(label, session):\n",
    "    q = \"MATCH ()-[r:PHENOTYPE]-() RETURN count(*)\"\n",
    "    res = session.run(q)\n",
    "    print(\"Added\", res.value()[0], \"relationships of type\", label)"
   ]
  },
  {
   "cell_type": "code",
   "execution_count": 77,
   "metadata": {
    "scrolled": false
   },
   "outputs": [
    {
     "name": "stdout",
     "output_type": "stream",
     "text": [
      "wipeddatabase\n"
     ]
    }
   ],
   "source": [
    "# Deleting all data in database\n",
    "with driver.session() as session:\n",
    "        session.run('''\n",
    "            MATCH (n)\n",
    "            DETACH DELETE n\n",
    "        ''')\n",
    "        print(\"wipeddatabase\")"
   ]
  },
  {
   "cell_type": "code",
   "execution_count": 78,
   "metadata": {},
   "outputs": [
    {
     "name": "stdout",
     "output_type": "stream",
     "text": [
      "Added 107 nodes of type Cell\n"
     ]
    }
   ],
   "source": [
    "# Adding CellTypes to graph with Cell label\n",
    "with driver.session() as session:\n",
    "    session.run(\"\"\"\\\n",
    "        LOAD CSV WITH HEADERS FROM \"https://raw.githubusercontent.com/marenpg/basal_ganglia/master/csv/cell_types.csv?token=ABSKINXDM4RF6FYKDKSV5G26FFXII\" AS row\n",
    "        CREATE (:Cell {id: row.ID, name: row.Cell_type_name, ont:row.Ontological_identifier})\n",
    "        \"\"\"\n",
    "    )\n",
    "    get_count_of_type(\"Cell\", session)"
   ]
  },
  {
   "cell_type": "code",
   "execution_count": 79,
   "metadata": {},
   "outputs": [
    {
     "name": "stdout",
     "output_type": "stream",
     "text": [
      "Added 4 nodes of type CellType\n"
     ]
    }
   ],
   "source": [
    "# Adding CellTypes to graph\n",
    "cell_types = [(\"Neuron\", \"SAO:1417703748\"), \n",
    "              (\"Oligodendrocyte\",\"SAO:844118448\t\"), \n",
    "              (\"Microglia\",\"SAO:789292116\"), \n",
    "              (\"Astrocyte\",\"SAO:1394521419\")\n",
    "             ]\n",
    "with driver.session() as session:\n",
    "    for cell_name, cell_ont in cell_types:\n",
    "        q = \"CREATE (:CellType {{ name: '{name}', ont: '{ont}' }})\".format(name=cell_name, ont=cell_ont)\n",
    "        session.run(q )\n",
    "        \n",
    "    get_count_of_type(\"CellType\", session)"
   ]
  },
  {
   "cell_type": "code",
   "execution_count": 80,
   "metadata": {},
   "outputs": [
    {
     "name": "stdout",
     "output_type": "stream",
     "text": [
      "Added 107 nodes of type CellPhenotype\n"
     ]
    }
   ],
   "source": [
    "# Adding cell phenotypes\n",
    "with driver.session() as session:\n",
    "    session.run(\"\"\"\\\n",
    "        LOAD CSV WITH HEADERS FROM \"https://raw.githubusercontent.com/marenpg/basal_ganglia/master/csv/cell_phenotypes.csv?token=ABSKINVCY7MHJG533DSSE7K6FGVDY\" AS row\n",
    "        CREATE (:CellPhenotype {id: row.ID, name: row.Phenotype, ont:row.Ontological_identifier})\n",
    "    \"\"\")\n",
    "    get_count_of_type(\"CellPhenotype\", session)"
   ]
  },
  {
   "cell_type": "code",
   "execution_count": 81,
   "metadata": {},
   "outputs": [
    {
     "name": "stdout",
     "output_type": "stream",
     "text": [
      "Added 7 nodes of type CellPhenotypeCategory\n"
     ]
    }
   ],
   "source": [
    "# Adding cell phenotype categories\n",
    "with driver.session() as session:\n",
    "    session.run(\"\"\"\\\n",
    "        LOAD CSV WITH HEADERS FROM \"https://raw.githubusercontent.com/marenpg/basal_ganglia/master/csv/cell_phenotype_categories.csv?token=ABSKINRPNOGJ77IDXHLOJVC6FGVJE\" AS row\n",
    "        CREATE (:CellPhenotypeCategory {id:row.ID, name: row.Phenotype_category})\n",
    "    \"\"\")\n",
    "    get_count_of_type(\"CellPhenotypeCategory\", session)"
   ]
  },
  {
   "cell_type": "code",
   "execution_count": 83,
   "metadata": {},
   "outputs": [
    {
     "name": "stdout",
     "output_type": "stream",
     "text": [
      "Added 210 relationships of type PHENOTYPE\n"
     ]
    }
   ],
   "source": [
    "# Relationship between CellPhenotype and CellPhenotypeCategory\n",
    "with driver.session() as session:\n",
    "    session.run(\"\"\"\\\n",
    "        LOAD CSV WITH HEADERS FROM \"https://raw.githubusercontent.com/marenpg/basal_ganglia/master/csv/cell_phenotypes.csv?token=ABSKINVCY7MHJG533DSSE7K6FGVDY\" AS row\n",
    "        MATCH (a:CellPhenotype {id: row.ID})\n",
    "        MATCH (c:CellPhenotypeCategory {id: row.Phenotype_category })\n",
    "        MERGE (a)-[:PHENOTYPE]->(c)\n",
    "    \"\"\")\n",
    "    get_count_of_relationship(\"PHENOTYPE\", session)"
   ]
  },
  {
   "cell_type": "code",
   "execution_count": null,
   "metadata": {},
   "outputs": [],
   "source": [
    "# Relationship between Cell and CellPhenotype\n",
    "with driver.session() as session:\n",
    "    session.run(\"\"\"\\\n",
    "        LOAD CSV WITH HEADERS FROM \"\" AS row\n",
    "        MATCH (a:CellPhenotype {id: row.ID})\n",
    "        MATCH (c:CellPhenotypeCategory {id: row.Phenotype_category })\n",
    "        MERGE (a)-[:PHENOTYPE]->(c)\n",
    "    \"\"\")\n",
    "    get_count_of_relationship(\"PHENOTYPE\", session)"
   ]
  }
 ],
 "metadata": {
  "kernelspec": {
   "display_name": "Python 3",
   "language": "python",
   "name": "python3"
  },
  "language_info": {
   "codemirror_mode": {
    "name": "ipython",
    "version": 3
   },
   "file_extension": ".py",
   "mimetype": "text/x-python",
   "name": "python",
   "nbconvert_exporter": "python",
   "pygments_lexer": "ipython3",
   "version": "3.7.4"
  }
 },
 "nbformat": 4,
 "nbformat_minor": 4
}
