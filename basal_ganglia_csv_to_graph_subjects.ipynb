{
 "cells": [
  {
   "cell_type": "code",
   "execution_count": 1,
   "metadata": {},
   "outputs": [],
   "source": [
    "from neo4j import GraphDatabase, basic_auth\n",
    "import os\n",
    "\n",
    "driver = GraphDatabase.driver(\"bolt://localhost:7687\",auth=basic_auth(\"neo4j\", \"Kaffe1234\"))"
   ]
  },
  {
   "cell_type": "code",
   "execution_count": 2,
   "metadata": {},
   "outputs": [],
   "source": [
    "def get_count_of_type(label, session):\n",
    "    q = \"MATCH (n:%s) RETURN count(n)\" % label\n",
    "    res = session.run(q)\n",
    "    print(\"Added\", res.value()[0], \"nodes of type\", label)\n",
    "    \n",
    "def get_count_of_relationship(label, session):\n",
    "    q = \"MATCH ()-[r:%s]-() RETURN count(*)\" %label\n",
    "    res = session.run(q)\n",
    "    print(\"Added\", res.value()[0], \"relationships of type\", label)\n",
    "\n",
    "def get_csv_path(csv_file):\n",
    "    path_all_csv = os.path.realpath(\"Data/csvs/basal_ganglia/subjects\")\n",
    "    return os.path.join(path_all_csv, csv_file).replace(\"\\\\\",\"/\")"
   ]
  },
  {
   "cell_type": "code",
   "execution_count": 3,
   "metadata": {},
   "outputs": [
    {
     "name": "stdout",
     "output_type": "stream",
     "text": [
      "wipeddatabase\n"
     ]
    }
   ],
   "source": [
    "# Deleting all subject data in database\n",
    "with driver.session() as session:\n",
    "        session.run('''\n",
    "            MATCH (n)\n",
    "            WHERE  n:Specimen\n",
    "                OR n:Specie \n",
    "                OR n:Strain \n",
    "                OR n:Substrains \n",
    "                OR n:Sex\n",
    "                OR n:AgeCategory\n",
    "                OR n:TransgenicLine\n",
    "            DETACH DELETE n\n",
    "        ''')\n",
    "        print(\"wipeddatabase\")"
   ]
  },
  {
   "cell_type": "code",
   "execution_count": 4,
   "metadata": {},
   "outputs": [
    {
     "name": "stdout",
     "output_type": "stream",
     "text": [
      "Added 1065 nodes of type Specimen\n"
     ]
    }
   ],
   "source": [
    "# Adding Specimen to graph from specimens.csv\n",
    "\n",
    "csv_file_path = \"file:///%s\" % get_csv_path(\"specimens.csv\")\n",
    "query=\"\"\"\n",
    "        LOAD CSV WITH HEADERS FROM \"%s\" AS row\n",
    "        CREATE (:Specimen {id: row.ID, name: row.Specimen_name, form: row.Specimen_form, order: row.Specimen_order})\n",
    "    \"\"\" % csv_file_path\n",
    "\n",
    "with driver.session() as session:    \n",
    "    session.run(query)\n",
    "    get_count_of_type(\"Specimen\", session)"
   ]
  },
  {
   "cell_type": "code",
   "execution_count": 5,
   "metadata": {},
   "outputs": [
    {
     "name": "stdout",
     "output_type": "stream",
     "text": [
      "Added 24 nodes of type Strain\n"
     ]
    }
   ],
   "source": [
    "# Adding Strain to graph from strains.csv\n",
    "\n",
    "csv_file_path = \"file:///%s\" % get_csv_path(\"strains.csv\")\n",
    "query=\"\"\"\n",
    "        LOAD CSV WITH HEADERS FROM \"%s\" AS row\n",
    "        CREATE (:Strain {id: row.ID, name: row.Strain_name, ontology: row.Ontological_identifier})\n",
    "    \"\"\" % csv_file_path\n",
    "\n",
    "with driver.session() as session:    \n",
    "    session.run(query)\n",
    "    get_count_of_type(\"Strain\", session)"
   ]
  },
  {
   "cell_type": "code",
   "execution_count": 6,
   "metadata": {},
   "outputs": [
    {
     "name": "stdout",
     "output_type": "stream",
     "text": [
      "Added 44 nodes of type Substrain\n"
     ]
    }
   ],
   "source": [
    "# Adding Substrain to graph from substrains.csv\n",
    "\n",
    "csv_file_path = \"file:///%s\" % get_csv_path(\"substrains.csv\")\n",
    "query=\"\"\"\n",
    "        LOAD CSV WITH HEADERS FROM \"%s\" AS row\n",
    "        CREATE (:Substrain {id: row.ID, name: row.Substrain_name, ontology: row.Ontological_identifier})\n",
    "    \"\"\" % csv_file_path\n",
    "\n",
    "with driver.session() as session:    \n",
    "    session.run(query)\n",
    "    get_count_of_type(\"Substrain\", session)"
   ]
  },
  {
   "cell_type": "code",
   "execution_count": 7,
   "metadata": {},
   "outputs": [
    {
     "name": "stdout",
     "output_type": "stream",
     "text": [
      "Added 2 nodes of type Specie\n"
     ]
    }
   ],
   "source": [
    "# Adding Specie to graph from species.csv\n",
    "\n",
    "csv_file_path = \"file:///%s\" % get_csv_path(\"species.csv\")\n",
    "query=\"\"\"\n",
    "        LOAD CSV WITH HEADERS FROM \"%s\" AS row\n",
    "        CREATE (:Specie {id: row.ID, name: row.Species, ontology: row.Ontological_identifier})\n",
    "    \"\"\" % csv_file_path\n",
    "\n",
    "with driver.session() as session:    \n",
    "    session.run(query)\n",
    "    get_count_of_type(\"Specie\", session)"
   ]
  },
  {
   "cell_type": "code",
   "execution_count": 8,
   "metadata": {},
   "outputs": [
    {
     "name": "stdout",
     "output_type": "stream",
     "text": [
      "Added 10 nodes of type AgeCategory\n"
     ]
    }
   ],
   "source": [
    "# Adding AgeCategory to graph from age_categories.csv\n",
    "\n",
    "csv_file_path = \"file:///%s\" % get_csv_path(\"age_categories.csv\")\n",
    "query=\"\"\"\n",
    "        LOAD CSV WITH HEADERS FROM \"%s\" AS row\n",
    "        CREATE (:AgeCategory {id: row.ID, name: row.Age_category, ontology: row.Ontological_identifier, description: row.Description})\n",
    "    \"\"\" % csv_file_path\n",
    "\n",
    "with driver.session() as session:    \n",
    "    session.run(query)\n",
    "    get_count_of_type(\"AgeCategory\", session)"
   ]
  },
  {
   "cell_type": "code",
   "execution_count": 9,
   "metadata": {},
   "outputs": [
    {
     "name": "stdout",
     "output_type": "stream",
     "text": [
      "Added 3 nodes of type Sex\n"
     ]
    }
   ],
   "source": [
    "# Adding Sex to graph from sex.csv\n",
    "\n",
    "csv_file_path = \"file:///%s\" % get_csv_path(\"sex.csv\")\n",
    "query=\"\"\"\n",
    "        LOAD CSV WITH HEADERS FROM \"%s\" AS row\n",
    "        CREATE (:Sex {id: row.ID, name: row.Sex, ontology: row.Ontological_identifier})\n",
    "    \"\"\" % csv_file_path\n",
    "\n",
    "with driver.session() as session:    \n",
    "    session.run(query)\n",
    "    get_count_of_type(\"Sex\", session)"
   ]
  },
  {
   "cell_type": "code",
   "execution_count": 10,
   "metadata": {},
   "outputs": [
    {
     "name": "stdout",
     "output_type": "stream",
     "text": [
      "Added 20 nodes of type TransgenicLine\n"
     ]
    }
   ],
   "source": [
    "# Adding TransgenicLine to graph from transgenic_lines.csv\n",
    "\n",
    "csv_file_path = \"file:///%s\" % get_csv_path(\"transgenic_lines.csv\")\n",
    "query=\"\"\"\n",
    "        LOAD CSV WITH HEADERS FROM \"%s\" AS row\n",
    "        CREATE (:TransgenicLine {id: row.ID, name: row.Transgenic_line_name, RRID: row.Transgenic_line_RRID})\n",
    "    \"\"\" % csv_file_path\n",
    "\n",
    "with driver.session() as session:    \n",
    "    session.run(query)\n",
    "    get_count_of_type(\"TransgenicLine\", session)"
   ]
  },
  {
   "cell_type": "code",
   "execution_count": 11,
   "metadata": {},
   "outputs": [],
   "source": [
    "# Relationship IS_A between Specimen and Specie\n",
    "\n",
    "## TODO WAIT FOR Experiment csv to connect them\n"
   ]
  },
  {
   "cell_type": "code",
   "execution_count": 12,
   "metadata": {},
   "outputs": [
    {
     "name": "stdout",
     "output_type": "stream",
     "text": [
      "Added 578 relationships of type IS_A\n"
     ]
    }
   ],
   "source": [
    "# Relationship IS_A between Strain and Specie\n",
    "csv_file_path = \"file:///%s\" % get_csv_path(\"strains.csv\")\n",
    "query=\"\"\"\n",
    "        LOAD CSV WITH HEADERS FROM \"%s\" AS row\n",
    "        MATCH (a:Strain { id: row.ID})\n",
    "        MATCH (c:Specie { id: row.Species })\n",
    "        MERGE (a)-[:IS_A]->(c)\n",
    "    \"\"\" % csv_file_path\n",
    "\n",
    "with driver.session() as session:\n",
    "    session.run(query)\n",
    "    get_count_of_relationship(\"IS_A\", session)\n"
   ]
  },
  {
   "cell_type": "code",
   "execution_count": null,
   "metadata": {},
   "outputs": [],
   "source": []
  }
 ],
 "metadata": {
  "kernelspec": {
   "display_name": "Python 3",
   "language": "python",
   "name": "python3"
  },
  "language_info": {
   "codemirror_mode": {
    "name": "ipython",
    "version": 3
   },
   "file_extension": ".py",
   "mimetype": "text/x-python",
   "name": "python",
   "nbconvert_exporter": "python",
   "pygments_lexer": "ipython3",
   "version": "3.7.4"
  }
 },
 "nbformat": 4,
 "nbformat_minor": 4
}
