{
 "cells": [
  {
   "cell_type": "code",
   "execution_count": 15,
   "metadata": {},
   "outputs": [
    {
     "name": "stdout",
     "output_type": "stream",
     "text": [
      "Similarities stored in /region_similarity.csv\n"
     ]
    }
   ],
   "source": [
    "import pandas as pd\n",
    "import re \n",
    "import itertools\n",
    "from difflib import SequenceMatcher\n",
    "\n",
    "root = \"Data/csvs/basal_ganglia/regions\"\n",
    "sim_csv_loc = \"/region_similarity.csv\"\n",
    "\n",
    "\n",
    "def similar(a, b):\n",
    "    return SequenceMatcher(None, a, b).ratio()\n",
    "\n",
    "\n",
    "## Prepare regions and regions_other csvs\n",
    "df_all_regions = pd.read_csv(root + \"/all_regions.csv\", dtype=\"object\")\n",
    "\n",
    "df = pd.DataFrame(columns = [\"ID1\", \"Region_name_1\", \"ID2\", \"Region_name_2\", \"Sim\"])\n",
    "\n",
    "# Put region names and ID into tuple list \n",
    "subset = df_all_regions[[\"ID\", \"Region_name\"]]\n",
    "region_name_tuples = [tuple(x) for x in subset.to_numpy()]\n",
    "\n",
    "# Find all combinations of region_names and look at similarity in name\n",
    "for a, b in itertools.combinations(region_name_tuples, 2):\n",
    "    id1, reg1 = a\n",
    "    id2, reg2 = b\n",
    "    sim_score = similar(reg1, reg2)\n",
    "    \n",
    "    if(sim_score > 0.7):\n",
    "        a_row = pd.Series([id1, reg1, id2, reg2, sim_score], index = [\"ID1\", \"Region_name_1\", \"ID2\", \"Region_name_2\", \"Sim\"])\n",
    "        df = df.append(a_row, ignore_index=True)\n",
    "\n",
    "\n",
    "# Store similarities\n",
    "df_sorted = df.sort_values('Sim')\n",
    "df_sorted.to_csv(root + sim_csv_loc, encoding='utf-8')\n",
    "\n",
    "print(\"Similarities stored in\", sim_csv_loc)"
   ]
  },
  {
   "cell_type": "code",
   "execution_count": 23,
   "metadata": {},
   "outputs": [],
   "source": [
    "def get_count_of_type(label, session):\n",
    "    q = \"MATCH (n:%s) RETURN count(n)\" % label\n",
    "    res = session.run(q)\n",
    "    print(\"Added\", res.value()[0], \"nodes of type\", label)\n",
    "    \n",
    "def get_count_of_relationship(label, session):\n",
    "    q = \"MATCH ()-[r:%s]-() RETURN count(*)\" %label\n",
    "    res = session.run(q)\n",
    "    print(\"Added\", res.value()[0], \"relationships of type\", label)\n",
    "\n",
    "def get_csv_path(csv_file):\n",
    "    path_all_csv = os.path.realpath(\"Data/csvs/basal_ganglia/regions\")\n",
    "    return os.path.join(path_all_csv, csv_file).replace(\"\\\\\",\"/\")\n",
    "\n"
   ]
  },
  {
   "cell_type": "code",
   "execution_count": 24,
   "metadata": {},
   "outputs": [
    {
     "name": "stderr",
     "output_type": "stream",
     "text": [
      "Failed to write data to connection Address(host='localhost', port=7687) (Address(host='127.0.0.1', port=7687)); (\"0; 'Underlying socket connection gone (_ssl.c:2283)'\")\n",
      "Failed to write data to connection Address(host='localhost', port=7687) (Address(host='127.0.0.1', port=7687)); (\"0; 'Underlying socket connection gone (_ssl.c:2283)'\")\n"
     ]
    },
    {
     "name": "stdout",
     "output_type": "stream",
     "text": [
      "Added 7210 relationships of type EQUALS\n"
     ]
    }
   ],
   "source": [
    "## Then find the regions that correspond to each other and stor that in a new CSV file\n",
    "\n",
    "# Add relation to all areas that define positions\n",
    "positioning = [\"caudal\", \"rostral\", \"ventral\", \"dorsal\"]\n",
    "area_describing = [\"internal\", \"compact\", \"core\", \"shell\"]\n",
    "\n",
    "df_sims = pd.read_csv(root + sim_csv_loc, converters = {\"Sims\": float})\n",
    "\n",
    "# ALl with score above 0.95 are the same\n",
    "    # Also the same: Substantia innominata, basal\",103,\"Substantia innominata, basal part\" 0.91\n",
    "    \n",
    "df_equals = df_sims.loc[df_sims['Sim'] > 0.95]\n",
    "df_sorted.to_csv(root + \"/regions_equal.csv\", encoding='utf-8')\n",
    "\n",
    "from neo4j import GraphDatabase, basic_auth\n",
    "import os\n",
    "\n",
    "driver = GraphDatabase.driver(\"bolt://localhost:7687\",auth=basic_auth(\"neo4j\", \"Kaffe1234\"))\n",
    "\n",
    "# Relationship EQUALS between equal BrainRegion nodes\n",
    "csv_file_path = \"file:///%s\" % get_csv_path(\"regions_equal.csv\")\n",
    "query=\"\"\"\n",
    "        LOAD CSV WITH HEADERS FROM \"%s\" AS row\n",
    "        MATCH (a:BrainRegion {id: row.ID1})\n",
    "        MATCH (c:BrainRegion {id: row.ID2 })\n",
    "        MERGE (a)-[:EQUALS]->(c)\n",
    "    \"\"\" % csv_file_path\n",
    "\n",
    "with driver.session() as session:\n",
    "    session.run(query)\n",
    "    get_count_of_relationship(\"EQUALS\", session)\n",
    "\n",
    "## TODO add rel for belongs-to/part of \n"
   ]
  },
  {
   "cell_type": "code",
   "execution_count": null,
   "metadata": {},
   "outputs": [],
   "source": []
  }
 ],
 "metadata": {
  "kernelspec": {
   "display_name": "Python 3",
   "language": "python",
   "name": "python3"
  },
  "language_info": {
   "codemirror_mode": {
    "name": "ipython",
    "version": 3
   },
   "file_extension": ".py",
   "mimetype": "text/x-python",
   "name": "python",
   "nbconvert_exporter": "python",
   "pygments_lexer": "ipython3",
   "version": "3.7.4"
  }
 },
 "nbformat": 4,
 "nbformat_minor": 4
}
